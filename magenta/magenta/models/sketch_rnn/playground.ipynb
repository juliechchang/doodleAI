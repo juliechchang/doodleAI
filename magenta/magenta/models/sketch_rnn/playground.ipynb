{
 "cells": [
  {
   "cell_type": "code",
   "execution_count": 1,
   "metadata": {},
   "outputs": [],
   "source": [
    "# import the required libraries\n",
    "import numpy as np\n",
    "import time\n",
    "import random\n",
    "import cPickle\n",
    "import codecs\n",
    "import collections\n",
    "import os\n",
    "import math\n",
    "import json\n",
    "import tensorflow as tf\n",
    "from six.moves import xrange\n",
    "%load_ext autoreload\n",
    "%autoreload 2\n",
    "\n",
    "#os.environ[\"CUDA_VISIBLE_DEVICES\"]=\"1\"\n",
    "\n",
    "# libraries required for visualisation:\n",
    "from IPython.display import SVG, display\n",
    "import svgwrite # conda install -c omnia svgwrite=1.1.6\n",
    "import PIL\n",
    "from PIL import Image\n",
    "import matplotlib.pyplot as plt\n",
    "% matplotlib inline\n",
    "\n",
    "# set numpy output to something sensible\n",
    "np.set_printoptions(precision=8, edgeitems=6, linewidth=200, suppress=True)\n",
    "\n"
   ]
  },
  {
   "cell_type": "code",
   "execution_count": 2,
   "metadata": {},
   "outputs": [],
   "source": [
    "# import our command line tools\n",
    "from sketch_rnn_train import *\n",
    "from model_mod import *\n",
    "from utils import *\n",
    "from rnn import *"
   ]
  },
  {
   "cell_type": "code",
   "execution_count": 3,
   "metadata": {},
   "outputs": [],
   "source": [
    "# little function that displays vector images and saves them to .svg\n",
    "def draw_strokes(data, color=\"black\", doGradient=False, endColor=\"black\", factor=0.2, svg_filename = 'svg/sample.svg'):\n",
    "    tf.gfile.MakeDirs(os.path.dirname(svg_filename))\n",
    "    min_x, max_x, min_y, max_y = get_bounds(data, factor)\n",
    "    dims = (50 + max_x - min_x, 50 + max_y - min_y)\n",
    "    dwg = svgwrite.Drawing(svg_filename, size=dims)\n",
    "    dwg.add(dwg.rect(insert=(0, 0), size=dims,fill='white'))\n",
    "    lift_pen = 1\n",
    "    abs_x = 25 - min_x \n",
    "    abs_y = 25 - min_y\n",
    "    p = \"M%s,%s \" % (abs_x, abs_y)\n",
    "    command = \"m\"\n",
    "    for i in xrange(len(data)):\n",
    "        if (lift_pen == 1):\n",
    "            command = \"m\"\n",
    "        elif (command != \"l\"):\n",
    "            command = \"l\"\n",
    "        else:\n",
    "            command = \"\"\n",
    "        x = float(data[i,0])/factor\n",
    "        y = float(data[i,1])/factor\n",
    "        lift_pen = data[i, 2]\n",
    "        p += command+str(x)+\",\"+str(y)+\" \"\n",
    "    \n",
    "    the_color = color\n",
    "    stroke_width = 1\n",
    "    dwg.add(dwg.path(p).stroke(the_color,stroke_width).fill(\"none\"))\n",
    "    dwg.save()\n",
    "    display(SVG(dwg.tostring()))\n",
    "    \n",
    "\n",
    "# generate a 2D grid of many vector drawings\n",
    "def make_grid_svg(s_list, grid_space=10.0, grid_space_x=16.0):\n",
    "  def get_start_and_end(x):\n",
    "    x = np.array(x)\n",
    "    x = x[:, 0:2]\n",
    "    x_start = x[0]\n",
    "    x_end = x.sum(axis=0)\n",
    "    x = x.cumsum(axis=0)\n",
    "    x_max = x.max(axis=0)\n",
    "    x_min = x.min(axis=0)\n",
    "    center_loc = (x_max+x_min)*0.5\n",
    "    return x_start-center_loc, x_end\n",
    "  x_pos = 0.0\n",
    "  y_pos = 0.0\n",
    "  result = [[x_pos, y_pos, 1]]\n",
    "\n",
    "  #for each reconstruction\n",
    "  for sample in s_list:\n",
    "    s = sample[0]\n",
    "    grid_loc = sample[1]\n",
    "    grid_y = grid_loc[0]*grid_space+grid_space*0.5\n",
    "    grid_x = grid_loc[1]*grid_space_x+grid_space_x*0.5\n",
    "    start_loc, delta_pos = get_start_and_end(s)\n",
    "\n",
    "    loc_x = start_loc[0]\n",
    "    loc_y = start_loc[1]\n",
    "    new_x_pos = grid_x+loc_x\n",
    "    new_y_pos = grid_y+loc_y\n",
    "    result.append([new_x_pos-x_pos, new_y_pos-y_pos, 0])\n",
    "\n",
    "    result += s.tolist()\n",
    "    result[-1][2] = 1\n",
    "    x_pos = new_x_pos+delta_pos[0]\n",
    "    y_pos = new_y_pos+delta_pos[1]\n",
    "  return np.array(result)"
   ]
  },
  {
   "cell_type": "code",
   "execution_count": 4,
   "metadata": {},
   "outputs": [],
   "source": [
    "def encode(input_strokes):\n",
    "  strokes = to_big_strokes(input_strokes).tolist()\n",
    "  strokes.insert(0, [0, 0, 1, 0, 0])\n",
    "  seq_len = [len(input_strokes)]\n",
    "  draw_strokes(to_normal_strokes(np.array(strokes)))\n",
    "  return sess.run(eval_model.batch_z, feed_dict={eval_model.input_data: [strokes], eval_model.sequence_lengths: seq_len})[0]\n",
    "\n",
    "#latent vector to stroke\n",
    "def decode(z_input=None, draw_mode=True, temperature=0.1, factor=0.2):\n",
    "  z = None\n",
    "  if z_input is not None:\n",
    "    z = [z_input]\n",
    "  sample_strokes, m, _, _ = sample(sess, sample_model, seq_len=eval_model.hps.max_seq_len, temperature=temperature, z=z)\n",
    "  strokes = to_normal_strokes(sample_strokes)\n",
    "  if draw_mode:\n",
    "    draw_strokes(strokes, factor)\n",
    "  return strokes\n"
   ]
  },
  {
   "cell_type": "code",
   "execution_count": 5,
   "metadata": {},
   "outputs": [
    {
     "name": "stdout",
     "output_type": "stream",
     "text": [
      "INFO:tensorflow:Model using gpu.\n",
      "INFO:tensorflow:Input dropout mode = False.\n",
      "INFO:tensorflow:Output dropout mode = False.\n",
      "INFO:tensorflow:Recurrent dropout mode = True.\n",
      "INFO:tensorflow:Model using gpu.\n",
      "INFO:tensorflow:Input dropout mode = 0.\n",
      "INFO:tensorflow:Output dropout mode = 0.\n",
      "INFO:tensorflow:Recurrent dropout mode = 0.\n",
      "INFO:tensorflow:Model using gpu.\n",
      "INFO:tensorflow:Input dropout mode = 0.\n",
      "INFO:tensorflow:Output dropout mode = 0.\n",
      "INFO:tensorflow:Recurrent dropout mode = 0.\n"
     ]
    }
   ],
   "source": [
    "model_dir = 'checkpoint_path/cat'\n",
    "[hps_model, eval_hps_model, sample_hps_model] = load_model(model_dir)\n",
    "# construct the sketch-rnn model here:\n",
    "reset_graph()\n",
    "model = Model(hps_model)\n",
    "eval_model = Model(eval_hps_model, reuse=True)\n",
    "sample_model = Model(sample_hps_model, reuse=True)"
   ]
  },
  {
   "cell_type": "code",
   "execution_count": 6,
   "metadata": {},
   "outputs": [
    {
     "name": "stdout",
     "output_type": "stream",
     "text": [
      "INFO:tensorflow:Loading model checkpoint_path/cat/vector-200000.\n",
      "INFO:tensorflow:Restoring parameters from checkpoint_path/cat/vector-200000\n"
     ]
    }
   ],
   "source": [
    "sess = tf.InteractiveSession()\n",
    "sess.run(tf.global_variables_initializer())\n",
    "# loads the weights from checkpoint into our model\n",
    "load_checkpoint(sess, model_dir)\n"
   ]
  },
  {
   "cell_type": "code",
   "execution_count": 7,
   "metadata": {},
   "outputs": [
    {
     "ename": "NotFoundError",
     "evalue": "cat.full.npz/model_config.json",
     "output_type": "error",
     "traceback": [
      "\u001b[0;31m------------------------------------------------------------\u001b[0m",
      "\u001b[0;31mNotFoundError\u001b[0m              Traceback (most recent call last)",
      "\u001b[0;32m<ipython-input-7-1cc205c8b433>\u001b[0m in \u001b[0;36m<module>\u001b[0;34m()\u001b[0m\n\u001b[1;32m      2\u001b[0m \u001b[0mdata_dir\u001b[0m \u001b[0;34m=\u001b[0m \u001b[0;34m'datasets/'\u001b[0m\u001b[0;34m\u001b[0m\u001b[0m\n\u001b[1;32m      3\u001b[0m \u001b[0mmodel_dir\u001b[0m \u001b[0;34m=\u001b[0m \u001b[0;34m'cat.full.npz'\u001b[0m\u001b[0;34m\u001b[0m\u001b[0m\n\u001b[0;32m----> 4\u001b[0;31m \u001b[0;34m[\u001b[0m\u001b[0mtrain_set\u001b[0m\u001b[0;34m,\u001b[0m \u001b[0mvalid_set\u001b[0m\u001b[0;34m,\u001b[0m \u001b[0mtest_set\u001b[0m\u001b[0;34m,\u001b[0m \u001b[0mhps_model\u001b[0m\u001b[0;34m,\u001b[0m \u001b[0meval_hps_model\u001b[0m\u001b[0;34m,\u001b[0m \u001b[0msample_hps_model\u001b[0m\u001b[0;34m]\u001b[0m \u001b[0;34m=\u001b[0m \u001b[0mload_env\u001b[0m\u001b[0;34m(\u001b[0m\u001b[0mdata_dir\u001b[0m\u001b[0;34m,\u001b[0m \u001b[0mmodel_dir\u001b[0m\u001b[0;34m)\u001b[0m\u001b[0;34m\u001b[0m\u001b[0m\n\u001b[0m",
      "\u001b[0;32m/home/julie/Dropbox/Courses/CS221/doodleAI/magenta/magenta/models/sketch_rnn/sketch_rnn_train.pyc\u001b[0m in \u001b[0;36mload_env\u001b[0;34m(data_dir, model_dir)\u001b[0m\n\u001b[1;32m     78\u001b[0m   \u001b[0mmodel_params\u001b[0m \u001b[0;34m=\u001b[0m \u001b[0msketch_rnn_model\u001b[0m\u001b[0;34m.\u001b[0m\u001b[0mget_default_hparams\u001b[0m\u001b[0;34m(\u001b[0m\u001b[0;34m)\u001b[0m\u001b[0;34m\u001b[0m\u001b[0m\n\u001b[1;32m     79\u001b[0m   \u001b[0;32mwith\u001b[0m \u001b[0mtf\u001b[0m\u001b[0;34m.\u001b[0m\u001b[0mgfile\u001b[0m\u001b[0;34m.\u001b[0m\u001b[0mOpen\u001b[0m\u001b[0;34m(\u001b[0m\u001b[0mos\u001b[0m\u001b[0;34m.\u001b[0m\u001b[0mpath\u001b[0m\u001b[0;34m.\u001b[0m\u001b[0mjoin\u001b[0m\u001b[0;34m(\u001b[0m\u001b[0mmodel_dir\u001b[0m\u001b[0;34m,\u001b[0m \u001b[0;34m'model_config.json'\u001b[0m\u001b[0;34m)\u001b[0m\u001b[0;34m,\u001b[0m \u001b[0;34m'r'\u001b[0m\u001b[0;34m)\u001b[0m \u001b[0;32mas\u001b[0m \u001b[0mf\u001b[0m\u001b[0;34m:\u001b[0m\u001b[0;34m\u001b[0m\u001b[0m\n\u001b[0;32m---> 80\u001b[0;31m     \u001b[0mmodel_params\u001b[0m\u001b[0;34m.\u001b[0m\u001b[0mparse_json\u001b[0m\u001b[0;34m(\u001b[0m\u001b[0mf\u001b[0m\u001b[0;34m.\u001b[0m\u001b[0mread\u001b[0m\u001b[0;34m(\u001b[0m\u001b[0;34m)\u001b[0m\u001b[0;34m)\u001b[0m\u001b[0;34m\u001b[0m\u001b[0m\n\u001b[0m\u001b[1;32m     81\u001b[0m   \u001b[0;32mreturn\u001b[0m \u001b[0mload_dataset\u001b[0m\u001b[0;34m(\u001b[0m\u001b[0mdata_dir\u001b[0m\u001b[0;34m,\u001b[0m \u001b[0mmodel_params\u001b[0m\u001b[0;34m,\u001b[0m \u001b[0minference_mode\u001b[0m\u001b[0;34m=\u001b[0m\u001b[0mTrue\u001b[0m\u001b[0;34m)\u001b[0m\u001b[0;34m\u001b[0m\u001b[0m\n\u001b[1;32m     82\u001b[0m \u001b[0;34m\u001b[0m\u001b[0m\n",
      "\u001b[0;32m/home/julie/anaconda/envs/py27/lib/python2.7/site-packages/tensorflow/python/lib/io/file_io.pyc\u001b[0m in \u001b[0;36mread\u001b[0;34m(self, n)\u001b[0m\n\u001b[1;32m    116\u001b[0m       \u001b[0mstring\u001b[0m \u001b[0;32mif\u001b[0m \u001b[0;32min\u001b[0m \u001b[0mstring\u001b[0m \u001b[0;34m(\u001b[0m\u001b[0mregular\u001b[0m\u001b[0;34m)\u001b[0m \u001b[0mmode\u001b[0m\u001b[0;34m.\u001b[0m\u001b[0;34m\u001b[0m\u001b[0m\n\u001b[1;32m    117\u001b[0m     \"\"\"\n\u001b[0;32m--> 118\u001b[0;31m     \u001b[0mself\u001b[0m\u001b[0;34m.\u001b[0m\u001b[0m_preread_check\u001b[0m\u001b[0;34m(\u001b[0m\u001b[0;34m)\u001b[0m\u001b[0;34m\u001b[0m\u001b[0m\n\u001b[0m\u001b[1;32m    119\u001b[0m     \u001b[0;32mwith\u001b[0m \u001b[0merrors\u001b[0m\u001b[0;34m.\u001b[0m\u001b[0mraise_exception_on_not_ok_status\u001b[0m\u001b[0;34m(\u001b[0m\u001b[0;34m)\u001b[0m \u001b[0;32mas\u001b[0m \u001b[0mstatus\u001b[0m\u001b[0;34m:\u001b[0m\u001b[0;34m\u001b[0m\u001b[0m\n\u001b[1;32m    120\u001b[0m       \u001b[0;32mif\u001b[0m \u001b[0mn\u001b[0m \u001b[0;34m==\u001b[0m \u001b[0;34m-\u001b[0m\u001b[0;36m1\u001b[0m\u001b[0;34m:\u001b[0m\u001b[0;34m\u001b[0m\u001b[0m\n",
      "\u001b[0;32m/home/julie/anaconda/envs/py27/lib/python2.7/site-packages/tensorflow/python/lib/io/file_io.pyc\u001b[0m in \u001b[0;36m_preread_check\u001b[0;34m(self)\u001b[0m\n\u001b[1;32m     76\u001b[0m       \u001b[0;32mwith\u001b[0m \u001b[0merrors\u001b[0m\u001b[0;34m.\u001b[0m\u001b[0mraise_exception_on_not_ok_status\u001b[0m\u001b[0;34m(\u001b[0m\u001b[0;34m)\u001b[0m \u001b[0;32mas\u001b[0m \u001b[0mstatus\u001b[0m\u001b[0;34m:\u001b[0m\u001b[0;34m\u001b[0m\u001b[0m\n\u001b[1;32m     77\u001b[0m         self._read_buf = pywrap_tensorflow.CreateBufferedInputStream(\n\u001b[0;32m---> 78\u001b[0;31m             compat.as_bytes(self.__name), 1024 * 512, status)\n\u001b[0m\u001b[1;32m     79\u001b[0m \u001b[0;34m\u001b[0m\u001b[0m\n\u001b[1;32m     80\u001b[0m   \u001b[0;32mdef\u001b[0m \u001b[0m_prewrite_check\u001b[0m\u001b[0;34m(\u001b[0m\u001b[0mself\u001b[0m\u001b[0;34m)\u001b[0m\u001b[0;34m:\u001b[0m\u001b[0;34m\u001b[0m\u001b[0m\n",
      "\u001b[0;32m/home/julie/anaconda/envs/py27/lib/python2.7/contextlib.pyc\u001b[0m in \u001b[0;36m__exit__\u001b[0;34m(self, type, value, traceback)\u001b[0m\n\u001b[1;32m     22\u001b[0m         \u001b[0;32mif\u001b[0m \u001b[0mtype\u001b[0m \u001b[0;32mis\u001b[0m \u001b[0mNone\u001b[0m\u001b[0;34m:\u001b[0m\u001b[0;34m\u001b[0m\u001b[0m\n\u001b[1;32m     23\u001b[0m             \u001b[0;32mtry\u001b[0m\u001b[0;34m:\u001b[0m\u001b[0;34m\u001b[0m\u001b[0m\n\u001b[0;32m---> 24\u001b[0;31m                 \u001b[0mself\u001b[0m\u001b[0;34m.\u001b[0m\u001b[0mgen\u001b[0m\u001b[0;34m.\u001b[0m\u001b[0mnext\u001b[0m\u001b[0;34m(\u001b[0m\u001b[0;34m)\u001b[0m\u001b[0;34m\u001b[0m\u001b[0m\n\u001b[0m\u001b[1;32m     25\u001b[0m             \u001b[0;32mexcept\u001b[0m \u001b[0mStopIteration\u001b[0m\u001b[0;34m:\u001b[0m\u001b[0;34m\u001b[0m\u001b[0m\n\u001b[1;32m     26\u001b[0m                 \u001b[0;32mreturn\u001b[0m\u001b[0;34m\u001b[0m\u001b[0m\n",
      "\u001b[0;32m/home/julie/anaconda/envs/py27/lib/python2.7/site-packages/tensorflow/python/framework/errors_impl.pyc\u001b[0m in \u001b[0;36mraise_exception_on_not_ok_status\u001b[0;34m()\u001b[0m\n\u001b[1;32m    464\u001b[0m           \u001b[0mNone\u001b[0m\u001b[0;34m,\u001b[0m \u001b[0mNone\u001b[0m\u001b[0;34m,\u001b[0m\u001b[0;34m\u001b[0m\u001b[0m\n\u001b[1;32m    465\u001b[0m           \u001b[0mcompat\u001b[0m\u001b[0;34m.\u001b[0m\u001b[0mas_text\u001b[0m\u001b[0;34m(\u001b[0m\u001b[0mpywrap_tensorflow\u001b[0m\u001b[0;34m.\u001b[0m\u001b[0mTF_Message\u001b[0m\u001b[0;34m(\u001b[0m\u001b[0mstatus\u001b[0m\u001b[0;34m)\u001b[0m\u001b[0;34m)\u001b[0m\u001b[0;34m,\u001b[0m\u001b[0;34m\u001b[0m\u001b[0m\n\u001b[0;32m--> 466\u001b[0;31m           pywrap_tensorflow.TF_GetCode(status))\n\u001b[0m\u001b[1;32m    467\u001b[0m   \u001b[0;32mfinally\u001b[0m\u001b[0;34m:\u001b[0m\u001b[0;34m\u001b[0m\u001b[0m\n\u001b[1;32m    468\u001b[0m     \u001b[0mpywrap_tensorflow\u001b[0m\u001b[0;34m.\u001b[0m\u001b[0mTF_DeleteStatus\u001b[0m\u001b[0;34m(\u001b[0m\u001b[0mstatus\u001b[0m\u001b[0;34m)\u001b[0m\u001b[0;34m\u001b[0m\u001b[0m\n",
      "\u001b[0;31mNotFoundError\u001b[0m: cat.full.npz/model_config.json"
     ]
    }
   ],
   "source": [
    "# randomly unconditionally generate 10 examples from test set\n",
    "data_dir = 'datasets/'\n",
    "[train_set, valid_set, test_set, hps_model, eval_hps_model, sample_hps_model] = load_env(data_dir, model_dir)\n"
   ]
  },
  {
   "cell_type": "code",
   "execution_count": 8,
   "metadata": {},
   "outputs": [
    {
     "ename": "NameError",
     "evalue": "name 'model_params' is not defined",
     "output_type": "error",
     "traceback": [
      "\u001b[0;31m------------------------------------------------------------\u001b[0m",
      "\u001b[0;31mNameError\u001b[0m                  Traceback (most recent call last)",
      "\u001b[0;32m<ipython-input-8-87b883462042>\u001b[0m in \u001b[0;36m<module>\u001b[0;34m()\u001b[0m\n\u001b[1;32m     29\u001b[0m \u001b[0mims\u001b[0m \u001b[0;34m=\u001b[0m \u001b[0;34m[\u001b[0m\u001b[0;34m]\u001b[0m\u001b[0;34m\u001b[0m\u001b[0m\n\u001b[1;32m     30\u001b[0m \u001b[0;34m\u001b[0m\u001b[0m\n\u001b[0;32m---> 31\u001b[0;31m \u001b[0mtrain_set\u001b[0m \u001b[0;34m=\u001b[0m \u001b[0mload_dataset\u001b[0m\u001b[0;34m(\u001b[0m\u001b[0mdata_dir\u001b[0m\u001b[0;34m,\u001b[0m \u001b[0mmodel_params\u001b[0m\u001b[0;34m,\u001b[0m \u001b[0minference_mode\u001b[0m\u001b[0;34m=\u001b[0m\u001b[0mTrue\u001b[0m\u001b[0;34m)\u001b[0m\u001b[0;34m\u001b[0m\u001b[0m\n\u001b[0m\u001b[1;32m     32\u001b[0m \u001b[0;34m\u001b[0m\u001b[0m\n\u001b[1;32m     33\u001b[0m \u001b[0mfig\u001b[0m \u001b[0;34m=\u001b[0m \u001b[0mplt\u001b[0m\u001b[0;34m.\u001b[0m\u001b[0msubplots\u001b[0m\u001b[0;34m(\u001b[0m\u001b[0mnrows\u001b[0m\u001b[0;34m=\u001b[0m\u001b[0;36m1\u001b[0m\u001b[0;34m,\u001b[0m \u001b[0mncols\u001b[0m\u001b[0;34m=\u001b[0m\u001b[0mN\u001b[0m\u001b[0;34m,\u001b[0m \u001b[0mfigsize\u001b[0m\u001b[0;34m=\u001b[0m\u001b[0;34m(\u001b[0m\u001b[0;36m6\u001b[0m\u001b[0;34m,\u001b[0m\u001b[0;36m1\u001b[0m\u001b[0;34m)\u001b[0m\u001b[0;34m)\u001b[0m\u001b[0;34m\u001b[0m\u001b[0m\n",
      "\u001b[0;31mNameError\u001b[0m: name 'model_params' is not defined"
     ]
    }
   ],
   "source": [
    "def draw_strokes_gradient(data, n, n_examples, factor = .2):\n",
    "    \n",
    "    x = 0\n",
    "    y = 0\n",
    "    s = 0\n",
    "    imagex = [[x]]\n",
    "    imagey = [[y]]\n",
    "    for i in range(len(data)):\n",
    "        x += data[i][0]*factor\n",
    "        y += data[i][1]*factor\n",
    "        imagex[s].append(x)\n",
    "        imagey[s].append(y)\n",
    "        if data[i][2] == 1:\n",
    "            s += 1\n",
    "            imagex.append([])\n",
    "            imagey.append([])\n",
    "    \n",
    "    n_strokes = len(imagex)\n",
    "    plt.subplot(1,n_examples,n+1)\n",
    "    plt.gca().invert_yaxis()\n",
    "    plt.axis(\"off\")\n",
    "    plt.axis(\"equal\")\n",
    "    colors = [(.1 + j*.9/n_strokes, .15, 1 - j*.9/n_strokes) for j in range(n_strokes)]\n",
    "    for j in range(n_strokes):\n",
    "        plt.plot(imagex[j], imagey[j], color = colors[j], linewidth = 1)\n",
    "\n",
    "\n",
    "N =  8\n",
    "ims = []\n",
    "\n",
    "train_set = load_dataset(data_dir, model_params, inference_mode=True)\n",
    "\n",
    "fig = plt.subplots(nrows=1, ncols=N, figsize=(6,1))\n",
    "for i in range(N):\n",
    "    im = train_set.strokes[10]\n",
    "    #im = test_set.random_sample()\n",
    "    ims.append([im, [0, i]])\n",
    "    draw_strokes_gradient(im, i, N)\n",
    "# plt.savefig('results/progress/mosquito_data.pdf', bbox_inches='tight')"
   ]
  },
  {
   "cell_type": "code",
   "execution_count": 14,
   "metadata": {},
   "outputs": [
    {
     "name": "stdout",
     "output_type": "stream",
     "text": [
      "INFO:tensorflow:Loading model checkpoint_path/cat/vector-200000.\n",
      "INFO:tensorflow:Restoring parameters from checkpoint_path/cat/vector-200000\n"
     ]
    },
    {
     "data": {
      "image/png": "[encoded data removed]",
      "text/plain": [
       "<matplotlib.figure.Figure at 0x7f52180edb50>"
      ]
     },
     "metadata": {},
     "output_type": "display_data"
    }
   ],
   "source": [
    "# randomly unconditionally generate N examples\n",
    "# loads the weights from checkpoint into our model\n",
    "load_checkpoint(sess, model_dir)\n",
    "fig = plt.subplots(nrows=1, ncols=N, figsize=(6,1))\n",
    "reconstructions = []\n",
    "for i in range(N):\n",
    "    sample_strokes, m, hidden_states, final_x = sample(sess, sample_model, temperature=.2)\n",
    "    strokes = to_normal_strokes(sample_strokes)\n",
    "    draw_strokes_gradient(strokes, i, N)\n",
    "#plt.savefig('results/progress/mosquito_recon_5000.pdf', bbox_inches='tight')\n",
    "\n"
   ]
  },
  {
   "cell_type": "code",
   "execution_count": 16,
   "metadata": {},
   "outputs": [
    {
     "name": "stdout",
     "output_type": "stream",
     "text": [
      "100\n"
     ]
    },
    {
     "data": {
      "image/svg+xml": [
       "<svg baseProfile=\"full\" height=\"99.0622453049\" version=\"1.1\" width=\"82.781786304\" xmlns=\"http://www.w3.org/2000/svg\" xmlns:ev=\"http://www.w3.org/2001/xml-events\" xmlns:xlink=\"http://www.w3.org/1999/xlink\"><defs/><rect fill=\"white\" height=\"99.0622453049\" width=\"82.781786304\" x=\"0\" y=\"0\"/><path d=\"M42.6545961201,37.8891582817 m-1.1890424788,-0.778505727649 l-2.72425234318,-0.756907984614 -5.36743819714,0.461309291422 l-1.28263235092,0.894498378038 -4.13228482008,5.45237541199 l-2.25535348058,5.42332172394 -0.703592449427,4.92901235819 l0.100177619606,8.70874643326 1.82911604643,6.95698678493 l1.15296982229,2.10261106491 1.42574205995,1.49555325508 l1.82138323784,0.85293918848 4.97556686401,0.431146845222 l7.62359142303,-4.98958570461e-05 3.25225412846,-0.838335603476 l3.36989760399,-2.06473454833 1.8968680501,-2.22836852074 l3.49902838469,-7.02646970749 1.45422145724,-5.57401359081 l0.38096960634,-2.48881742358 -0.0706781353801,-1.59249022603 l-0.8396769315,-3.20352762938 -3.63320529461,-7.37733542919 l-1.90988302231,-2.28771030903 -2.59148776531,-1.64527356625 l-3.65983039141,-1.57276660204 -3.25115799904,8.05784509339e-06 l0.0418231450021,-6.52480661869 m-14.0276610851,11.1998951435 l-0.856920406222,-5.07736265659 -0.409473665059,-5.42869329453 l0.169294606894,-3.11616688967 1.40478819609,-2.21522599459 \" fill=\"none\" stroke=\"black\" stroke-width=\"1\"/></svg>"
      ],
      "text/plain": [
       "<IPython.core.display.SVG object>"
      ]
     },
     "metadata": {},
     "output_type": "display_data"
    },
    {
     "data": {
      "image/svg+xml": [
       "<svg baseProfile=\"full\" height=\"100.81687758\" version=\"1.1\" width=\"94.0305000916\" xmlns=\"http://www.w3.org/2000/svg\" xmlns:ev=\"http://www.w3.org/2001/xml-events\" xmlns:xlink=\"http://www.w3.org/1999/xlink\"><defs/><rect fill=\"white\" height=\"100.81687758\" width=\"94.0305000916\" x=\"0\" y=\"0\"/><path d=\"M47.9881865019,39.6437905573 m-1.1890424788,-0.778505727649 l-2.72425234318,-0.756907984614 -5.36743819714,0.461309291422 l-1.28263235092,0.894498378038 -4.13228482008,5.45237541199 l-2.25535348058,5.42332172394 -0.703592449427,4.92901235819 l0.100177619606,8.70874643326 1.82911604643,6.95698678493 l1.15296982229,2.10261106491 1.42574205995,1.49555325508 l1.82138323784,0.85293918848 4.97556686401,0.431146845222 l7.62359142303,-4.98958570461e-05 3.25225412846,-0.838335603476 l3.36989760399,-2.06473454833 1.8968680501,-2.22836852074 l3.49902838469,-7.02646970749 1.45422145724,-5.57401359081 l0.38096960634,-2.48881742358 -0.0706781353801,-1.59249022603 l-0.8396769315,-3.20352762938 -3.63320529461,-7.37733542919 l-1.90988302231,-2.28771030903 -2.59148776531,-1.64527356625 l-3.65983039141,-1.57276660204 -3.25115799904,8.05784509339e-06 l0.0418231450021,-6.52480661869 m-14.0276610851,11.1998951435 l-0.856920406222,-5.07736265659 -0.409473665059,-5.42869329453 l0.169294606894,-3.11616688967 1.40478819609,-2.21522599459 l1.85356616974,-1.5624320507 1.7980132997,-0.192200224847 l1.86155423522,1.004223153 1.51305839419,2.17530846596 l1.64748653769,3.13697427511 1.04532875121,5.16306757927 l0.567680597305,0.692464336753 m8.57284069061,-4.19062077999 l1.238142699,-2.42194190621 2.45335206389,-2.93498903513 l2.65053540468,-1.67607992887 4.67639327049,-0.417804531753 l1.2887327373,1.28464430571 0.57848405093,0.768407359719 l0.728260278702,3.12862068415 -0.0494070118293,3.82661223412 l-1.2231875211,3.7410312891 -1.85896977782,3.75900834799 l-1.83389902115,2.15598672628 m-28.9660811424,12.477118969 l-2.96161085367,-0.907037481666 -4.06158179045,-0.538687668741 m12.3868942261,6.34041190147 l-5.66429674625,0.298183225095 -3.0928042531,1.07434436679 l-1.3229238987,1.03036634624 -0.492607019842,0.948873534799 m11.4913463593,0.444640591741 l-4.7389665246,0.95867715776 -2.33046934009,1.41747698188 m22.2851848602,-10.8061718941 l8.46791148186,-2.33600109816 1.78112849593,-0.935614779592 m-7.5658261776,6.00960671902 l7.28791534901,-1.35684221983 4.25661116838,-1.30473330617 m-12.9450261593,7.55825698376 l6.71062409878,-1.40606895089 7.51580417156,-2.2978746891 m-27.1671938896,-9.49291944504 l-1.93761050701,-7.0653113653e-05 -2.74242579937,1.06906332076 l-0.74704259634,1.01168803871 0.0500973081216,0.69442294538 l1.05995044112,1.30442366004 1.51639729738,0.557023026049 l1.43684104085,-1.28085464239 0.213274173439,-2.85540163517 l-0.594853833318,-0.86937867105 m10.2265620232,0.554159879684 l-1.00899755955,0.372387468815 -1.73198699951,1.35050743818 l-0.534685924649,0.801359564066 -0.244055707008,1.08903691173 l1.08640521765,1.14933408797 2.01611608267,0.000571593227505 l2.85685151815,-1.3771289587 0.125522082672,-1.16718880832 l-1.23854450881,-1.65595248342 -0.788711234927,-0.369781963527 \" fill=\"none\" stroke=\"black\" stroke-width=\"1\"/></svg>"
      ],
      "text/plain": [
       "<IPython.core.display.SVG object>"
      ]
     },
     "metadata": {},
     "output_type": "display_data"
    }
   ],
   "source": [
    "#DRAW FIRST PART OF SKETCH\n",
    "#get some sample strokes\n",
    "sample_strokes_1, m, hidden_states, final_x = sample(sess, sample_model, seq_len=100, temperature=0.8) #final_state,final_x\n",
    "print(len(sample_strokes_1))\n",
    "n_strokes = np.round(len(sample_strokes_1)/3)\n",
    "sample_strokes_part = sample_strokes_1[:n_strokes]\n",
    "strokes_part = to_normal_strokes(sample_strokes_part)\n",
    "sketch_part = draw_strokes(strokes_part, factor=0.2, svg_filename = 'svg/test.svg')\n",
    "strokes_full = to_normal_strokes(sample_strokes_1)\n",
    "sketch_full = [draw_strokes(strokes_full, factor=0.2), [0, 0]]\n",
    "\n",
    "final_state = hidden_states[n_strokes]"
   ]
  },
  {
   "cell_type": "code",
   "execution_count": null,
   "metadata": {},
   "outputs": [
    {
     "data": {
      "image/svg+xml": [
       "<svg baseProfile=\"full\" height=\"99.0622453049\" version=\"1.1\" width=\"82.781786304\" xmlns=\"http://www.w3.org/2000/svg\" xmlns:ev=\"http://www.w3.org/2001/xml-events\" xmlns:xlink=\"http://www.w3.org/1999/xlink\"><defs/><rect fill=\"white\" height=\"99.0622453049\" width=\"82.781786304\" x=\"0\" y=\"0\"/><path d=\"M42.6545961201,37.8891582817 m-1.1890424788,-0.778505727649 l-2.72425234318,-0.756907984614 -5.36743819714,0.461309291422 l-1.28263235092,0.894498378038 -4.13228482008,5.45237541199 l-2.25535348058,5.42332172394 -0.703592449427,4.92901235819 l0.100177619606,8.70874643326 1.82911604643,6.95698678493 l1.15296982229,2.10261106491 1.42574205995,1.49555325508 l1.82138323784,0.85293918848 4.97556686401,0.431146845222 l7.62359142303,-4.98958570461e-05 3.25225412846,-0.838335603476 l3.36989760399,-2.06473454833 1.8968680501,-2.22836852074 l3.49902838469,-7.02646970749 1.45422145724,-5.57401359081 l0.38096960634,-2.48881742358 -0.0706781353801,-1.59249022603 l-0.8396769315,-3.20352762938 -3.63320529461,-7.37733542919 l-1.90988302231,-2.28771030903 -2.59148776531,-1.64527356625 l-3.65983039141,-1.57276660204 -3.25115799904,8.05784509339e-06 l0.0418231450021,-6.52480661869 m-14.0276610851,11.1998951435 l-0.856920406222,-5.07736265659 -0.409473665059,-5.42869329453 l0.169294606894,-3.11616688967 1.40478819609,-2.21522599459 \" fill=\"none\" stroke=\"black\" stroke-width=\"1\"/></svg>"
      ],
      "text/plain": [
       "<IPython.core.display.SVG object>"
      ]
     },
     "metadata": {},
     "output_type": "display_data"
    },
    {
     "data": {
      "image/svg+xml": [
       "<svg baseProfile=\"full\" height=\"85.920254712\" version=\"1.1\" width=\"79.91184365\" xmlns=\"http://www.w3.org/2000/svg\" xmlns:ev=\"http://www.w3.org/2001/xml-events\" xmlns:xlink=\"http://www.w3.org/1999/xlink\"><defs/><rect fill=\"white\" height=\"85.920254712\" width=\"79.91184365\" x=\"0\" y=\"0\"/><path d=\"M25,25 m0.427038483322,0.566917024553 l1.95976942778,4.97534960508 3.8442465663,7.62437522411 l0.469212010503,-0.34057687968 0.78481093049,-0.000586711794313 m12.0819067955,-2.74840593338 l0.711646452546,-1.04717426002 2.68880337477,-2.1875308454 l2.97709912062,-2.88500636816 3.96731048822,-1.73764780164 l-2.34792113304,10.6970357895 -0.361340977252,-0.654199048877 l-0.567144341767,-2.46596351266 0.103244390339,-1.28555357456 l0.484038069844,0.026249261573 0.52973780781,1.5122410655 l1.40098437667,8.74359726906 -0.226652137935,1.27289906144 l-0.271523687989,1.73383697867 m-18.7672626972,6.92102611065 l1.05353325605,0.20591231063 0.904973074794,-1.0912913084 l11.2471580505,-4.52591270208 1.33184790611,0.315938256681 l-0.396773591638,0.933348089457 m-10.2294182777,6.58175587654 l3.52827250957,-0.694906711578 2.95937240124,0.255442708731 l3.20670604706,1.62629619241 m-7.57577061653,0.994433686137 l5.44421315193,1.78543791175 1.86194568872,0.812917947769 m-14.5475769043,-9.00763392448 l-1.31744652987,-1.37507081032 -5.11690616608,-2.2262622416 \" fill=\"none\" stroke=\"black\" stroke-width=\"1\"/></svg>"
      ],
      "text/plain": [
       "<IPython.core.display.SVG object>"
      ]
     },
     "metadata": {},
     "output_type": "display_data"
    },
    {
     "data": {
      "image/svg+xml": [
       "<svg baseProfile=\"full\" height=\"99.0622453049\" version=\"1.1\" width=\"83.059561206\" xmlns=\"http://www.w3.org/2000/svg\" xmlns:ev=\"http://www.w3.org/2001/xml-events\" xmlns:xlink=\"http://www.w3.org/1999/xlink\"><defs/><rect fill=\"white\" height=\"99.0622453049\" width=\"83.059561206\" x=\"0\" y=\"0\"/><path d=\"M42.6545961201,37.8891582817 m-1.1890424788,-0.778505727649 l-2.72425234318,-0.756907984614 -5.36743819714,0.461309291422 l-1.28263235092,0.894498378038 -4.13228482008,5.45237541199 l-2.25535348058,5.42332172394 -0.703592449427,4.92901235819 l0.100177619606,8.70874643326 1.82911604643,6.95698678493 l1.15296982229,2.10261106491 1.42574205995,1.49555325508 l1.82138323784,0.85293918848 4.97556686401,0.431146845222 l7.62359142303,-4.98958570461e-05 3.25225412846,-0.838335603476 l3.36989760399,-2.06473454833 1.8968680501,-2.22836852074 l3.49902838469,-7.02646970749 1.45422145724,-5.57401359081 l0.38096960634,-2.48881742358 -0.0706781353801,-1.59249022603 l-0.8396769315,-3.20352762938 -3.63320529461,-7.37733542919 l-1.90988302231,-2.28771030903 -2.59148776531,-1.64527356625 l-3.65983039141,-1.57276660204 -3.25115799904,8.05784509339e-06 l0.0418231450021,-6.52480661869 m-14.0276610851,11.1998951435 l-0.856920406222,-5.07736265659 -0.409473665059,-5.42869329453 l0.169294606894,-3.11616688967 1.40478819609,-2.21522599459 l0.427038483322,0.566917024553 1.95976942778,4.97534960508 l3.8442465663,7.62437522411 0.469212010503,-0.34057687968 l0.78481093049,-0.000586711794313 m12.0819067955,-2.74840593338 l0.711646452546,-1.04717426002 2.68880337477,-2.1875308454 l2.97709912062,-2.88500636816 3.96731048822,-1.73764780164 l-2.34792113304,10.6970357895 -0.361340977252,-0.654199048877 l-0.567144341767,-2.46596351266 0.103244390339,-1.28555357456 l0.484038069844,0.026249261573 0.52973780781,1.5122410655 l1.40098437667,8.74359726906 -0.226652137935,1.27289906144 l-0.271523687989,1.73383697867 m-18.7672626972,6.92102611065 l1.05353325605,0.20591231063 0.904973074794,-1.0912913084 l11.2471580505,-4.52591270208 1.33184790611,0.315938256681 l-0.396773591638,0.933348089457 m-10.2294182777,6.58175587654 l3.52827250957,-0.694906711578 2.95937240124,0.255442708731 l3.20670604706,1.62629619241 m-7.57577061653,0.994433686137 l5.44421315193,1.78543791175 1.86194568872,0.812917947769 m-14.5475769043,-9.00763392448 l-1.31744652987,-1.37507081032 -5.11690616608,-2.2262622416 \" fill=\"none\" stroke=\"black\" stroke-width=\"1\"/></svg>"
      ],
      "text/plain": [
       "<IPython.core.display.SVG object>"
      ]
     },
     "metadata": {},
     "output_type": "display_data"
    }
   ],
   "source": [
    "# Encode generated strokes to a hidden state h\n",
    "strokes_0 = sample_strokes_part # dx, dx, p1, p2, p3\n",
    "\n",
    "# h_1 = sess.run(eval_model.batch_z, feed_dict={eval_model.input_data: [strokes_0], eval_model.sequence_lengths: seq_len})[0]\n",
    "reconstructions = []\n",
    "N = 8\n",
    "for i in range(N):\n",
    "    sample_strokes_2, m, _, _ = sample(sess=sess, model=sample_model, seq_len=250, temperature=0.75, prev_state = final_state)\n",
    "    strokes_2 = to_normal_strokes(sample_strokes_2)\n",
    "    all_strokes_big = np.concatenate((strokes_0,sample_strokes_2),axis=0)\n",
    "    all_strokes = to_normal_strokes(all_strokes_big)\n",
    "    if i == 0:\n",
    "        sketch_0 = [draw_strokes(strokes_part, factor=0.2), [0, 0]]\n",
    "        sketch_1 = [draw_strokes(strokes_2, factor=0.2),[0, 1]]\n",
    "        sketch_2 = [draw_strokes(all_strokes, factor=0.2),[0, 1]]\n",
    "    \n",
    "    reconstructions.append([all_strokes, [0, i]])\n",
    "    \n",
    "stroke_grid = make_grid_svg(reconstructions)\n",
    "draw_strokes(stroke_grid, factor=0.18, svg_filename = 'svg/test.svg')"
   ]
  },
  {
   "cell_type": "code",
   "execution_count": 17,
   "metadata": {},
   "outputs": [
    {
     "name": "stdout",
     "output_type": "stream",
     "text": [
      "INFO:tensorflow:Model using gpu.\n"
     ]
    },
    {
     "name": "stderr",
     "output_type": "stream",
     "text": [
      "INFO:tensorflow:Model using gpu.\n"
     ]
    },
    {
     "name": "stdout",
     "output_type": "stream",
     "text": [
      "INFO:tensorflow:Input dropout mode = False.\n"
     ]
    },
    {
     "name": "stderr",
     "output_type": "stream",
     "text": [
      "INFO:tensorflow:Input dropout mode = False.\n"
     ]
    },
    {
     "name": "stdout",
     "output_type": "stream",
     "text": [
      "INFO:tensorflow:Output dropout mode = False.\n"
     ]
    },
    {
     "name": "stderr",
     "output_type": "stream",
     "text": [
      "INFO:tensorflow:Output dropout mode = False.\n"
     ]
    },
    {
     "name": "stdout",
     "output_type": "stream",
     "text": [
      "INFO:tensorflow:Recurrent dropout mode = True.\n"
     ]
    },
    {
     "name": "stderr",
     "output_type": "stream",
     "text": [
      "INFO:tensorflow:Recurrent dropout mode = True.\n"
     ]
    },
    {
     "name": "stdout",
     "output_type": "stream",
     "text": [
      "INFO:tensorflow:Model using gpu.\n"
     ]
    },
    {
     "name": "stderr",
     "output_type": "stream",
     "text": [
      "INFO:tensorflow:Model using gpu.\n"
     ]
    },
    {
     "name": "stdout",
     "output_type": "stream",
     "text": [
      "INFO:tensorflow:Input dropout mode = 0.\n"
     ]
    },
    {
     "name": "stderr",
     "output_type": "stream",
     "text": [
      "INFO:tensorflow:Input dropout mode = 0.\n"
     ]
    },
    {
     "name": "stdout",
     "output_type": "stream",
     "text": [
      "INFO:tensorflow:Output dropout mode = 0.\n"
     ]
    },
    {
     "name": "stderr",
     "output_type": "stream",
     "text": [
      "INFO:tensorflow:Output dropout mode = 0.\n"
     ]
    },
    {
     "name": "stdout",
     "output_type": "stream",
     "text": [
      "INFO:tensorflow:Recurrent dropout mode = 0.\n"
     ]
    },
    {
     "name": "stderr",
     "output_type": "stream",
     "text": [
      "INFO:tensorflow:Recurrent dropout mode = 0.\n"
     ]
    },
    {
     "name": "stdout",
     "output_type": "stream",
     "text": [
      "INFO:tensorflow:Model using gpu.\n"
     ]
    },
    {
     "name": "stderr",
     "output_type": "stream",
     "text": [
      "INFO:tensorflow:Model using gpu.\n"
     ]
    },
    {
     "name": "stdout",
     "output_type": "stream",
     "text": [
      "INFO:tensorflow:Input dropout mode = 0.\n"
     ]
    },
    {
     "name": "stderr",
     "output_type": "stream",
     "text": [
      "INFO:tensorflow:Input dropout mode = 0.\n"
     ]
    },
    {
     "name": "stdout",
     "output_type": "stream",
     "text": [
      "INFO:tensorflow:Output dropout mode = 0.\n"
     ]
    },
    {
     "name": "stderr",
     "output_type": "stream",
     "text": [
      "INFO:tensorflow:Output dropout mode = 0.\n"
     ]
    },
    {
     "name": "stdout",
     "output_type": "stream",
     "text": [
      "INFO:tensorflow:Recurrent dropout mode = 0.\n"
     ]
    },
    {
     "name": "stderr",
     "output_type": "stream",
     "text": [
      "INFO:tensorflow:Recurrent dropout mode = 0.\n"
     ]
    },
    {
     "name": "stdout",
     "output_type": "stream",
     "text": [
      "INFO:tensorflow:Loading model checkpoint_path/broccoli/vector-185000.\n"
     ]
    },
    {
     "name": "stderr",
     "output_type": "stream",
     "text": [
      "INFO:tensorflow:Loading model checkpoint_path/broccoli/vector-185000.\n"
     ]
    },
    {
     "name": "stdout",
     "output_type": "stream",
     "text": [
      "INFO:tensorflow:Restoring parameters from checkpoint_path/broccoli/vector-185000\n"
     ]
    },
    {
     "name": "stderr",
     "output_type": "stream",
     "text": [
      "INFO:tensorflow:Restoring parameters from checkpoint_path/broccoli/vector-185000\n"
     ]
    },
    {
     "data": {
      "image/svg+xml": [
       "<svg baseProfile=\"full\" height=\"81.7116046441\" version=\"1.1\" width=\"250.276573887\" xmlns=\"http://www.w3.org/2000/svg\" xmlns:ev=\"http://www.w3.org/2001/xml-events\" xmlns:xlink=\"http://www.w3.org/1999/xlink\"><defs/><rect fill=\"white\" height=\"81.7116046441\" width=\"250.276573887\" x=\"0\" y=\"0\"/><path d=\"M25,25 m0.0,0.0 m39.4163316116,23.8256775448 l-0.141545906663,2.42627337575 1.16733677685,2.23527848721 l-0.0605101790279,0.113366423175 m78.1627532281,-3.20914868498 l0.209504645318,4.09584522247 0.283146500587,0.848228782415 l0.382293052971,1.37608349323 0.310080070049,-4.70783263445 l0.269592367113,0.0685672601685 1.66615694761,-0.592253468931 m78.2300269697,-2.53764314344 l-0.0578843522817,-1.06194250286 0.439292155206,0.381791964173 l-0.668916478753,1.67339116335 0.401255041361,0.0599315576255 \" fill=\"none\" stroke=\"black\" stroke-width=\"1\"/></svg>"
      ],
      "text/plain": [
       "<IPython.core.display.SVG object>"
      ]
     },
     "metadata": {},
     "output_type": "display_data"
    }
   ],
   "source": [
    "# Now try to switch the class\n",
    "model_dir = 'checkpoint_path/broccoli'\n",
    "[hps_model, eval_hps_model, sample_hps_model] = load_model(model_dir)\n",
    "# construct the sketch-rnn model here:\n",
    "reset_graph()\n",
    "model = Model(hps_model)\n",
    "eval_model = Model(eval_hps_model, reuse=True)\n",
    "sample_model = Model(sample_hps_model, reuse=True)\n",
    "sess = tf.InteractiveSession()\n",
    "sess.run(tf.global_variables_initializer())\n",
    "\n",
    "# loads the weights from checkpoint into our model\n",
    "load_checkpoint(sess, model_dir)\n",
    "\n",
    "# randomly unconditionally generate examples\n",
    "reconstructions = []\n",
    "for i in range(3):\n",
    "    reconstructions.append([decode(temperature=0.2, draw_mode=False), [0, i]])\n",
    "stroke_grid = make_grid_svg(reconstructions)\n",
    "draw_strokes(stroke_grid)\n"
   ]
  },
  {
   "cell_type": "code",
   "execution_count": 15,
   "metadata": {},
   "outputs": [
    {
     "name": "stdout",
     "output_type": "stream",
     "text": [
      "33\n"
     ]
    },
    {
     "data": {
      "image/svg+xml": [
       "<svg baseProfile=\"full\" height=\"86.3514826819\" version=\"1.1\" width=\"659.362190422\" xmlns=\"http://www.w3.org/2000/svg\" xmlns:ev=\"http://www.w3.org/2001/xml-events\" xmlns:xlink=\"http://www.w3.org/1999/xlink\"><defs/><rect fill=\"white\" height=\"86.3514826819\" width=\"659.362190422\" x=\"0\" y=\"0\"/><path d=\"M25,25 m0.0,0.0 m46.7595676379,21.2347954512 l-0.889713913202,-1.53125464916 -1.63348257542,-1.40731006861 l-4.65259581804,-0.671641677618 -3.90571475029,0.458842068911 l-3.12335371971,1.25308349729 -1.74007490277,2.08329468966 l-1.48979991674,5.35118162632 0.0114164268598,1.78115263581 l2.37871497869,5.55325329304 2.82928526402,1.88390314579 l4.40504431725,0.362182669342 3.23602706194,-1.13222017884 l1.76139220595,-0.966143161058 3.42409551144,-5.76872289181 l0.397044084966,-3.00516396761 -2.04357177019,-3.86890977621 l-2.20051169395,-0.572848729789 m-10.7371997833,0.242348946631 l-0.560020804405,-1.00738339126 -3.36816608906,-5.45454084873 l0.4539584741,3.22645366192 0.698057189584,4.93668735027 l0.347860530019,0.897490158677 m14.2984771729,-3.11530768871 l0.178833380342,-1.17879092693 0.747851207852,-2.70431160927 l2.09844246507,-6.29411160946 1.68032824993,7.6342779398 l-0.970773398876,6.11768066883 m-9.05237138271,1.1036028713 l-0.203314162791,0.202101171017 0.554875023663,-0.00386258412618 l0.116883758456,-0.253591835499 1.3168233633,-0.024275474716 l1.90745636821,7.74268627167 -1.83105185628,0.486526638269 l0.919555127621,0.0130520109087 m84.6392943757,-12.369410246 l-0.889713913202,-1.53125464916 -1.63348257542,-1.40731006861 l-4.65259581804,-0.671641677618 -3.90571475029,0.458842068911 l-3.12335371971,1.25308349729 -1.74007490277,2.08329468966 l-1.48979991674,5.35118162632 0.0114164268598,1.78115263581 l2.37871497869,5.55325329304 2.82928526402,1.88390314579 l4.40504431725,0.362182669342 3.23602706194,-1.13222017884 l1.76139220595,-0.966143161058 3.42409551144,-5.76872289181 l0.397044084966,-3.00516396761 -2.04357177019,-3.86890977621 l-2.20051169395,-0.572848729789 m-10.7371997833,0.242348946631 l-0.560020804405,-1.00738339126 -3.36816608906,-5.45454084873 l0.4539584741,3.22645366192 0.698057189584,4.93668735027 l0.347860530019,0.897490158677 m14.2984771729,-3.11530768871 l0.178833380342,-1.17879092693 0.747851207852,-2.70431160927 l2.09844246507,-6.29411160946 1.68032824993,7.6342779398 l-0.970773398876,6.11768066883 m-9.05237138271,1.1036028713 l-0.203314162791,0.202101171017 0.554875023663,-0.00386258412618 l0.116883758456,-0.253591835499 2.11606770754,0.0427324464545 l-1.71346664429,7.56926298141 m86.5494763153,-11.7634162278 l-0.889713913202,-1.53125464916 -1.63348257542,-1.40731006861 l-4.65259581804,-0.671641677618 -3.90571475029,0.458842068911 l-3.12335371971,1.25308349729 -1.74007490277,2.08329468966 l-1.48979991674,5.35118162632 0.0114164268598,1.78115263581 l2.37871497869,5.55325329304 2.82928526402,1.88390314579 l4.40504431725,0.362182669342 3.23602706194,-1.13222017884 l1.76139220595,-0.966143161058 3.42409551144,-5.76872289181 l0.397044084966,-3.00516396761 -2.04357177019,-3.86890977621 l-2.20051169395,-0.572848729789 m-10.7371997833,0.242348946631 l-0.560020804405,-1.00738339126 -3.36816608906,-5.45454084873 l0.4539584741,3.22645366192 0.698057189584,4.93668735027 l0.347860530019,0.897490158677 m14.2984771729,-3.11530768871 l0.178833380342,-1.17879092693 0.747851207852,-2.70431160927 l2.09844246507,-6.29411160946 1.68032824993,7.6342779398 l-0.970773398876,6.11768066883 m-9.05237138271,1.1036028713 l-0.203314162791,0.202101171017 0.554875023663,-0.00386258412618 l0.116883758456,-0.253591835499 -0.150787038729,1.953959167 m87.1028644172,-6.1053799669 l-0.889713913202,-1.53125464916 -1.63348257542,-1.40731006861 l-4.65259581804,-0.671641677618 -3.90571475029,0.458842068911 l-3.12335371971,1.25308349729 -1.74007490277,2.08329468966 l-1.48979991674,5.35118162632 0.0114164268598,1.78115263581 l2.37871497869,5.55325329304 2.82928526402,1.88390314579 l4.40504431725,0.362182669342 3.23602706194,-1.13222017884 l1.76139220595,-0.966143161058 3.42409551144,-5.76872289181 l0.397044084966,-3.00516396761 -2.04357177019,-3.86890977621 l-2.20051169395,-0.572848729789 m-10.7371997833,0.242348946631 l-0.560020804405,-1.00738339126 -3.36816608906,-5.45454084873 l0.4539584741,3.22645366192 0.698057189584,4.93668735027 l0.347860530019,0.897490158677 m14.2984771729,-3.11530768871 l0.178833380342,-1.17879092693 0.747851207852,-2.70431160927 l2.09844246507,-6.29411160946 1.68032824993,7.6342779398 l-0.970773398876,6.11768066883 m-9.05237138271,1.1036028713 l-0.203314162791,0.202101171017 0.554875023663,-0.00386258412618 l0.116883758456,-0.253591835499 m86.9520773785,-4.1514207999 l-0.889713913202,-1.53125464916 -1.63348257542,-1.40731006861 l-4.65259581804,-0.671641677618 -3.90571475029,0.458842068911 l-3.12335371971,1.25308349729 -1.74007490277,2.08329468966 l-1.48979991674,5.35118162632 0.0114164268598,1.78115263581 l2.37871497869,5.55325329304 2.82928526402,1.88390314579 l4.40504431725,0.362182669342 3.23602706194,-1.13222017884 l1.76139220595,-0.966143161058 3.42409551144,-5.76872289181 l0.397044084966,-3.00516396761 -2.04357177019,-3.86890977621 l-2.20051169395,-0.572848729789 m-10.7371997833,0.242348946631 l-0.560020804405,-1.00738339126 -3.36816608906,-5.45454084873 l0.4539584741,3.22645366192 0.698057189584,4.93668735027 l0.347860530019,0.897490158677 m14.2984771729,-3.11530768871 l0.178833380342,-1.17879092693 0.747851207852,-2.70431160927 l2.09844246507,-6.29411160946 1.68032824993,7.6342779398 l-0.970773398876,6.11768066883 m-9.05237138271,1.1036028713 l-0.203314162791,0.202101171017 0.554875023663,-0.00386258412618 l0.116883758456,-0.253591835499 -2.79249548912,-0.54709520191 m89.7445728676,-3.60432559799 l-0.889713913202,-1.53125464916 -1.63348257542,-1.40731006861 l-4.65259581804,-0.671641677618 -3.90571475029,0.458842068911 l-3.12335371971,1.25308349729 -1.74007490277,2.08329468966 l-1.48979991674,5.35118162632 0.0114164268598,1.78115263581 l2.37871497869,5.55325329304 2.82928526402,1.88390314579 l4.40504431725,0.362182669342 3.23602706194,-1.13222017884 l1.76139220595,-0.966143161058 3.42409551144,-5.76872289181 l0.397044084966,-3.00516396761 -2.04357177019,-3.86890977621 l-2.20051169395,-0.572848729789 m-10.7371997833,0.242348946631 l-0.560020804405,-1.00738339126 -3.36816608906,-5.45454084873 l0.4539584741,3.22645366192 0.698057189584,4.93668735027 l0.347860530019,0.897490158677 m14.2984771729,-3.11530768871 l0.178833380342,-1.17879092693 0.747851207852,-2.70431160927 l2.09844246507,-6.29411160946 1.68032824993,7.6342779398 l-0.970773398876,6.11768066883 m-9.05237138271,1.1036028713 l-0.203314162791,0.202101171017 0.554875023663,-0.00386258412618 l0.116883758456,-0.253591835499 -0.0829172879457,0.465336889029 l1.00198082626,-1.13713659346 m86.0330138402,-3.47962109547 l-0.889713913202,-1.53125464916 -1.63348257542,-1.40731006861 l-4.65259581804,-0.671641677618 -3.90571475029,0.458842068911 l-3.12335371971,1.25308349729 -1.74007490277,2.08329468966 l-1.48979991674,5.35118162632 0.0114164268598,1.78115263581 l2.37871497869,5.55325329304 2.82928526402,1.88390314579 l4.40504431725,0.362182669342 3.23602706194,-1.13222017884 l1.76139220595,-0.966143161058 3.42409551144,-5.76872289181 l0.397044084966,-3.00516396761 -2.04357177019,-3.86890977621 l-2.20051169395,-0.572848729789 m-10.7371997833,0.242348946631 l-0.560020804405,-1.00738339126 -3.36816608906,-5.45454084873 l0.4539584741,3.22645366192 0.698057189584,4.93668735027 l0.347860530019,0.897490158677 m14.2984771729,-3.11530768871 l0.178833380342,-1.17879092693 0.747851207852,-2.70431160927 l2.09844246507,-6.29411160946 1.68032824993,7.6342779398 l-0.970773398876,6.11768066883 m-9.05237138271,1.1036028713 l-0.203314162791,0.202101171017 0.554875023663,-0.00386258412618 l0.116883758456,-0.253591835499 -1.26542791724,-1.46822392941 l-0.0213024090044,-3.59011560678 -0.189043376595,2.23798796535 l0.912880077958,-1.03695482016 m87.5149710034,-0.294114408898 l-0.889713913202,-1.53125464916 -1.63348257542,-1.40731006861 l-4.65259581804,-0.671641677618 -3.90571475029,0.458842068911 l-3.12335371971,1.25308349729 -1.74007490277,2.08329468966 l-1.48979991674,5.35118162632 0.0114164268598,1.78115263581 l2.37871497869,5.55325329304 2.82928526402,1.88390314579 l4.40504431725,0.362182669342 3.23602706194,-1.13222017884 l1.76139220595,-0.966143161058 3.42409551144,-5.76872289181 l0.397044084966,-3.00516396761 -2.04357177019,-3.86890977621 l-2.20051169395,-0.572848729789 m-10.7371997833,0.242348946631 l-0.560020804405,-1.00738339126 -3.36816608906,-5.45454084873 l0.4539584741,3.22645366192 0.698057189584,4.93668735027 l0.347860530019,0.897490158677 m14.2984771729,-3.11530768871 l0.178833380342,-1.17879092693 0.747851207852,-2.70431160927 l2.09844246507,-6.29411160946 1.68032824993,7.6342779398 l-0.970773398876,6.11768066883 m-9.05237138271,1.1036028713 l-0.203314162791,0.202101171017 0.554875023663,-0.00386258412618 l0.116883758456,-0.253591835499 -3.43264192343,0.707424506545 \" fill=\"none\" stroke=\"black\" stroke-width=\"1\"/></svg>"
      ],
      "text/plain": [
       "<IPython.core.display.SVG object>"
      ]
     },
     "metadata": {},
     "output_type": "display_data"
    }
   ],
   "source": [
    "# encode incomplete strokes in a hidden state\n",
    "_, hidden_states = get_hidden_states(sess=sess, model=sample_model, input_strokes = strokes_0)\n",
    "print(len(hidden_states))\n",
    "\n",
    "input_state = hidden_states[-1]\n",
    "\n",
    "reconstructions = []\n",
    "for i in range(N):\n",
    "    sample_strokes_3, _, _, _ = sample(sess=sess, model=sample_model, temperature=0.5, prev_state = input_state)\n",
    "    strokes_3 = to_normal_strokes(sample_strokes_3)\n",
    "    all_strokes_big = np.concatenate((sample_strokes_part,sample_strokes_3),axis=0)\n",
    "    all_strokes = to_normal_strokes(all_strokes_big)\n",
    "    \n",
    "    reconstructions.append([all_strokes, [0, i]])\n",
    "    \n",
    "stroke_grid = make_grid_svg(reconstructions)\n",
    "draw_strokes(stroke_grid, svg_filename = 'svg/test.svg')"
   ]
  },
  {
   "cell_type": "code",
   "execution_count": null,
   "metadata": {
    "collapsed": true
   },
   "outputs": [],
   "source": []
  },
  {
   "cell_type": "code",
   "execution_count": null,
   "metadata": {
    "collapsed": true
   },
   "outputs": [],
   "source": []
  }
 ],
 "metadata": {
  "kernelspec": {
   "display_name": "Python 2",
   "language": "python",
   "name": "python2"
  },
  "language_info": {
   "codemirror_mode": {
    "name": "ipython",
    "version": 2
   },
   "file_extension": ".py",
   "mimetype": "text/x-python",
   "name": "python",
   "nbconvert_exporter": "python",
   "pygments_lexer": "ipython2",
   "version": "2.7.14"
  }
 },
 "nbformat": 4,
 "nbformat_minor": 1
}
