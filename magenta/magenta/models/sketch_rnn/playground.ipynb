{
 "cells": [
  {
   "cell_type": "code",
   "execution_count": 28,
   "metadata": {},
   "outputs": [
    {
     "name": "stdout",
     "output_type": "stream",
     "text": [
      "The autoreload extension is already loaded. To reload it, use:\n",
      "  %reload_ext autoreload\n"
     ]
    }
   ],
   "source": [
    "# import the required libraries\n",
    "import numpy as np\n",
    "import time\n",
    "import random\n",
    "import cPickle\n",
    "import codecs\n",
    "import collections\n",
    "import os\n",
    "import math\n",
    "import json\n",
    "import tensorflow as tf\n",
    "from six.moves import xrange\n",
    "%load_ext autoreload\n",
    "%autoreload 2\n",
    "\n",
    "#os.environ[\"CUDA_VISIBLE_DEVICES\"]=\"1\"\n",
    "\n",
    "# libraries required for visualisation:\n",
    "from IPython.display import SVG, display\n",
    "import svgwrite # conda install -c omnia svgwrite=1.1.6\n",
    "import PIL\n",
    "from PIL import Image\n",
    "import matplotlib.pyplot as plt\n",
    "% matplotlib inline\n",
    "\n",
    "# set numpy output to something sensible\n",
    "np.set_printoptions(precision=8, edgeitems=6, linewidth=200, suppress=True)\n",
    "\n"
   ]
  },
  {
   "cell_type": "code",
   "execution_count": 29,
   "metadata": {},
   "outputs": [],
   "source": [
    "# import our command line tools\n",
    "from sketch_rnn_train import *\n",
    "from model_mod import *\n",
    "from utils import *\n",
    "from rnn import *"
   ]
  },
  {
   "cell_type": "code",
   "execution_count": 30,
   "metadata": {},
   "outputs": [],
   "source": [
    "# little function that displays vector images and saves them to .svg\n",
    "def draw_strokes(data, color=\"black\", doGradient=False, endColor=\"black\", factor=0.2, svg_filename = 'svg/sample.svg'):\n",
    "    tf.gfile.MakeDirs(os.path.dirname(svg_filename))\n",
    "    min_x, max_x, min_y, max_y = get_bounds(data, factor)\n",
    "    dims = (50 + max_x - min_x, 50 + max_y - min_y)\n",
    "    dwg = svgwrite.Drawing(svg_filename, size=dims)\n",
    "    dwg.add(dwg.rect(insert=(0, 0), size=dims,fill='white'))\n",
    "    lift_pen = 1\n",
    "    abs_x = 25 - min_x \n",
    "    abs_y = 25 - min_y\n",
    "    p = \"M%s,%s \" % (abs_x, abs_y)\n",
    "    command = \"m\"\n",
    "    for i in xrange(len(data)):\n",
    "        if (lift_pen == 1):\n",
    "            command = \"m\"\n",
    "        elif (command != \"l\"):\n",
    "            command = \"l\"\n",
    "        else:\n",
    "            command = \"\"\n",
    "        x = float(data[i,0])/factor\n",
    "        y = float(data[i,1])/factor\n",
    "        lift_pen = data[i, 2]\n",
    "        p += command+str(x)+\",\"+str(y)+\" \"\n",
    "    \n",
    "    the_color = color\n",
    "    stroke_width = 1\n",
    "    dwg.add(dwg.path(p).stroke(the_color,stroke_width).fill(\"none\"))\n",
    "    dwg.save()\n",
    "    display(SVG(dwg.tostring()))\n",
    "    \n",
    "\n",
    "# generate a 2D grid of many vector drawings\n",
    "def make_grid_svg(s_list, grid_space=10.0, grid_space_x=16.0):\n",
    "  def get_start_and_end(x):\n",
    "    x = np.array(x)\n",
    "    x = x[:, 0:2]\n",
    "    x_start = x[0]\n",
    "    x_end = x.sum(axis=0)\n",
    "    x = x.cumsum(axis=0)\n",
    "    x_max = x.max(axis=0)\n",
    "    x_min = x.min(axis=0)\n",
    "    center_loc = (x_max+x_min)*0.5\n",
    "    return x_start-center_loc, x_end\n",
    "  x_pos = 0.0\n",
    "  y_pos = 0.0\n",
    "  result = [[x_pos, y_pos, 1]]\n",
    "\n",
    "  #for each reconstruction\n",
    "  for sample in s_list:\n",
    "    s = sample[0]\n",
    "    grid_loc = sample[1]\n",
    "    grid_y = grid_loc[0]*grid_space+grid_space*0.5\n",
    "    grid_x = grid_loc[1]*grid_space_x+grid_space_x*0.5\n",
    "    start_loc, delta_pos = get_start_and_end(s)\n",
    "\n",
    "    loc_x = start_loc[0]\n",
    "    loc_y = start_loc[1]\n",
    "    new_x_pos = grid_x+loc_x\n",
    "    new_y_pos = grid_y+loc_y\n",
    "    result.append([new_x_pos-x_pos, new_y_pos-y_pos, 0])\n",
    "\n",
    "    result += s.tolist()\n",
    "    result[-1][2] = 1\n",
    "    x_pos = new_x_pos+delta_pos[0]\n",
    "    y_pos = new_y_pos+delta_pos[1]\n",
    "  return np.array(result)"
   ]
  },
  {
   "cell_type": "code",
   "execution_count": 31,
   "metadata": {},
   "outputs": [],
   "source": [
    "def encode(input_strokes):\n",
    "  strokes = to_big_strokes(input_strokes).tolist()\n",
    "  strokes.insert(0, [0, 0, 1, 0, 0])\n",
    "  seq_len = [len(input_strokes)]\n",
    "  draw_strokes(to_normal_strokes(np.array(strokes)))\n",
    "  return sess.run(eval_model.batch_z, feed_dict={eval_model.input_data: [strokes], eval_model.sequence_lengths: seq_len})[0]\n",
    "\n",
    "#latent vector to stroke\n",
    "def decode(z_input=None, draw_mode=True, temperature=0.1, factor=0.2):\n",
    "  z = None\n",
    "  if z_input is not None:\n",
    "    z = [z_input]\n",
    "  sample_strokes, m, _, _ = sample(sess, sample_model, seq_len=eval_model.hps.max_seq_len, temperature=temperature, z=z)\n",
    "  strokes = to_normal_strokes(sample_strokes)\n",
    "  if draw_mode:\n",
    "    draw_strokes(strokes, factor)\n",
    "  return strokes\n"
   ]
  },
  {
   "cell_type": "code",
   "execution_count": 33,
   "metadata": {},
   "outputs": [
    {
     "name": "stdout",
     "output_type": "stream",
     "text": [
      "INFO:tensorflow:Model using gpu.\n",
      "INFO:tensorflow:Input dropout mode = False.\n",
      "INFO:tensorflow:Output dropout mode = False.\n",
      "INFO:tensorflow:Recurrent dropout mode = True.\n",
      "INFO:tensorflow:Model using gpu.\n",
      "INFO:tensorflow:Input dropout mode = 0.\n",
      "INFO:tensorflow:Output dropout mode = 0.\n",
      "INFO:tensorflow:Recurrent dropout mode = 0.\n",
      "INFO:tensorflow:Model using gpu.\n",
      "INFO:tensorflow:Input dropout mode = 0.\n",
      "INFO:tensorflow:Output dropout mode = 0.\n",
      "INFO:tensorflow:Recurrent dropout mode = 0.\n"
     ]
    }
   ],
   "source": [
    "model_dir = 'checkpoint_path/catmosquito_orig'\n",
    "[hps_model, eval_hps_model, sample_hps_model] = load_model(model_dir)\n",
    "# construct the sketch-rnn model here:\n",
    "reset_graph()\n",
    "model = Model(hps_model)\n",
    "eval_model = Model(eval_hps_model, reuse=True)\n",
    "sample_model = Model(sample_hps_model, reuse=True)"
   ]
  },
  {
   "cell_type": "code",
   "execution_count": 34,
   "metadata": {},
   "outputs": [
    {
     "name": "stdout",
     "output_type": "stream",
     "text": [
      "INFO:tensorflow:Loading model checkpoint_path/catmosquito_orig/vector-56000.\n",
      "INFO:tensorflow:Restoring parameters from checkpoint_path/catmosquito_orig/vector-56000\n"
     ]
    }
   ],
   "source": [
    "sess = tf.InteractiveSession()\n",
    "sess.run(tf.global_variables_initializer())\n",
    "# loads the weights from checkpoint into our model\n",
    "load_checkpoint(sess, model_dir)\n"
   ]
  },
  {
   "cell_type": "code",
   "execution_count": 35,
   "metadata": {},
   "outputs": [
    {
     "name": "stdout",
     "output_type": "stream",
     "text": [
      "INFO:tensorflow:Loaded 70000/2500/2500 from cat.npz\n",
      "INFO:tensorflow:Loaded 70000/2500/2500 from mosquito.npz\n",
      "INFO:tensorflow:Dataset combined: 150000 (140000/5000/5000), avg len 63\n",
      "INFO:tensorflow:model_params.max_seq_len 129.\n",
      "total images <= max_seq_len is 140000\n",
      "total images <= max_seq_len is 5000\n",
      "total images <= max_seq_len is 5000\n",
      "INFO:tensorflow:normalizing_scale_factor 41.8031.\n"
     ]
    }
   ],
   "source": [
    "# randomly unconditionally generate 10 examples from test set\n",
    "data_dir = 'datasets/'\n",
    "[train_set, valid_set, test_set, hps_model, eval_hps_model, sample_hps_model] = load_env(data_dir, model_dir)\n"
   ]
  },
  {
   "cell_type": "code",
   "execution_count": 25,
   "metadata": {},
   "outputs": [
    {
     "ename": "NameError",
     "evalue": "name 'model_params' is not defined",
     "output_type": "error",
     "traceback": [
      "\u001b[0;31m---------------------------------------------------------------------------\u001b[0m",
      "\u001b[0;31mNameError\u001b[0m                                 Traceback (most recent call last)",
      "\u001b[0;32m<ipython-input-25-87b883462042>\u001b[0m in \u001b[0;36m<module>\u001b[0;34m()\u001b[0m\n\u001b[1;32m     29\u001b[0m \u001b[0mims\u001b[0m \u001b[0;34m=\u001b[0m \u001b[0;34m[\u001b[0m\u001b[0;34m]\u001b[0m\u001b[0;34m\u001b[0m\u001b[0m\n\u001b[1;32m     30\u001b[0m \u001b[0;34m\u001b[0m\u001b[0m\n\u001b[0;32m---> 31\u001b[0;31m \u001b[0mtrain_set\u001b[0m \u001b[0;34m=\u001b[0m \u001b[0mload_dataset\u001b[0m\u001b[0;34m(\u001b[0m\u001b[0mdata_dir\u001b[0m\u001b[0;34m,\u001b[0m \u001b[0mmodel_params\u001b[0m\u001b[0;34m,\u001b[0m \u001b[0minference_mode\u001b[0m\u001b[0;34m=\u001b[0m\u001b[0mTrue\u001b[0m\u001b[0;34m)\u001b[0m\u001b[0;34m\u001b[0m\u001b[0m\n\u001b[0m\u001b[1;32m     32\u001b[0m \u001b[0;34m\u001b[0m\u001b[0m\n\u001b[1;32m     33\u001b[0m \u001b[0mfig\u001b[0m \u001b[0;34m=\u001b[0m \u001b[0mplt\u001b[0m\u001b[0;34m.\u001b[0m\u001b[0msubplots\u001b[0m\u001b[0;34m(\u001b[0m\u001b[0mnrows\u001b[0m\u001b[0;34m=\u001b[0m\u001b[0;36m1\u001b[0m\u001b[0;34m,\u001b[0m \u001b[0mncols\u001b[0m\u001b[0;34m=\u001b[0m\u001b[0mN\u001b[0m\u001b[0;34m,\u001b[0m \u001b[0mfigsize\u001b[0m\u001b[0;34m=\u001b[0m\u001b[0;34m(\u001b[0m\u001b[0;36m6\u001b[0m\u001b[0;34m,\u001b[0m\u001b[0;36m1\u001b[0m\u001b[0;34m)\u001b[0m\u001b[0;34m)\u001b[0m\u001b[0;34m\u001b[0m\u001b[0m\n",
      "\u001b[0;31mNameError\u001b[0m: name 'model_params' is not defined"
     ]
    }
   ],
   "source": [
    "def draw_strokes_gradient(data, n, n_examples, factor = .2):\n",
    "    \n",
    "    x = 0\n",
    "    y = 0\n",
    "    s = 0\n",
    "    imagex = [[x]]\n",
    "    imagey = [[y]]\n",
    "    for i in range(len(data)):\n",
    "        x += data[i][0]*factor\n",
    "        y += data[i][1]*factor\n",
    "        imagex[s].append(x)\n",
    "        imagey[s].append(y)\n",
    "        if data[i][2] == 1:\n",
    "            s += 1\n",
    "            imagex.append([])\n",
    "            imagey.append([])\n",
    "    \n",
    "    n_strokes = len(imagex)\n",
    "    plt.subplot(1,n_examples,n+1)\n",
    "    plt.gca().invert_yaxis()\n",
    "    plt.axis(\"off\")\n",
    "    plt.axis(\"equal\")\n",
    "    colors = [(.1 + j*.9/n_strokes, .15, 1 - j*.9/n_strokes) for j in range(n_strokes)]\n",
    "    for j in range(n_strokes):\n",
    "        plt.plot(imagex[j], imagey[j], color = colors[j], linewidth = 1)\n",
    "\n",
    "\n",
    "N =  8\n",
    "ims = []\n",
    "\n",
    "train_set = load_dataset(data_dir, model_params, inference_mode=True)\n",
    "\n",
    "fig = plt.subplots(nrows=1, ncols=N, figsize=(6,1))\n",
    "for i in range(N):\n",
    "    im = train_set.strokes[10]\n",
    "    #im = test_set.random_sample()\n",
    "    ims.append([im, [0, i]])\n",
    "    draw_strokes_gradient(im, i, N)\n",
    "# plt.savefig('results/progress/mosquito_data.pdf', bbox_inches='tight')"
   ]
  },
  {
   "cell_type": "code",
   "execution_count": 36,
   "metadata": {},
   "outputs": [
    {
     "name": "stdout",
     "output_type": "stream",
     "text": [
      "INFO:tensorflow:Loading model checkpoint_path/catmosquito_orig/vector-56000.\n",
      "INFO:tensorflow:Restoring parameters from checkpoint_path/catmosquito_orig/vector-56000\n"
     ]
    },
    {
     "data": {
      "image/png": "[encoded data removed]",
      "text/plain": [
       "<matplotlib.figure.Figure at 0x7f4928954e10>"
      ]
     },
     "metadata": {},
     "output_type": "display_data"
    }
   ],
   "source": [
    "# randomly unconditionally generate N examples\n",
    "# loads the weights from checkpoint into our model\n",
    "load_checkpoint(sess, model_dir)\n",
    "fig = plt.subplots(nrows=1, ncols=N, figsize=(6,1))\n",
    "reconstructions = []\n",
    "for i in range(N):\n",
    "    sample_strokes, m, hidden_states, final_x = sample(sess, sample_model, temperature=.7)\n",
    "    strokes = to_normal_strokes(sample_strokes)\n",
    "    draw_strokes_gradient(strokes, i, N)\n",
    "#plt.savefig('results/progress/mosquito_recon_5000.pdf', bbox_inches='tight')\n",
    "\n"
   ]
  },
  {
   "cell_type": "code",
   "execution_count": 17,
   "metadata": {},
   "outputs": [
    {
     "name": "stdout",
     "output_type": "stream",
     "text": [
      "100\n"
     ]
    },
    {
     "data": {
      "image/svg+xml": [
       "<svg baseProfile=\"full\" height=\"87.7065767441\" version=\"1.1\" width=\"84.1208923701\" xmlns=\"http://www.w3.org/2000/svg\" xmlns:ev=\"http://www.w3.org/2001/xml-events\" xmlns:xlink=\"http://www.w3.org/1999/xlink\"><defs/><rect fill=\"white\" height=\"87.7065767441\" width=\"84.1208923701\" x=\"0\" y=\"0\"/><path d=\"M28.4260780551,41.3079598546 m-0.285989008844,-2.9621976614 l0.0909373257309,-5.15832483768 0.411190576851,-5.3005617857 l0.324737764895,-2.88687556982 3.60383957624,4.39618527889 l3.67600500584,3.58965188265 0.579696632922,0.51068495959 l7.67456769943,0.0905169639736 3.81290018559,0.860320106149 l1.26016125083,0.469459965825 3.92316460609,-4.98775392771 l3.50551366806,-4.51656490564 0.4281264171,0.546573512256 l0.093358065933,1.03880748153 -0.0428026914597,7.38419175148 l0.69923505187,1.8738797307 0.68490922451,2.61933475733 l0.255262963474,2.72722482681 -0.0692431814969,4.59505587816 l-0.973900929093,6.85225427151 -2.56707012653,4.54927623272 l-2.26367712021,3.0365857482 -1.47903934121,0.730816498399 l-8.79091739655,1.34007573128 -5.2739572525,-0.189192667603 l-7.64897882938,-3.26146394014 -3.37583452463,-4.29621696472 l-1.22170470655,-3.37559580803 -0.356256365776,-1.92003056407 l-0.100312596187,-3.23253750801 0.421415902674,-2.61705905199 m20.2629947662,4.10962939262 l-0.906139463186,0.840826779604 \" fill=\"none\" stroke=\"black\" stroke-width=\"1\"/></svg>"
      ],
      "text/plain": [
       "<IPython.core.display.SVG object>"
      ]
     },
     "metadata": {},
     "output_type": "display_data"
    },
    {
     "data": {
      "image/svg+xml": [
       "<svg baseProfile=\"full\" height=\"87.7065767441\" version=\"1.1\" width=\"91.4163357392\" xmlns=\"http://www.w3.org/2000/svg\" xmlns:ev=\"http://www.w3.org/2001/xml-events\" xmlns:xlink=\"http://www.w3.org/1999/xlink\"><defs/><rect fill=\"white\" height=\"87.7065767441\" width=\"91.4163357392\" x=\"0\" y=\"0\"/><path d=\"M28.4260780551,41.3079598546 m-0.285989008844,-2.9621976614 l0.0909373257309,-5.15832483768 0.411190576851,-5.3005617857 l0.324737764895,-2.88687556982 3.60383957624,4.39618527889 l3.67600500584,3.58965188265 0.579696632922,0.51068495959 l7.67456769943,0.0905169639736 3.81290018559,0.860320106149 l1.26016125083,0.469459965825 3.92316460609,-4.98775392771 l3.50551366806,-4.51656490564 0.4281264171,0.546573512256 l0.093358065933,1.03880748153 -0.0428026914597,7.38419175148 l0.69923505187,1.8738797307 0.68490922451,2.61933475733 l0.255262963474,2.72722482681 -0.0692431814969,4.59505587816 l-0.973900929093,6.85225427151 -2.56707012653,4.54927623272 l-2.26367712021,3.0365857482 -1.47903934121,0.730816498399 l-8.79091739655,1.34007573128 -5.2739572525,-0.189192667603 l-7.64897882938,-3.26146394014 -3.37583452463,-4.29621696472 l-1.22170470655,-3.37559580803 -0.356256365776,-1.92003056407 l-0.100312596187,-3.23253750801 0.421415902674,-2.61705905199 m20.2629947662,4.10962939262 l-0.906139463186,0.840826779604 -0.402742624283,2.6857110858 l1.03811383247,0.697355940938 1.5865316987,8.98087478163e-06 l2.33874246478,-4.38360124826 -2.12361678481,-0.760258063674 m-4.78533923626,-4.39857751131 l-9.07906711102,-0.604146644473 -3.74245017767,1.57006666064 m9.26092863083,1.56221598387 l-1.91272959113,0.719134062529 -7.46901094913,2.63092339039 l-1.95808544755,1.17312774062 m11.8961167336,0.884389802814 l-2.37710893154,0.941663756967 -4.48363184929,2.67497807741 l-2.73018211126,2.53198474646 m24.4084143639,-14.1938996315 l6.77490353584,-0.454485677183 3.62923741341,0.0511050596833 l1.76904067397,0.425973087549 m-12.0128536224,4.75105553865 l2.09569051862,-0.0477009452879 5.63636362553,1.58053964376 m-10.8914756775,1.04350358248 l6.73905849457,2.66244918108 4.4961515069,2.47465163469 \" fill=\"none\" stroke=\"black\" stroke-width=\"1\"/></svg>"
      ],
      "text/plain": [
       "<IPython.core.display.SVG object>"
      ]
     },
     "metadata": {},
     "output_type": "display_data"
    }
   ],
   "source": [
    "#DRAW FIRST PART OF SKETCH\n",
    "#get some sample strokes\n",
    "sample_strokes_1, m, hidden_states, final_x = sample(sess, sample_model, seq_len=100, temperature=0.8) #final_state,final_x\n",
    "print(len(sample_strokes_1))\n",
    "n_strokes = np.round(len(sample_strokes_1)/3)\n",
    "sample_strokes_part = sample_strokes_1[:n_strokes]\n",
    "strokes_part = to_normal_strokes(sample_strokes_part)\n",
    "sketch_part = draw_strokes(strokes_part, factor=0.2, svg_filename = 'svg/test.svg')\n",
    "strokes_full = to_normal_strokes(sample_strokes_1)\n",
    "sketch_full = [draw_strokes(strokes_full, factor=0.2), [0, 0]]\n",
    "\n",
    "final_state = hidden_states[n_strokes]"
   ]
  },
  {
   "cell_type": "code",
   "execution_count": 18,
   "metadata": {},
   "outputs": [
    {
     "data": {
      "image/svg+xml": [
       "<svg baseProfile=\"full\" height=\"87.7065767441\" version=\"1.1\" width=\"84.1208923701\" xmlns=\"http://www.w3.org/2000/svg\" xmlns:ev=\"http://www.w3.org/2001/xml-events\" xmlns:xlink=\"http://www.w3.org/1999/xlink\"><defs/><rect fill=\"white\" height=\"87.7065767441\" width=\"84.1208923701\" x=\"0\" y=\"0\"/><path d=\"M28.4260780551,41.3079598546 m-0.285989008844,-2.9621976614 l0.0909373257309,-5.15832483768 0.411190576851,-5.3005617857 l0.324737764895,-2.88687556982 3.60383957624,4.39618527889 l3.67600500584,3.58965188265 0.579696632922,0.51068495959 l7.67456769943,0.0905169639736 3.81290018559,0.860320106149 l1.26016125083,0.469459965825 3.92316460609,-4.98775392771 l3.50551366806,-4.51656490564 0.4281264171,0.546573512256 l0.093358065933,1.03880748153 -0.0428026914597,7.38419175148 l0.69923505187,1.8738797307 0.68490922451,2.61933475733 l0.255262963474,2.72722482681 -0.0692431814969,4.59505587816 l-0.973900929093,6.85225427151 -2.56707012653,4.54927623272 l-2.26367712021,3.0365857482 -1.47903934121,0.730816498399 l-8.79091739655,1.34007573128 -5.2739572525,-0.189192667603 l-7.64897882938,-3.26146394014 -3.37583452463,-4.29621696472 l-1.22170470655,-3.37559580803 -0.356256365776,-1.92003056407 l-0.100312596187,-3.23253750801 0.421415902674,-2.61705905199 m20.2629947662,4.10962939262 l-0.906139463186,0.840826779604 \" fill=\"none\" stroke=\"black\" stroke-width=\"1\"/></svg>"
      ],
      "text/plain": [
       "<IPython.core.display.SVG object>"
      ]
     },
     "metadata": {},
     "output_type": "display_data"
    },
    {
     "data": {
      "image/svg+xml": [
       "<svg baseProfile=\"full\" height=\"67.5677210212\" version=\"1.1\" width=\"69.8029427975\" xmlns=\"http://www.w3.org/2000/svg\" xmlns:ev=\"http://www.w3.org/2001/xml-events\" xmlns:xlink=\"http://www.w3.org/1999/xlink\"><defs/><rect fill=\"white\" height=\"67.5677210212\" width=\"69.8029427975\" x=\"0\" y=\"0\"/><path d=\"M35.1522046281,35.2783510953 m0.458447225392,-1.2560364604 l-0.327951908112,0.0659049814567 0.341471545398,0.249378308654 l-0.172437094152,0.137901771814 -0.19001994282,-0.541459061205 l-0.117204170674,-1.18015438318 0.454347804189,-7.83957511885e-05 l0.156436879188,1.35036557913 -0.249926112592,0.300992820412 l-1.00338660181,0.000160859763128 0.425851382315,-1.28757193685 l-0.0665956176817,0.260723605752 -0.445179417729,0.301712118089 l-1.20011180639,0.561408661306 m1.99740633368,0.552076660097 l-1.45186603069,3.22848647833 -1.80895075202,4.01374548674 l-0.670791044831,0.531812831759 -1.03476844728,-0.188888702542 l-0.60295343399,-1.00377574563 m6.5632045269,-7.09219098091 l-0.182600114495,5.19337058067 0.333575196564,1.10844098032 l2.65038192272,1.75718054175 1.29936426878,2.82071323454e-05 l1.36006504297,-1.00708730519 m-4.99554783106,-12.0588994026 l-2.07198679447,-3.72305423021 -0.367035232484,-0.552844963968 l-0.195800680667,0.844473689795 0.480016097426,1.71655029058 l0.428187996149,1.65357276797 0.418591834605,0.000382221733162 l0.831430926919,-1.92690461874 m-5.65656900406,-0.698214620352 l0.463008619845,2.64058321714 0.2609779872,-1.61575898528 l-1.40445888042,-0.200169105083 0.0537797482684,0.641543865204 m5.42084693909,6.07770621777 l0.784859210253,-1.26369670033 0.813528299332,-1.42708465457 l0.524702630937,-1.12645104527 0.533594414592,-0.733081027865 l0.495189242065,-0.038379279431 m-1.31854757667,6.62410616875 l1.93660274148,0.0213693571277 3.99481415749,0.900722891092 l1.27016529441,1.26312971115 0.43457839638,1.01037845016 m-7.72217988968,-2.12512597442 l1.37584000826,0.830213949084 2.0269921422,3.04062634706 m-12.2752726078,-5.80597162247 l-0.673968344927,-1.29883110523 -1.24459795654,-0.361709222198 l-1.28975614905,0.189868211746 m3.86965423822,2.30198040605 l-2.70759940147,2.94098109007 m2.9836794734,-1.16764210165 l-2.11906075478,2.42321178317 -0.706450343132,1.1562769115 \" fill=\"none\" stroke=\"black\" stroke-width=\"1\"/></svg>"
      ],
      "text/plain": [
       "<IPython.core.display.SVG object>"
      ]
     },
     "metadata": {},
     "output_type": "display_data"
    },
    {
     "data": {
      "image/svg+xml": [
       "<svg baseProfile=\"full\" height=\"87.7065767441\" version=\"1.1\" width=\"84.1208923701\" xmlns=\"http://www.w3.org/2000/svg\" xmlns:ev=\"http://www.w3.org/2001/xml-events\" xmlns:xlink=\"http://www.w3.org/1999/xlink\"><defs/><rect fill=\"white\" height=\"87.7065767441\" width=\"84.1208923701\" x=\"0\" y=\"0\"/><path d=\"M28.4260780551,41.3079598546 m-0.285989008844,-2.9621976614 l0.0909373257309,-5.15832483768 0.411190576851,-5.3005617857 l0.324737764895,-2.88687556982 3.60383957624,4.39618527889 l3.67600500584,3.58965188265 0.579696632922,0.51068495959 l7.67456769943,0.0905169639736 3.81290018559,0.860320106149 l1.26016125083,0.469459965825 3.92316460609,-4.98775392771 l3.50551366806,-4.51656490564 0.4281264171,0.546573512256 l0.093358065933,1.03880748153 -0.0428026914597,7.38419175148 l0.69923505187,1.8738797307 0.68490922451,2.61933475733 l0.255262963474,2.72722482681 -0.0692431814969,4.59505587816 l-0.973900929093,6.85225427151 -2.56707012653,4.54927623272 l-2.26367712021,3.0365857482 -1.47903934121,0.730816498399 l-8.79091739655,1.34007573128 -5.2739572525,-0.189192667603 l-7.64897882938,-3.26146394014 -3.37583452463,-4.29621696472 l-1.22170470655,-3.37559580803 -0.356256365776,-1.92003056407 l-0.100312596187,-3.23253750801 0.421415902674,-2.61705905199 m20.2629947662,4.10962939262 l-0.906139463186,0.840826779604 0.458447225392,-1.2560364604 l-0.327951908112,0.0659049814567 0.341471545398,0.249378308654 l-0.172437094152,0.137901771814 -0.19001994282,-0.541459061205 l-0.117204170674,-1.18015438318 0.454347804189,-7.83957511885e-05 l0.156436879188,1.35036557913 -0.249926112592,0.300992820412 l-1.00338660181,0.000160859763128 0.425851382315,-1.28757193685 l-0.0665956176817,0.260723605752 -0.445179417729,0.301712118089 l-1.20011180639,0.561408661306 m1.99740633368,0.552076660097 l-1.45186603069,3.22848647833 -1.80895075202,4.01374548674 l-0.670791044831,0.531812831759 -1.03476844728,-0.188888702542 l-0.60295343399,-1.00377574563 m6.5632045269,-7.09219098091 l-0.182600114495,5.19337058067 0.333575196564,1.10844098032 l2.65038192272,1.75718054175 1.29936426878,2.82071323454e-05 l1.36006504297,-1.00708730519 m-4.99554783106,-12.0588994026 l-2.07198679447,-3.72305423021 -0.367035232484,-0.552844963968 l-0.195800680667,0.844473689795 0.480016097426,1.71655029058 l0.428187996149,1.65357276797 0.418591834605,0.000382221733162 l0.831430926919,-1.92690461874 m-5.65656900406,-0.698214620352 l0.463008619845,2.64058321714 0.2609779872,-1.61575898528 l-1.40445888042,-0.200169105083 0.0537797482684,0.641543865204 m5.42084693909,6.07770621777 l0.784859210253,-1.26369670033 0.813528299332,-1.42708465457 l0.524702630937,-1.12645104527 0.533594414592,-0.733081027865 l0.495189242065,-0.038379279431 m-1.31854757667,6.62410616875 l1.93660274148,0.0213693571277 3.99481415749,0.900722891092 l1.27016529441,1.26312971115 0.43457839638,1.01037845016 m-7.72217988968,-2.12512597442 l1.37584000826,0.830213949084 2.0269921422,3.04062634706 m-12.2752726078,-5.80597162247 l-0.673968344927,-1.29883110523 -1.24459795654,-0.361709222198 l-1.28975614905,0.189868211746 m3.86965423822,2.30198040605 l-2.70759940147,2.94098109007 m2.9836794734,-1.16764210165 l-2.11906075478,2.42321178317 -0.706450343132,1.1562769115 \" fill=\"none\" stroke=\"black\" stroke-width=\"1\"/></svg>"
      ],
      "text/plain": [
       "<IPython.core.display.SVG object>"
      ]
     },
     "metadata": {},
     "output_type": "display_data"
    },
    {
     "data": {
      "image/svg+xml": [
       "<svg baseProfile=\"full\" height=\"97.718409471\" version=\"1.1\" width=\"741.380095831\" xmlns=\"http://www.w3.org/2000/svg\" xmlns:ev=\"http://www.w3.org/2001/xml-events\" xmlns:xlink=\"http://www.w3.org/1999/xlink\"><defs/><rect fill=\"white\" height=\"97.718409471\" width=\"741.380095831\" x=\"0\" y=\"0\"/><path d=\"M25,25 m0.0,0.0 m28.9773809568,21.6583042457 l-0.317765565382,-3.29133073489 0.101041473034,-5.73147204187 l0.456878418724,-5.88951309522 0.360819738772,-3.20763952202 l4.00426619583,4.88465030988 4.08445000648,3.98850209183 l0.644107369913,0.567427732878 8.52729744381,0.100574404415 l4.23655576176,0.955911229054 1.40017916759,0.52162218425 l4.35907178455,-5.54194880856 3.89501518673,-5.01840545071 l0.475696019,0.607303902507 0.10373118437,1.15423053503 l-0.0475585460663,8.20465750164 0.776927835411,2.08208858967 l0.761010249456,2.91037195259 0.283625514971,3.03024980757 l-0.0769368683298,5.1056176424 -1.08211214344,7.61361585723 l-2.85230014059,5.05475136969 -2.51519680023,3.37398416466 l-1.64337704579,0.812018331554 -9.76768599616,1.48897303475 l-5.85995250278,-0.210214075115 -8.49886536598,-3.62384882238 l-3.75092724959,-4.77357440525 -1.35744967394,-3.75066200892 l-0.395840406418,-2.13336729341 -0.111458440208,-3.59170834223 l0.46823989186,-2.9078433911 m22.5144386292,4.56625488069 l-1.00682162576,0.934251977338 0.509385805991,-1.39559606711 l-0.364391009013,0.0732277571741 0.37941282822,0.277087009615 l-0.19159677128,0.153224190904 -0.2111332698,-0.601621179117 l-0.130226856305,-1.31128264798 0.504830893543,-8.71063902095e-05 l0.173818754653,1.50040619903 -0.277695680658,0.334436467124 l-1.11487400201,0.000178733070142 0.473168202572,-1.43063548538 l-0.0739951307575,0.28969289528 -0.494643797477,0.335235686766 l-1.33345756266,0.623787401451 m2.21934037076,0.613418511218 l-1.61318447855,3.58720719814 -2.00994528002,4.45971720748 l-0.745323383146,0.590903146399 -1.1497427192,-0.209876336157 l-0.669948259989,-1.11530638403 m7.29244947433,-7.88021220101 l-0.202889016105,5.7704117563 0.370639107294,1.23160108924 l2.94486880302,1.95242282417 1.44373807642,3.13412581616e-05 l1.51118338108,-1.11898589465 m-5.55060870118,-13.398777114 l-2.30220754941,-4.13672692246 -0.407816924983,-0.614272182186 l-0.217556311852,0.938304099772 0.533351219363,1.90727810065 l0.475764440166,1.83730307553 0.46510203845,0.000424690814624 l0.923812141021,-2.14100513193 m-6.28507667118,-0.775794022613 l0.51445402205,2.93398135238 0.289975541333,-1.79528776142 l-1.56050986714,-0.222410116759 0.0597552758538,0.712826516893 m6.02316326565,6.75300690863 l0.87206578917,-1.40410744482 0.903920332591,-1.58564961619 l0.583002923263,-1.25161227253 0.59288268288,-0.814534475406 l0.550210268961,-0.0426436438122 m-1.46505286296,7.36011796527 l2.15178082387,0.0237437301419 4.43868239721,1.00080321232 l1.41129477157,1.40347745683 0.482864884867,1.12264272239 m-8.58019987742,-2.36125108269 l1.52871112029,0.922459943427 2.25221349133,3.37847371896 m-13.6391917864,-6.45107958052 l-0.748853716585,-1.44314567248 -1.38288661838,-0.401899135775 l-1.43306238784,0.210964679718 m4.29961582025,2.55775600672 l-3.00844377942,3.26775676674 m3.31519941489,-1.29738011294 l-2.35451194975,2.69245753686 -0.784944825702,1.28475212389 m80.5330980724,-15.1858699401 l-0.317765565382,-3.29133073489 0.101041473034,-5.73147204187 l0.456878418724,-5.88951309522 0.360819738772,-3.20763952202 l4.00426619583,4.88465030988 4.08445000648,3.98850209183 l0.644107369913,0.567427732878 8.52729744381,0.100574404415 l4.23655576176,0.955911229054 1.40017916759,0.52162218425 l4.35907178455,-5.54194880856 3.89501518673,-5.01840545071 l0.475696019,0.607303902507 0.10373118437,1.15423053503 l-0.0475585460663,8.20465750164 0.776927835411,2.08208858967 l0.761010249456,2.91037195259 0.283625514971,3.03024980757 l-0.0769368683298,5.1056176424 -1.08211214344,7.61361585723 l-2.85230014059,5.05475136969 -2.51519680023,3.37398416466 l-1.64337704579,0.812018331554 -9.76768599616,1.48897303475 l-5.85995250278,-0.210214075115 -8.49886536598,-3.62384882238 l-3.75092724959,-4.77357440525 -1.35744967394,-3.75066200892 l-0.395840406418,-2.13336729341 -0.111458440208,-3.59170834223 l0.46823989186,-2.9078433911 m22.5144386292,4.56625488069 l-1.00682162576,0.934251977338 1.28337459432,-0.542169354028 l0.11715133571,-0.350129687124 -0.853665669759,-0.041822809726 m-3.65754167239,0.85832145479 l0.182303268876,-1.69149090846 1.00479018357,-0.418615299794 l2.13573757145,0.708061622249 0.0962239483164,1.4681228333 m-6.24517997106,-7.20205704371 l1.49712910255,0.781458119551 m8.89703962538,-0.431935613354 l1.29797144069,0.837269922098 m-2.831458052,7.84935553869 l4.08331685596,-0.431785028842 2.69975165526,0.000473454525086 l3.70175076856,0.521704885695 m-9.76476934221,1.17282908824 l3.00825900502,0.559725239873 3.55928738912,2.2371666299 m-8.14595619837,-1.40069623788 l-0.136383198616,0.143520534039 0.179560979207,2.27457996872 m-7.42891364627,-4.99607390828 l-3.43262751897,-0.0239755052866 -2.88547674815,1.27216544416 m6.21205369631,0.94913293918 l-3.82755597432,0.872639235523 -3.39126984278,2.86159449153 m82.91855588,-16.1228995135 l-0.317765565382,-3.29133073489 0.101041473034,-5.73147204187 l0.456878418724,-5.88951309522 0.360819738772,-3.20763952202 l4.00426619583,4.88465030988 4.08445000648,3.98850209183 l0.644107369913,0.567427732878 8.52729744381,0.100574404415 l4.23655576176,0.955911229054 1.40017916759,0.52162218425 l4.35907178455,-5.54194880856 3.89501518673,-5.01840545071 l0.475696019,0.607303902507 0.10373118437,1.15423053503 l-0.0475585460663,8.20465750164 0.776927835411,2.08208858967 l0.761010249456,2.91037195259 0.283625514971,3.03024980757 l-0.0769368683298,5.1056176424 -1.08211214344,7.61361585723 l-2.85230014059,5.05475136969 -2.51519680023,3.37398416466 l-1.64337704579,0.812018331554 -9.76768599616,1.48897303475 l-5.85995250278,-0.210214075115 -8.49886536598,-3.62384882238 l-3.75092724959,-4.77357440525 -1.35744967394,-3.75066200892 l-0.395840406418,-2.13336729341 -0.111458440208,-3.59170834223 l0.46823989186,-2.9078433911 m22.5144386292,4.56625488069 l-1.00682162576,0.934251977338 1.34903887908,-0.560254438056 l0.0209678158474,-0.599386708604 -0.13158613195,0.421998318699 l-0.703655928373,0.691762732135 -1.68873982297,1.14873829815 l-1.95219599538,-0.000435296129177 -0.272798662384,-0.540014397767 l-0.0798874017265,-1.15612985359 1.24856614404,-1.64097944895 l0.994934307204,-0.525531338321 1.96285545826,0.642517664366 l1.25642749998,1.10212233331 0.791162252426,-0.0843867814789 l0.831309540404,-0.355612445209 0.771523267031,-0.489813337723 l-1.21510765619,0.000459546410841 m-8.91466471884,-3.35506267018 l-0.94540566206,0.535255008274 0.971511006355,-2.98368500339 l1.09668994943,1.24453571108 -0.535756225387,0.632464595967 l-0.933427611987,-0.456155919366 m11.1424234178,-0.796765834093 l0.0106359890196,-0.880923536089 1.06870018774,1.63827753729 l-1.00626821319,-0.565740631686 0.240685231984,-1.42733620273 m0.409976227416,8.58860214551 l0.44144714872,-1.40382846196 10.7720586989,-8.19711022907 l6.57688048151,-3.78515124321 0.493663052718,-0.423905377587 m-16.8058011267,15.4378838009 l12.2367342313,0.204520175854 3.52542632156,0.19971554478 l3.08570199543,0.497205141518 m-38.3893595801,-7.3435485363 l-4.05441588826,-0.213869205779 -8.28438136313,0.160548680772 l-6.64685037401,1.40896224313 m21.5176926719,4.1166709529 l-16.3263228205,6.06337255902 -3.80102528466,2.42017110189 l-1.31127246552,1.8489761485 m96.7784259391,-19.5046628512 l-0.317765565382,-3.29133073489 0.101041473034,-5.73147204187 l0.456878418724,-5.88951309522 0.360819738772,-3.20763952202 l4.00426619583,4.88465030988 4.08445000648,3.98850209183 l0.644107369913,0.567427732878 8.52729744381,0.100574404415 l4.23655576176,0.955911229054 1.40017916759,0.52162218425 l4.35907178455,-5.54194880856 3.89501518673,-5.01840545071 l0.475696019,0.607303902507 0.10373118437,1.15423053503 l-0.0475585460663,8.20465750164 0.776927835411,2.08208858967 l0.761010249456,2.91037195259 0.283625514971,3.03024980757 l-0.0769368683298,5.1056176424 -1.08211214344,7.61361585723 l-2.85230014059,5.05475136969 -2.51519680023,3.37398416466 l-1.64337704579,0.812018331554 -9.76768599616,1.48897303475 l-5.85995250278,-0.210214075115 -8.49886536598,-3.62384882238 l-3.75092724959,-4.77357440525 -1.35744967394,-3.75066200892 l-0.395840406418,-2.13336729341 -0.111458440208,-3.59170834223 l0.46823989186,-2.9078433911 m22.5144386292,4.56625488069 l-1.00682162576,0.934251977338 0.53650447064,-0.646497102247 l0.211158436206,-0.465688192182 -0.574136318432,0.0929957980083 l-0.082090533235,-0.592177609603 -0.459901947114,0.695983403259 l-0.35070690016,0.795007331504 m1.1074917184,-0.398218507568 l0.584702690442,-1.10269031591 1.368318167,-1.30455957519 l1.81855956713,-0.759073595206 m-4.11164661249,4.15644182099 l2.30736699369,-0.653491210606 m-3.98052632809,1.31060679754 l-0.180515915983,0.359713907043 m0.412236319648,-2.90283726321 l-3.1316469113,-2.29721532928 m3.3847235971,2.97677914302 l-2.27702375915,-1.18737253878 -1.58639301856,-0.777727448278 m11.2268686295,-4.2206287384 l-0.258625671268,-0.682569170992 0.51595374114,-0.807683997684 l0.0928372662101,0.980192919572 -1.09306068884,0.649275837673 l-0.298124944998,-0.0972413871851 0.208266824484,-0.597162461943 m-9.94726750586,-2.37220906549 l1.33227134744,-0.284123089578 0.402711911334,0.368091588219 l-1.0681964457,0.748701724741 -1.03112889661,0.183429796663 l0.148367074629,-1.03702288535 0.650581469138,0.383351080947 l-0.281811443468,0.680200714204 m12.6577072673,3.36636172401 l1.76859746377,-0.0778895492355 6.64247274399,-2.36206634177 l4.12038067977,-0.431229132745 6.29016425874,0.606253991524 m-17.1089450518,4.77604137527 l11.9568202231,0.0851686267803 2.17202785942,0.522178452876 m-14.0776409043,3.41829723782 l4.19604844517,-0.000703924484292 2.94633209705,0.991820130083 m-27.0175006655,-3.82399525907 l-5.16543388367,-0.0320789895745 m85.9522213875,-8.80213446503 l-0.317765565382,-3.29133073489 0.101041473034,-5.73147204187 l0.456878418724,-5.88951309522 0.360819738772,-3.20763952202 l4.00426619583,4.88465030988 4.08445000648,3.98850209183 l0.644107369913,0.567427732878 8.52729744381,0.100574404415 l4.23655576176,0.955911229054 1.40017916759,0.52162218425 l4.35907178455,-5.54194880856 3.89501518673,-5.01840545071 l0.475696019,0.607303902507 0.10373118437,1.15423053503 l-0.0475585460663,8.20465750164 0.776927835411,2.08208858967 l0.761010249456,2.91037195259 0.283625514971,3.03024980757 l-0.0769368683298,5.1056176424 -1.08211214344,7.61361585723 l-2.85230014059,5.05475136969 -2.51519680023,3.37398416466 l-1.64337704579,0.812018331554 -9.76768599616,1.48897303475 l-5.85995250278,-0.210214075115 -8.49886536598,-3.62384882238 l-3.75092724959,-4.77357440525 -1.35744967394,-3.75066200892 l-0.395840406418,-2.13336729341 -0.111458440208,-3.59170834223 l0.46823989186,-2.9078433911 m22.5144386292,4.56625488069 l-1.00682162576,0.934251977338 0.0206277705729,-0.570950532953 l0.953813559479,-0.241452662481 0.758599324359,1.09983773695 l-0.126165741434,0.393590703607 0.271423347294,-0.184616694848 m-1.70435872343,0.890775273244 l-4.23247847292,-1.57922224866 -4.65251770284,-0.713871750567 l-8.64455567466,-0.439436899291 -2.06821643644,0.467093661427 l-0.664749824338,1.04977612694 m18.5004989306,1.48331705067 l-12.024989393,2.83973713716 -6.95612629255,2.84108453327 l-3.10532914268,1.8661149674 m22.2871144613,-7.33617080583 l-1.76480809848,1.09948507614 -2.40633851952,1.55465039942 l-5.68902293841,4.44327361054 -6.70653647847,6.4010573758 l0.547762753235,0.333175828887 m18.5018473201,-15.3512716293 l8.44774179988,0.324472122722 11.6010944049,-1.75281299485 l2.57686509026,-0.165279302746 1.93290147516,0.185243330068 l1.30187645555,0.493487798505 m-24.2143763436,4.0209962262 l0.942013081577,0.337349147432 5.43698436684,1.836098565 l14.6293322245,3.52573096752 1.58211688201,0.288752011127 l1.44546661112,-7.83110711685e-05 m-24.244483312,-4.97061279085 l2.86274883482,1.26708058847 9.14264718692,5.30967911084 l11.9886994362,8.16638999515 1.82781832086,0.845967233181 m-32.8766081068,-26.0283788045 l0.0118168226133,1.01048209601 m79.0096294774,-3.00994807503 l-0.317765565382,-3.29133073489 0.101041473034,-5.73147204187 l0.456878418724,-5.88951309522 0.360819738772,-3.20763952202 l4.00426619583,4.88465030988 4.08445000648,3.98850209183 l0.644107369913,0.567427732878 8.52729744381,0.100574404415 l4.23655576176,0.955911229054 1.40017916759,0.52162218425 l4.35907178455,-5.54194880856 3.89501518673,-5.01840545071 l0.475696019,0.607303902507 0.10373118437,1.15423053503 l-0.0475585460663,8.20465750164 0.776927835411,2.08208858967 l0.761010249456,2.91037195259 0.283625514971,3.03024980757 l-0.0769368683298,5.1056176424 -1.08211214344,7.61361585723 l-2.85230014059,5.05475136969 -2.51519680023,3.37398416466 l-1.64337704579,0.812018331554 -9.76768599616,1.48897303475 l-5.85995250278,-0.210214075115 -8.49886536598,-3.62384882238 l-3.75092724959,-4.77357440525 -1.35744967394,-3.75066200892 l-0.395840406418,-2.13336729341 -0.111458440208,-3.59170834223 l0.46823989186,-2.9078433911 m22.5144386292,4.56625488069 l-1.00682162576,0.934251977338 0.655768604742,-0.0632765133762 l1.21286958456,-0.406484305859 -1.09787227379,-0.297188945115 l0.358880062898,0.483340935575 0.189464290937,-0.0392266782001 l-0.203731945819,-0.398682513171 -0.479354502426,0.261496028139 l-0.000607676904312,0.74507329199 0.0921853714519,0.773946278625 l0.197619116969,0.224044794838 0.40507349703,-1.50145739317 l0.352580390043,-3.24669910802 0.982173863384,1.82674394714 l0.22497802145,0.257365157207 m-6.31270143721,-8.94230670399 l-1.41588019,1.12333620588 m7.00490805838,-1.2727515565 l-0.166907523655,1.27093005511 0.615422593223,0.257958016462 l0.865904904074,-1.15528495775 m-4.58819799953,3.88174388144 l-0.195660276545,3.25531793965 -2.33727428648,3.05435756842 l-3.12617818515,0.785054928727 -0.856417086389,-1.57024959723 l-0.736649831136,-3.21309069792 m6.81533283657,-1.10845184988 l0.0347033272394,4.23205527994 1.8133211467,1.99590391583 l2.06212335163,0.990415033367 3.46302423212,0.557429095109 l1.76925775078,-0.856290757656 0.95702111721,-2.88777252038 l-0.140703407427,-1.16866537266 m-1.15899344285,-0.405969512131 l14.1812470224,-4.33912773927 12.3228430748,-2.49451084269 l13.5071423319,-5.22537695037 m-36.6763273875,14.2688022719 l31.9057358636,1.87527702914 7.94933636983,1.52649233739 l4.23532227675,0.805535415808 m-41.6284296248,0.437886102332 l16.731025113,7.57943855392 18.144888348,7.54911104838 m-64.9472607507,-22.9087962045 l-0.539305764768,-0.507368147373 -2.7618115147,-0.558590268095 l-22.4536445406,-2.41258790096 -11.863776048,-1.0956329604 l-2.9228190581,-0.120084960428 m129.860157887,1.85907989508 l-0.317765565382,-3.29133073489 0.101041473034,-5.73147204187 l0.456878418724,-5.88951309522 0.360819738772,-3.20763952202 l4.00426619583,4.88465030988 4.08445000648,3.98850209183 l0.644107369913,0.567427732878 8.52729744381,0.100574404415 l4.23655576176,0.955911229054 1.40017916759,0.52162218425 l4.35907178455,-5.54194880856 3.89501518673,-5.01840545071 l0.475696019,0.607303902507 0.10373118437,1.15423053503 l-0.0475585460663,8.20465750164 0.776927835411,2.08208858967 l0.761010249456,2.91037195259 0.283625514971,3.03024980757 l-0.0769368683298,5.1056176424 -1.08211214344,7.61361585723 l-2.85230014059,5.05475136969 -2.51519680023,3.37398416466 l-1.64337704579,0.812018331554 -9.76768599616,1.48897303475 l-5.85995250278,-0.210214075115 -8.49886536598,-3.62384882238 l-3.75092724959,-4.77357440525 -1.35744967394,-3.75066200892 l-0.395840406418,-2.13336729341 -0.111458440208,-3.59170834223 l0.46823989186,-2.9078433911 m22.5144386292,4.56625488069 l-1.00682162576,0.934251977338 1.2034645511,-1.21692137586 l-0.132402436187,-0.292563314239 m0.0433469061843,1.24886201488 l-0.268819679817,-1.0463702182 0.202160080274,-1.1061285105 l1.04831564758,-1.73189325465 6.6219329834,-3.16736631923 l3.24622458882,-0.361336684889 m-12.5334488021,6.52021699482 l-4.65462307135,-1.44180638923 -4.43257855044,-1.36677796642 l-0.715924385521,-0.0795840440939 m8.89889531665,3.17989587784 l-0.243687815964,0.000246391411767 -1.24946311116,1.52921726306 m2.2389355633,-0.964963684479 l2.61753201485,0.688388612535 5.75269858042,0.000274240786287 m-10.4006217586,-7.9624513785 l0.0629523769021,-0.429495837953 m10.195142693,0.973098642296 l0.000155821200881,0.000785135004359 0.405267212126,-0.193108597563 m-6.92251192199,10.2855179045 l-2.17934548855,-0.042052874859 -1.26136980123,-1.0036047962 m-9.62802767754,-6.14933371544 l-0.592445830504,-0.990592439969 0.620251397292,-0.0554636638198 l2.47917208407,-0.637952569458 2.72000961834,-0.194582487974 l1.09420849217,0.550700765517 -0.00150831603807,0.600129614274 l-1.43478032615,0.307366914219 -3.03421914577,-0.019238770215 l-0.53186925749,-0.450964478983 0.0118088740338,-0.493434361286 m16.4396643639,1.10186197691 l0.0120143561314,-0.908479260074 1.36534629597,-1.23994549115 l3.58959800667,-1.07711388005 -0.218133586976,0.000599236955168 l-0.777385549413,0.405613829692 -3.62473063999,1.73142006 l0.316853924758,-0.00505332524578 2.38421410322,-0.161145265318 m58.959926565,-2.62000002678 l-0.317765565382,-3.29133073489 0.101041473034,-5.73147204187 l0.456878418724,-5.88951309522 0.360819738772,-3.20763952202 l4.00426619583,4.88465030988 4.08445000648,3.98850209183 l0.644107369913,0.567427732878 8.52729744381,0.100574404415 l4.23655576176,0.955911229054 1.40017916759,0.52162218425 l4.35907178455,-5.54194880856 3.89501518673,-5.01840545071 l0.475696019,0.607303902507 0.10373118437,1.15423053503 l-0.0475585460663,8.20465750164 0.776927835411,2.08208858967 l0.761010249456,2.91037195259 0.283625514971,3.03024980757 l-0.0769368683298,5.1056176424 -1.08211214344,7.61361585723 l-2.85230014059,5.05475136969 -2.51519680023,3.37398416466 l-1.64337704579,0.812018331554 -9.76768599616,1.48897303475 l-5.85995250278,-0.210214075115 -8.49886536598,-3.62384882238 l-3.75092724959,-4.77357440525 -1.35744967394,-3.75066200892 l-0.395840406418,-2.13336729341 -0.111458440208,-3.59170834223 l0.46823989186,-2.9078433911 m22.5144386292,4.56625488069 l-1.00682162576,0.934251977338 1.93449308475,-0.4313920935 l-0.0855318063663,-0.0387559981189 -1.11760074894,0.88307849235 m-10.3767891725,-7.44915273454 l-0.612818366951,-0.925432642301 -0.299482813312,0.000230644986409 l0.15717630999,0.966150479184 0.763225141499,0.439425019754 l0.349051629504,-1.84017320474 -0.371292150683,0.540146480004 l0.377991754148,0.208142730925 0.916159235769,-0.255008828309 m17.4477563964,-1.06865515312 l-0.680390000343,0.809770408604 0.267297753857,0.583549671703 l0.493150949478,-1.07658199138 -0.199184028639,-0.940763453643 m-9.37330457899,12.1496015125 l-1.1221608354,2.18733681573 -2.39234765371,2.75370826324 l-2.15773847368,0.756238318152 -2.31791320774,-0.131184731921 m8.10728735394,-7.62267046505 l-0.307131455176,1.09944807159 1.78251150582,5.96781902843 l1.36990514066,1.14666827851 2.25439601474,0.0616081938561 l3.5127311945,-1.16563422812 m-7.27929340469,-8.41338237127 l1.08467613657,-0.792918602626 15.5501074261,-8.08863110012 l4.72240149975,-2.05913252301 m-21.782040596,10.8732958635 l6.78933064143,-0.0853348057717 17.6343493991,-2.05020043585 m-25.3304243088,4.16429605749 l-0.0444080628869,-0.0283320305041 1.88712378343,1.03563798798 l5.4722716411,3.28930583265 14.161684778,7.86352091365 m-24.234339926,-14.6916720602 l-7.60336584515,0.0932347650329 -14.3709315194,-2.38700889879 \" fill=\"none\" stroke=\"black\" stroke-width=\"1\"/></svg>"
      ],
      "text/plain": [
       "<IPython.core.display.SVG object>"
      ]
     },
     "metadata": {},
     "output_type": "display_data"
    }
   ],
   "source": [
    "# Encode generated strokes to a hidden state h\n",
    "strokes_0 = sample_strokes_part # dx, dx, p1, p2, p3\n",
    "\n",
    "# h_1 = sess.run(eval_model.batch_z, feed_dict={eval_model.input_data: [strokes_0], eval_model.sequence_lengths: seq_len})[0]\n",
    "reconstructions = []\n",
    "N = 8\n",
    "for i in range(N):\n",
    "    sample_strokes_2, m, _, _ = sample(sess=sess, model=sample_model, seq_len=250, temperature=0.75, prev_state = final_state)\n",
    "    strokes_2 = to_normal_strokes(sample_strokes_2)\n",
    "    all_strokes_big = np.concatenate((strokes_0,sample_strokes_2),axis=0)\n",
    "    all_strokes = to_normal_strokes(all_strokes_big)\n",
    "    if i == 0:\n",
    "        sketch_0 = [draw_strokes(strokes_part, factor=0.2), [0, 0]]\n",
    "        sketch_1 = [draw_strokes(strokes_2, factor=0.2),[0, 1]]\n",
    "        sketch_2 = [draw_strokes(all_strokes, factor=0.2),[0, 1]]\n",
    "    \n",
    "    reconstructions.append([all_strokes, [0, i]])\n",
    "    \n",
    "stroke_grid = make_grid_svg(reconstructions)\n",
    "draw_strokes(stroke_grid, factor=0.18, svg_filename = 'svg/test.svg')"
   ]
  },
  {
   "cell_type": "code",
   "execution_count": 17,
   "metadata": {},
   "outputs": [
    {
     "name": "stdout",
     "output_type": "stream",
     "text": [
      "INFO:tensorflow:Model using gpu.\n"
     ]
    },
    {
     "name": "stderr",
     "output_type": "stream",
     "text": [
      "INFO:tensorflow:Model using gpu.\n"
     ]
    },
    {
     "name": "stdout",
     "output_type": "stream",
     "text": [
      "INFO:tensorflow:Input dropout mode = False.\n"
     ]
    },
    {
     "name": "stderr",
     "output_type": "stream",
     "text": [
      "INFO:tensorflow:Input dropout mode = False.\n"
     ]
    },
    {
     "name": "stdout",
     "output_type": "stream",
     "text": [
      "INFO:tensorflow:Output dropout mode = False.\n"
     ]
    },
    {
     "name": "stderr",
     "output_type": "stream",
     "text": [
      "INFO:tensorflow:Output dropout mode = False.\n"
     ]
    },
    {
     "name": "stdout",
     "output_type": "stream",
     "text": [
      "INFO:tensorflow:Recurrent dropout mode = True.\n"
     ]
    },
    {
     "name": "stderr",
     "output_type": "stream",
     "text": [
      "INFO:tensorflow:Recurrent dropout mode = True.\n"
     ]
    },
    {
     "name": "stdout",
     "output_type": "stream",
     "text": [
      "INFO:tensorflow:Model using gpu.\n"
     ]
    },
    {
     "name": "stderr",
     "output_type": "stream",
     "text": [
      "INFO:tensorflow:Model using gpu.\n"
     ]
    },
    {
     "name": "stdout",
     "output_type": "stream",
     "text": [
      "INFO:tensorflow:Input dropout mode = 0.\n"
     ]
    },
    {
     "name": "stderr",
     "output_type": "stream",
     "text": [
      "INFO:tensorflow:Input dropout mode = 0.\n"
     ]
    },
    {
     "name": "stdout",
     "output_type": "stream",
     "text": [
      "INFO:tensorflow:Output dropout mode = 0.\n"
     ]
    },
    {
     "name": "stderr",
     "output_type": "stream",
     "text": [
      "INFO:tensorflow:Output dropout mode = 0.\n"
     ]
    },
    {
     "name": "stdout",
     "output_type": "stream",
     "text": [
      "INFO:tensorflow:Recurrent dropout mode = 0.\n"
     ]
    },
    {
     "name": "stderr",
     "output_type": "stream",
     "text": [
      "INFO:tensorflow:Recurrent dropout mode = 0.\n"
     ]
    },
    {
     "name": "stdout",
     "output_type": "stream",
     "text": [
      "INFO:tensorflow:Model using gpu.\n"
     ]
    },
    {
     "name": "stderr",
     "output_type": "stream",
     "text": [
      "INFO:tensorflow:Model using gpu.\n"
     ]
    },
    {
     "name": "stdout",
     "output_type": "stream",
     "text": [
      "INFO:tensorflow:Input dropout mode = 0.\n"
     ]
    },
    {
     "name": "stderr",
     "output_type": "stream",
     "text": [
      "INFO:tensorflow:Input dropout mode = 0.\n"
     ]
    },
    {
     "name": "stdout",
     "output_type": "stream",
     "text": [
      "INFO:tensorflow:Output dropout mode = 0.\n"
     ]
    },
    {
     "name": "stderr",
     "output_type": "stream",
     "text": [
      "INFO:tensorflow:Output dropout mode = 0.\n"
     ]
    },
    {
     "name": "stdout",
     "output_type": "stream",
     "text": [
      "INFO:tensorflow:Recurrent dropout mode = 0.\n"
     ]
    },
    {
     "name": "stderr",
     "output_type": "stream",
     "text": [
      "INFO:tensorflow:Recurrent dropout mode = 0.\n"
     ]
    },
    {
     "name": "stdout",
     "output_type": "stream",
     "text": [
      "INFO:tensorflow:Loading model checkpoint_path/broccoli/vector-185000.\n"
     ]
    },
    {
     "name": "stderr",
     "output_type": "stream",
     "text": [
      "INFO:tensorflow:Loading model checkpoint_path/broccoli/vector-185000.\n"
     ]
    },
    {
     "name": "stdout",
     "output_type": "stream",
     "text": [
      "INFO:tensorflow:Restoring parameters from checkpoint_path/broccoli/vector-185000\n"
     ]
    },
    {
     "name": "stderr",
     "output_type": "stream",
     "text": [
      "INFO:tensorflow:Restoring parameters from checkpoint_path/broccoli/vector-185000\n"
     ]
    },
    {
     "data": {
      "image/svg+xml": [
       "<svg baseProfile=\"full\" height=\"81.7116046441\" version=\"1.1\" width=\"250.276573887\" xmlns=\"http://www.w3.org/2000/svg\" xmlns:ev=\"http://www.w3.org/2001/xml-events\" xmlns:xlink=\"http://www.w3.org/1999/xlink\"><defs/><rect fill=\"white\" height=\"81.7116046441\" width=\"250.276573887\" x=\"0\" y=\"0\"/><path d=\"M25,25 m0.0,0.0 m39.4163316116,23.8256775448 l-0.141545906663,2.42627337575 1.16733677685,2.23527848721 l-0.0605101790279,0.113366423175 m78.1627532281,-3.20914868498 l0.209504645318,4.09584522247 0.283146500587,0.848228782415 l0.382293052971,1.37608349323 0.310080070049,-4.70783263445 l0.269592367113,0.0685672601685 1.66615694761,-0.592253468931 m78.2300269697,-2.53764314344 l-0.0578843522817,-1.06194250286 0.439292155206,0.381791964173 l-0.668916478753,1.67339116335 0.401255041361,0.0599315576255 \" fill=\"none\" stroke=\"black\" stroke-width=\"1\"/></svg>"
      ],
      "text/plain": [
       "<IPython.core.display.SVG object>"
      ]
     },
     "metadata": {},
     "output_type": "display_data"
    }
   ],
   "source": [
    "# Now try to switch the class\n",
    "model_dir = 'checkpoint_path/broccoli'\n",
    "[hps_model, eval_hps_model, sample_hps_model] = load_model(model_dir)\n",
    "# construct the sketch-rnn model here:\n",
    "reset_graph()\n",
    "model = Model(hps_model)\n",
    "eval_model = Model(eval_hps_model, reuse=True)\n",
    "sample_model = Model(sample_hps_model, reuse=True)\n",
    "sess = tf.InteractiveSession()\n",
    "sess.run(tf.global_variables_initializer())\n",
    "\n",
    "# loads the weights from checkpoint into our model\n",
    "load_checkpoint(sess, model_dir)\n",
    "\n",
    "# randomly unconditionally generate examples\n",
    "reconstructions = []\n",
    "for i in range(3):\n",
    "    reconstructions.append([decode(temperature=0.2, draw_mode=False), [0, i]])\n",
    "stroke_grid = make_grid_svg(reconstructions)\n",
    "draw_strokes(stroke_grid)\n"
   ]
  },
  {
   "cell_type": "code",
   "execution_count": 15,
   "metadata": {},
   "outputs": [
    {
     "name": "stdout",
     "output_type": "stream",
     "text": [
      "33\n"
     ]
    },
    {
     "data": {
      "image/svg+xml": [
       "<svg baseProfile=\"full\" height=\"86.3514826819\" version=\"1.1\" width=\"659.362190422\" xmlns=\"http://www.w3.org/2000/svg\" xmlns:ev=\"http://www.w3.org/2001/xml-events\" xmlns:xlink=\"http://www.w3.org/1999/xlink\"><defs/><rect fill=\"white\" height=\"86.3514826819\" width=\"659.362190422\" x=\"0\" y=\"0\"/><path d=\"M25,25 m0.0,0.0 m46.7595676379,21.2347954512 l-0.889713913202,-1.53125464916 -1.63348257542,-1.40731006861 l-4.65259581804,-0.671641677618 -3.90571475029,0.458842068911 l-3.12335371971,1.25308349729 -1.74007490277,2.08329468966 l-1.48979991674,5.35118162632 0.0114164268598,1.78115263581 l2.37871497869,5.55325329304 2.82928526402,1.88390314579 l4.40504431725,0.362182669342 3.23602706194,-1.13222017884 l1.76139220595,-0.966143161058 3.42409551144,-5.76872289181 l0.397044084966,-3.00516396761 -2.04357177019,-3.86890977621 l-2.20051169395,-0.572848729789 m-10.7371997833,0.242348946631 l-0.560020804405,-1.00738339126 -3.36816608906,-5.45454084873 l0.4539584741,3.22645366192 0.698057189584,4.93668735027 l0.347860530019,0.897490158677 m14.2984771729,-3.11530768871 l0.178833380342,-1.17879092693 0.747851207852,-2.70431160927 l2.09844246507,-6.29411160946 1.68032824993,7.6342779398 l-0.970773398876,6.11768066883 m-9.05237138271,1.1036028713 l-0.203314162791,0.202101171017 0.554875023663,-0.00386258412618 l0.116883758456,-0.253591835499 1.3168233633,-0.024275474716 l1.90745636821,7.74268627167 -1.83105185628,0.486526638269 l0.919555127621,0.0130520109087 m84.6392943757,-12.369410246 l-0.889713913202,-1.53125464916 -1.63348257542,-1.40731006861 l-4.65259581804,-0.671641677618 -3.90571475029,0.458842068911 l-3.12335371971,1.25308349729 -1.74007490277,2.08329468966 l-1.48979991674,5.35118162632 0.0114164268598,1.78115263581 l2.37871497869,5.55325329304 2.82928526402,1.88390314579 l4.40504431725,0.362182669342 3.23602706194,-1.13222017884 l1.76139220595,-0.966143161058 3.42409551144,-5.76872289181 l0.397044084966,-3.00516396761 -2.04357177019,-3.86890977621 l-2.20051169395,-0.572848729789 m-10.7371997833,0.242348946631 l-0.560020804405,-1.00738339126 -3.36816608906,-5.45454084873 l0.4539584741,3.22645366192 0.698057189584,4.93668735027 l0.347860530019,0.897490158677 m14.2984771729,-3.11530768871 l0.178833380342,-1.17879092693 0.747851207852,-2.70431160927 l2.09844246507,-6.29411160946 1.68032824993,7.6342779398 l-0.970773398876,6.11768066883 m-9.05237138271,1.1036028713 l-0.203314162791,0.202101171017 0.554875023663,-0.00386258412618 l0.116883758456,-0.253591835499 2.11606770754,0.0427324464545 l-1.71346664429,7.56926298141 m86.5494763153,-11.7634162278 l-0.889713913202,-1.53125464916 -1.63348257542,-1.40731006861 l-4.65259581804,-0.671641677618 -3.90571475029,0.458842068911 l-3.12335371971,1.25308349729 -1.74007490277,2.08329468966 l-1.48979991674,5.35118162632 0.0114164268598,1.78115263581 l2.37871497869,5.55325329304 2.82928526402,1.88390314579 l4.40504431725,0.362182669342 3.23602706194,-1.13222017884 l1.76139220595,-0.966143161058 3.42409551144,-5.76872289181 l0.397044084966,-3.00516396761 -2.04357177019,-3.86890977621 l-2.20051169395,-0.572848729789 m-10.7371997833,0.242348946631 l-0.560020804405,-1.00738339126 -3.36816608906,-5.45454084873 l0.4539584741,3.22645366192 0.698057189584,4.93668735027 l0.347860530019,0.897490158677 m14.2984771729,-3.11530768871 l0.178833380342,-1.17879092693 0.747851207852,-2.70431160927 l2.09844246507,-6.29411160946 1.68032824993,7.6342779398 l-0.970773398876,6.11768066883 m-9.05237138271,1.1036028713 l-0.203314162791,0.202101171017 0.554875023663,-0.00386258412618 l0.116883758456,-0.253591835499 -0.150787038729,1.953959167 m87.1028644172,-6.1053799669 l-0.889713913202,-1.53125464916 -1.63348257542,-1.40731006861 l-4.65259581804,-0.671641677618 -3.90571475029,0.458842068911 l-3.12335371971,1.25308349729 -1.74007490277,2.08329468966 l-1.48979991674,5.35118162632 0.0114164268598,1.78115263581 l2.37871497869,5.55325329304 2.82928526402,1.88390314579 l4.40504431725,0.362182669342 3.23602706194,-1.13222017884 l1.76139220595,-0.966143161058 3.42409551144,-5.76872289181 l0.397044084966,-3.00516396761 -2.04357177019,-3.86890977621 l-2.20051169395,-0.572848729789 m-10.7371997833,0.242348946631 l-0.560020804405,-1.00738339126 -3.36816608906,-5.45454084873 l0.4539584741,3.22645366192 0.698057189584,4.93668735027 l0.347860530019,0.897490158677 m14.2984771729,-3.11530768871 l0.178833380342,-1.17879092693 0.747851207852,-2.70431160927 l2.09844246507,-6.29411160946 1.68032824993,7.6342779398 l-0.970773398876,6.11768066883 m-9.05237138271,1.1036028713 l-0.203314162791,0.202101171017 0.554875023663,-0.00386258412618 l0.116883758456,-0.253591835499 m86.9520773785,-4.1514207999 l-0.889713913202,-1.53125464916 -1.63348257542,-1.40731006861 l-4.65259581804,-0.671641677618 -3.90571475029,0.458842068911 l-3.12335371971,1.25308349729 -1.74007490277,2.08329468966 l-1.48979991674,5.35118162632 0.0114164268598,1.78115263581 l2.37871497869,5.55325329304 2.82928526402,1.88390314579 l4.40504431725,0.362182669342 3.23602706194,-1.13222017884 l1.76139220595,-0.966143161058 3.42409551144,-5.76872289181 l0.397044084966,-3.00516396761 -2.04357177019,-3.86890977621 l-2.20051169395,-0.572848729789 m-10.7371997833,0.242348946631 l-0.560020804405,-1.00738339126 -3.36816608906,-5.45454084873 l0.4539584741,3.22645366192 0.698057189584,4.93668735027 l0.347860530019,0.897490158677 m14.2984771729,-3.11530768871 l0.178833380342,-1.17879092693 0.747851207852,-2.70431160927 l2.09844246507,-6.29411160946 1.68032824993,7.6342779398 l-0.970773398876,6.11768066883 m-9.05237138271,1.1036028713 l-0.203314162791,0.202101171017 0.554875023663,-0.00386258412618 l0.116883758456,-0.253591835499 -2.79249548912,-0.54709520191 m89.7445728676,-3.60432559799 l-0.889713913202,-1.53125464916 -1.63348257542,-1.40731006861 l-4.65259581804,-0.671641677618 -3.90571475029,0.458842068911 l-3.12335371971,1.25308349729 -1.74007490277,2.08329468966 l-1.48979991674,5.35118162632 0.0114164268598,1.78115263581 l2.37871497869,5.55325329304 2.82928526402,1.88390314579 l4.40504431725,0.362182669342 3.23602706194,-1.13222017884 l1.76139220595,-0.966143161058 3.42409551144,-5.76872289181 l0.397044084966,-3.00516396761 -2.04357177019,-3.86890977621 l-2.20051169395,-0.572848729789 m-10.7371997833,0.242348946631 l-0.560020804405,-1.00738339126 -3.36816608906,-5.45454084873 l0.4539584741,3.22645366192 0.698057189584,4.93668735027 l0.347860530019,0.897490158677 m14.2984771729,-3.11530768871 l0.178833380342,-1.17879092693 0.747851207852,-2.70431160927 l2.09844246507,-6.29411160946 1.68032824993,7.6342779398 l-0.970773398876,6.11768066883 m-9.05237138271,1.1036028713 l-0.203314162791,0.202101171017 0.554875023663,-0.00386258412618 l0.116883758456,-0.253591835499 -0.0829172879457,0.465336889029 l1.00198082626,-1.13713659346 m86.0330138402,-3.47962109547 l-0.889713913202,-1.53125464916 -1.63348257542,-1.40731006861 l-4.65259581804,-0.671641677618 -3.90571475029,0.458842068911 l-3.12335371971,1.25308349729 -1.74007490277,2.08329468966 l-1.48979991674,5.35118162632 0.0114164268598,1.78115263581 l2.37871497869,5.55325329304 2.82928526402,1.88390314579 l4.40504431725,0.362182669342 3.23602706194,-1.13222017884 l1.76139220595,-0.966143161058 3.42409551144,-5.76872289181 l0.397044084966,-3.00516396761 -2.04357177019,-3.86890977621 l-2.20051169395,-0.572848729789 m-10.7371997833,0.242348946631 l-0.560020804405,-1.00738339126 -3.36816608906,-5.45454084873 l0.4539584741,3.22645366192 0.698057189584,4.93668735027 l0.347860530019,0.897490158677 m14.2984771729,-3.11530768871 l0.178833380342,-1.17879092693 0.747851207852,-2.70431160927 l2.09844246507,-6.29411160946 1.68032824993,7.6342779398 l-0.970773398876,6.11768066883 m-9.05237138271,1.1036028713 l-0.203314162791,0.202101171017 0.554875023663,-0.00386258412618 l0.116883758456,-0.253591835499 -1.26542791724,-1.46822392941 l-0.0213024090044,-3.59011560678 -0.189043376595,2.23798796535 l0.912880077958,-1.03695482016 m87.5149710034,-0.294114408898 l-0.889713913202,-1.53125464916 -1.63348257542,-1.40731006861 l-4.65259581804,-0.671641677618 -3.90571475029,0.458842068911 l-3.12335371971,1.25308349729 -1.74007490277,2.08329468966 l-1.48979991674,5.35118162632 0.0114164268598,1.78115263581 l2.37871497869,5.55325329304 2.82928526402,1.88390314579 l4.40504431725,0.362182669342 3.23602706194,-1.13222017884 l1.76139220595,-0.966143161058 3.42409551144,-5.76872289181 l0.397044084966,-3.00516396761 -2.04357177019,-3.86890977621 l-2.20051169395,-0.572848729789 m-10.7371997833,0.242348946631 l-0.560020804405,-1.00738339126 -3.36816608906,-5.45454084873 l0.4539584741,3.22645366192 0.698057189584,4.93668735027 l0.347860530019,0.897490158677 m14.2984771729,-3.11530768871 l0.178833380342,-1.17879092693 0.747851207852,-2.70431160927 l2.09844246507,-6.29411160946 1.68032824993,7.6342779398 l-0.970773398876,6.11768066883 m-9.05237138271,1.1036028713 l-0.203314162791,0.202101171017 0.554875023663,-0.00386258412618 l0.116883758456,-0.253591835499 -3.43264192343,0.707424506545 \" fill=\"none\" stroke=\"black\" stroke-width=\"1\"/></svg>"
      ],
      "text/plain": [
       "<IPython.core.display.SVG object>"
      ]
     },
     "metadata": {},
     "output_type": "display_data"
    }
   ],
   "source": [
    "# encode incomplete strokes in a hidden state\n",
    "_, hidden_states = get_hidden_states(sess=sess, model=sample_model, input_strokes = strokes_0)\n",
    "print(len(hidden_states))\n",
    "\n",
    "input_state = hidden_states[-1]\n",
    "\n",
    "reconstructions = []\n",
    "for i in range(N):\n",
    "    sample_strokes_3, _, _, _ = sample(sess=sess, model=sample_model, temperature=0.5, prev_state = input_state)\n",
    "    strokes_3 = to_normal_strokes(sample_strokes_3)\n",
    "    all_strokes_big = np.concatenate((sample_strokes_part,sample_strokes_3),axis=0)\n",
    "    all_strokes = to_normal_strokes(all_strokes_big)\n",
    "    \n",
    "    reconstructions.append([all_strokes, [0, i]])\n",
    "    \n",
    "stroke_grid = make_grid_svg(reconstructions)\n",
    "draw_strokes(stroke_grid, svg_filename = 'svg/test.svg')"
   ]
  },
  {
   "cell_type": "code",
   "execution_count": null,
   "metadata": {
    "collapsed": true
   },
   "outputs": [],
   "source": []
  },
  {
   "cell_type": "code",
   "execution_count": null,
   "metadata": {
    "collapsed": true
   },
   "outputs": [],
   "source": []
  }
 ],
 "metadata": {
  "kernelspec": {
   "display_name": "Python 2",
   "language": "python",
   "name": "python2"
  },
  "language_info": {
   "codemirror_mode": {
    "name": "ipython",
    "version": 2
   },
   "file_extension": ".py",
   "mimetype": "text/x-python",
   "name": "python",
   "nbconvert_exporter": "python",
   "pygments_lexer": "ipython2",
   "version": "2.7.14"
  }
 },
 "nbformat": 4,
 "nbformat_minor": 1
}
