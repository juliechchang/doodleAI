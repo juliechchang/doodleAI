{
 "cells": [
  {
   "cell_type": "code",
   "execution_count": 1,
   "metadata": {},
   "outputs": [],
   "source": [
    "# import the required libraries\n",
    "import numpy as np\n",
    "import time\n",
    "import random\n",
    "import cPickle\n",
    "import codecs\n",
    "import collections\n",
    "import os\n",
    "import math\n",
    "import json\n",
    "import tensorflow as tf\n",
    "from six.moves import xrange\n",
    "%load_ext autoreload\n",
    "%autoreload 2\n",
    "\n",
    "#os.environ[\"CUDA_VISIBLE_DEVICES\"]=\"1\"\n",
    "\n",
    "# libraries required for visualisation:\n",
    "from IPython.display import SVG, display\n",
    "import svgwrite # conda install -c omnia svgwrite=1.1.6\n",
    "import PIL\n",
    "from PIL import Image\n",
    "import matplotlib.pyplot as plt\n",
    "% matplotlib inline\n",
    "\n",
    "# set numpy output to something sensible\n",
    "np.set_printoptions(precision=8, edgeitems=6, linewidth=200, suppress=True)\n",
    "\n"
   ]
  },
  {
   "cell_type": "code",
   "execution_count": 2,
   "metadata": {},
   "outputs": [],
   "source": [
    "# import our command line tools\n",
    "from sketch_rnn_train_orig import *\n",
    "from model_mod import *\n",
    "from utils_orig import *\n",
    "from rnn_orig import *"
   ]
  },
  {
   "cell_type": "code",
   "execution_count": 3,
   "metadata": {},
   "outputs": [],
   "source": [
    "# little function that displays vector images and saves them to .svg\n",
    "def draw_strokes(data, color=\"black\", doGradient=False, endColor=\"black\", factor=0.2, svg_filename = 'svg/sample.svg'):\n",
    "    tf.gfile.MakeDirs(os.path.dirname(svg_filename))\n",
    "    min_x, max_x, min_y, max_y = get_bounds(data, factor)\n",
    "    dims = (50 + max_x - min_x, 50 + max_y - min_y)\n",
    "    dwg = svgwrite.Drawing(svg_filename, size=dims)\n",
    "    dwg.add(dwg.rect(insert=(0, 0), size=dims,fill='white'))\n",
    "    lift_pen = 1\n",
    "    abs_x = 25 - min_x \n",
    "    abs_y = 25 - min_y\n",
    "    p = \"M%s,%s \" % (abs_x, abs_y)\n",
    "    command = \"m\"\n",
    "    for i in xrange(len(data)):\n",
    "        if (lift_pen == 1):\n",
    "            command = \"m\"\n",
    "        elif (command != \"l\"):\n",
    "            command = \"l\"\n",
    "        else:\n",
    "            command = \"\"\n",
    "        x = float(data[i,0])/factor\n",
    "        y = float(data[i,1])/factor\n",
    "        lift_pen = data[i, 2]\n",
    "        p += command+str(x)+\",\"+str(y)+\" \"\n",
    "    \n",
    "    the_color = color\n",
    "    stroke_width = 1\n",
    "    dwg.add(dwg.path(p).stroke(the_color,stroke_width).fill(\"none\"))\n",
    "    dwg.save()\n",
    "    display(SVG(dwg.tostring()))\n",
    "    \n",
    "\n",
    "# generate a 2D grid of many vector drawings\n",
    "def make_grid_svg(s_list, grid_space=10.0, grid_space_x=16.0):\n",
    "  def get_start_and_end(x):\n",
    "    x = np.array(x)\n",
    "    x = x[:, 0:2]\n",
    "    x_start = x[0]\n",
    "    x_end = x.sum(axis=0)\n",
    "    x = x.cumsum(axis=0)\n",
    "    x_max = x.max(axis=0)\n",
    "    x_min = x.min(axis=0)\n",
    "    center_loc = (x_max+x_min)*0.5\n",
    "    return x_start-center_loc, x_end\n",
    "  x_pos = 0.0\n",
    "  y_pos = 0.0\n",
    "  result = [[x_pos, y_pos, 1]]\n",
    "\n",
    "  #for each reconstruction\n",
    "  for sample in s_list:\n",
    "    s = sample[0]\n",
    "    grid_loc = sample[1]\n",
    "    grid_y = grid_loc[0]*grid_space+grid_space*0.5\n",
    "    grid_x = grid_loc[1]*grid_space_x+grid_space_x*0.5\n",
    "    start_loc, delta_pos = get_start_and_end(s)\n",
    "\n",
    "    loc_x = start_loc[0]\n",
    "    loc_y = start_loc[1]\n",
    "    new_x_pos = grid_x+loc_x\n",
    "    new_y_pos = grid_y+loc_y\n",
    "    result.append([new_x_pos-x_pos, new_y_pos-y_pos, 0])\n",
    "\n",
    "    result += s.tolist()\n",
    "    result[-1][2] = 1\n",
    "    x_pos = new_x_pos+delta_pos[0]\n",
    "    y_pos = new_y_pos+delta_pos[1]\n",
    "  return np.array(result)"
   ]
  },
  {
   "cell_type": "code",
   "execution_count": 4,
   "metadata": {},
   "outputs": [],
   "source": [
    "def encode(input_strokes):\n",
    "  strokes = to_big_strokes(input_strokes).tolist()\n",
    "  strokes.insert(0, [0, 0, 1, 0, 0])\n",
    "  seq_len = [len(input_strokes)]\n",
    "  draw_strokes(to_normal_strokes(np.array(strokes)))\n",
    "  return sess.run(eval_model.batch_z, feed_dict={eval_model.input_data: [strokes], eval_model.sequence_lengths: seq_len})[0]\n",
    "\n",
    "#latent vector to stroke\n",
    "def decode(z_input=None, draw_mode=True, temperature=0.1, factor=0.2):\n",
    "  z = None\n",
    "  if z_input is not None:\n",
    "    z = [z_input]\n",
    "  sample_strokes, m, _, _ = sample(sess, sample_model, seq_len=eval_model.hps.max_seq_len, temperature=temperature, z=z)\n",
    "  strokes = to_normal_strokes(sample_strokes)\n",
    "  if draw_mode:\n",
    "    draw_strokes(strokes, factor)\n",
    "  return strokes\n"
   ]
  },
  {
   "cell_type": "code",
   "execution_count": 5,
   "metadata": {},
   "outputs": [
    {
     "name": "stdout",
     "output_type": "stream",
     "text": [
      "INFO:tensorflow:Model using gpu.\n",
      "INFO:tensorflow:Input dropout mode = False.\n",
      "INFO:tensorflow:Output dropout mode = False.\n",
      "INFO:tensorflow:Recurrent dropout mode = True.\n",
      "INFO:tensorflow:Model using gpu.\n",
      "INFO:tensorflow:Input dropout mode = 0.\n",
      "INFO:tensorflow:Output dropout mode = 0.\n",
      "INFO:tensorflow:Recurrent dropout mode = 0.\n",
      "INFO:tensorflow:Model using gpu.\n",
      "INFO:tensorflow:Input dropout mode = 0.\n",
      "INFO:tensorflow:Output dropout mode = 0.\n",
      "INFO:tensorflow:Recurrent dropout mode = 0.\n"
     ]
    }
   ],
   "source": [
    "model_dir = 'checkpoint_path/cat_orig'\n",
    "[hps_model, eval_hps_model, sample_hps_model] = load_model(model_dir)\n",
    "# construct the sketch-rnn model here:\n",
    "reset_graph()\n",
    "model = Model(hps_model)\n",
    "eval_model = Model(eval_hps_model, reuse=True)\n",
    "sample_model = Model(sample_hps_model, reuse=True)"
   ]
  },
  {
   "cell_type": "code",
   "execution_count": 6,
   "metadata": {},
   "outputs": [
    {
     "name": "stdout",
     "output_type": "stream",
     "text": [
      "INFO:tensorflow:Loading model checkpoint_path/cat_orig/vector-5000.\n",
      "INFO:tensorflow:Restoring parameters from checkpoint_path/cat_orig/vector-5000\n"
     ]
    }
   ],
   "source": [
    "sess = tf.InteractiveSession()\n",
    "sess.run(tf.global_variables_initializer())\n",
    "# loads the weights from checkpoint into our model\n",
    "load_checkpoint(sess, model_dir)\n"
   ]
  },
  {
   "cell_type": "code",
   "execution_count": 7,
   "metadata": {},
   "outputs": [
    {
     "name": "stdout",
     "output_type": "stream",
     "text": [
      "INFO:tensorflow:Loaded 70000/2500/2500 from cat.npz\n",
      "INFO:tensorflow:Dataset combined: 75000 (70000/2500/2500), avg len 69\n",
      "INFO:tensorflow:model_params.max_seq_len 129.\n",
      "total images <= max_seq_len is 70000\n",
      "total images <= max_seq_len is 2500\n",
      "total images <= max_seq_len is 2500\n",
      "INFO:tensorflow:normalizing_scale_factor 43.1702.\n"
     ]
    }
   ],
   "source": [
    "# randomly unconditionally generate 10 examples from test set\n",
    "data_dir = 'datasets/'\n",
    "[train_set, valid_set, test_set, hps_model, eval_hps_model, sample_hps_model] = load_env(data_dir, model_dir)\n"
   ]
  },
  {
   "cell_type": "code",
   "execution_count": 8,
   "metadata": {},
   "outputs": [],
   "source": [
    "def draw_strokes_gradient(data, n, n_examples, factor = .2):\n",
    "    \n",
    "    x = 0\n",
    "    y = 0\n",
    "    s = 0\n",
    "    imagex = [[x]]\n",
    "    imagey = [[y]]\n",
    "    for i in range(len(data)):\n",
    "        x += data[i][0]*factor\n",
    "        y += data[i][1]*factor\n",
    "        imagex[s].append(x)\n",
    "        imagey[s].append(y)\n",
    "        if data[i][2] == 1:\n",
    "            s += 1\n",
    "            imagex.append([])\n",
    "            imagey.append([])\n",
    "    \n",
    "    n_strokes = len(imagex)\n",
    "    plt.subplot(1,n_examples,n+1)\n",
    "    plt.gca().invert_yaxis()\n",
    "    plt.axis(\"off\")\n",
    "    plt.axis(\"equal\")\n",
    "    colors = [(.1 + j*.9/n_strokes, .15, 1 - j*.9/n_strokes) for j in range(n_strokes)]\n",
    "    for j in range(n_strokes):\n",
    "        plt.plot(imagex[j], imagey[j], color = colors[j], linewidth = 1)\n",
    "\n",
    "\n",
    "N =  8\n",
    "# ims = []\n",
    "\n",
    "# train_set = load_dataset(data_dir, model_params, inference_mode=True)\n",
    "\n",
    "# fig = plt.subplots(nrows=1, ncols=N, figsize=(6,1))\n",
    "# for i in range(N):\n",
    "#     im = train_set.strokes[10]\n",
    "#     #im = test_set.random_sample()\n",
    "#     ims.append([im, [0, i]])\n",
    "#     draw_strokes_gradient(im, i, N)\n",
    "# # plt.savefig('results/progress/mosquito_data.pdf', bbox_inches='tight')"
   ]
  },
  {
   "cell_type": "code",
   "execution_count": 9,
   "metadata": {},
   "outputs": [
    {
     "name": "stdout",
     "output_type": "stream",
     "text": [
      "INFO:tensorflow:Loading model checkpoint_path/cat_orig/vector-5000.\n",
      "INFO:tensorflow:Restoring parameters from checkpoint_path/cat_orig/vector-5000\n"
     ]
    },
    {
     "data": {
      "image/png": "[encoded data removed]",
      "text/plain": [
       "<matplotlib.figure.Figure at 0x7fc5f190f910>"
      ]
     },
     "metadata": {},
     "output_type": "display_data"
    }
   ],
   "source": [
    "# randomly unconditionally generate N examples\n",
    "# loads the weights from checkpoint into our model\n",
    "load_checkpoint(sess, model_dir)\n",
    "fig = plt.subplots(nrows=1, ncols=N, figsize=(6,1))\n",
    "reconstructions = []\n",
    "for i in range(N):\n",
    "    sample_strokes, m, hidden_states, final_x = sample(sess, sample_model, temperature=.3)\n",
    "    strokes = to_normal_strokes(sample_strokes)\n",
    "    draw_strokes_gradient(strokes, i, N)\n",
    "#plt.savefig('results/progress/mosquito_recon_5000.pdf', bbox_inches='tight')\n",
    "\n"
   ]
  },
  {
   "cell_type": "code",
   "execution_count": 16,
   "metadata": {},
   "outputs": [
    {
     "name": "stdout",
     "output_type": "stream",
     "text": [
      "100\n"
     ]
    },
    {
     "data": {
      "image/svg+xml": [
       "<svg baseProfile=\"full\" height=\"72.6341738601\" version=\"1.1\" width=\"80.0525303185\" xmlns=\"http://www.w3.org/2000/svg\" xmlns:ev=\"http://www.w3.org/2001/xml-events\" xmlns:xlink=\"http://www.w3.org/1999/xlink\"><defs/><rect fill=\"white\" height=\"72.6341738601\" width=\"80.0525303185\" x=\"0\" y=\"0\"/><path d=\"M44.754758589,25.5767992511 m-1.83419749141,-0.576799251139 l-4.02753740549,0.0401837611571 -5.01535534859,0.000967551313806 l-2.23464623094,0.550249516964 -4.82445776463,3.54995012283 l-0.8727671206,1.11860208213 -0.673867166042,2.3208026588 l-0.271930061281,2.94605463743 0.451202243567,2.64436453581 l1.50200307369,3.37068140507 1.23922154307,1.71385601163 l1.86327964067,1.47530794144 7.78895020485,2.56863027811 l7.84979104996,0.334523357451 2.20253914595,-0.561481676996 l4.14653271437,-1.96939453483 1.42895206809,-1.21277675033 l1.22159384191,-2.34579995275 0.358464792371,-4.59576487541 l-0.930247008801,-4.12187308073 -1.22418247163,-2.03868642449 l-4.94640320539,-3.6442309618 -3.40244680643,-1.50542497635 m-2.47170463204,9.08375442028 l0.969281047583,-0.227166768163 5.09561061859,2.09212109447 l0.377060696483,1.18722580373 -0.535136535764,0.778750404716 l-0.870456323028,0.00373137212591 -1.8738758564,-0.976444482803 l-4.0077868104,-3.51119011641 -1.61631822586,0.383859463036 m-0.530733726919,-0.237017385662 \" fill=\"none\" stroke=\"black\" stroke-width=\"1\"/></svg>"
      ],
      "text/plain": [
       "<IPython.core.display.SVG object>"
      ]
     },
     "metadata": {},
     "output_type": "display_data"
    },
    {
     "data": {
      "image/svg+xml": [
       "<svg baseProfile=\"full\" height=\"82.1583989241\" version=\"1.1\" width=\"86.8853193778\" xmlns=\"http://www.w3.org/2000/svg\" xmlns:ev=\"http://www.w3.org/2001/xml-events\" xmlns:xlink=\"http://www.w3.org/1999/xlink\"><defs/><rect fill=\"white\" height=\"82.1583989241\" width=\"86.8853193778\" x=\"0\" y=\"0\"/><path d=\"M51.5875476482,35.1010243151 m-1.83419749141,-0.576799251139 l-4.02753740549,0.0401837611571 -5.01535534859,0.000967551313806 l-2.23464623094,0.550249516964 -4.82445776463,3.54995012283 l-0.8727671206,1.11860208213 -0.673867166042,2.3208026588 l-0.271930061281,2.94605463743 0.451202243567,2.64436453581 l1.50200307369,3.37068140507 1.23922154307,1.71385601163 l1.86327964067,1.47530794144 7.78895020485,2.56863027811 l7.84979104996,0.334523357451 2.20253914595,-0.561481676996 l4.14653271437,-1.96939453483 1.42895206809,-1.21277675033 l1.22159384191,-2.34579995275 0.358464792371,-4.59576487541 l-0.930247008801,-4.12187308073 -1.22418247163,-2.03868642449 l-4.94640320539,-3.6442309618 -3.40244680643,-1.50542497635 m-2.47170463204,9.08375442028 l0.969281047583,-0.227166768163 5.09561061859,2.09212109447 l0.377060696483,1.18722580373 -0.535136535764,0.778750404716 l-0.870456323028,0.00373137212591 -1.8738758564,-0.976444482803 l-4.0077868104,-3.51119011641 -1.61631822586,0.383859463036 m-0.530733726919,-0.237017385662 l0.122262211516,1.36820316315 -1.56449571252,1.53471052647 l-2.13722661138,-0.725139528513 -0.241320151836,-1.06857515872 m-9.97297048569,-5.37776470184 l-0.661262571812,0.890570655465 -0.0549937039614,0.851119980216 l1.16378575563,2.61084258556 1.93098545074,1.62635684013 l1.90355837345,0.574542731047 2.04148635268,-0.163864009082 l0.467413216829,-0.734881684184 0.287134833634,-2.90690034628 l-2.59562671185,-2.23659187555 -2.35063791275,-0.602467469871 l-2.06100583076,2.91168498734e-05 -0.797277837992,0.565760731697 m12.9163122177,-0.297031514347 l-0.191033445299,-0.356690362096 -1.81490495801,-2.19581484795 l-2.33333647251,-0.292453877628 -0.570628866553,1.02143257856 l-0.221738349646,3.45444738865 1.18587121367,1.65284082294 l2.69298911095,0.600126087666 0.994298160076,0.0113653647713 l0.672454833984,-1.09124496579 -0.189487859607,-0.88198967278 l-3.90336185694,-3.68088036776 -0.993426293135,-0.290033388883 l-0.0372917368077,1.02620966733 m1.71374410391,4.75919693708 l0.323475562036,3.35727125406 m1.66185557842,-1.95761427283 l0.0539488391951,0.171020608395 1.29835009575,1.04508176446 l1.22475966811,0.994028374553 -0.376973599195,0.000246465733653 m1.98995560408,-8.54979157448 l0.855435580015,-2.89094269276 1.34574905038,-2.8122228384 l2.32996031642,-3.43490719795 2.72541373968,-2.28899493814 l0.408896692097,9.84734892845 0.0165714556351,1.86746567488 l-0.103410789743,2.20247641206 m-18.467246294,-3.49947065115 l-1.94790095091,-2.3085385561 -5.82694530487,-7.65669286251 l-3.42813760042,-2.47178480029 -0.40200624615,1.38781711459 l2.70202755928,13.1715965271 m12.4929475784,6.0813421011 l-0.451368205249,0.000179848084372 -0.57890381664,2.2372238338 l0.279039666057,0.756507217884 1.35349020362,-0.000186869601748 l0.806915909052,-2.2884143889 -0.326625071466,-0.67765891552 l-1.18468053639,0.391605496407 -0.380884930491,0.734208077192 m1.79266571999,0.413529761136 l0.000563135545235,0.000436122463725 -1.10262706876,0.789227113128 l0.0331879290752,-0.855677947402 1.05314642191,0.182877425104 l0.181805230677,0.971321389079 \" fill=\"none\" stroke=\"black\" stroke-width=\"1\"/></svg>"
      ],
      "text/plain": [
       "<IPython.core.display.SVG object>"
      ]
     },
     "metadata": {},
     "output_type": "display_data"
    }
   ],
   "source": [
    "#DRAW FIRST PART OF SKETCH\n",
    "#get some sample strokes\n",
    "sample_strokes_1, m, hidden_states, final_x = sample(sess, sample_model, seq_len=100, temperature=0.8) #final_state,final_x\n",
    "print(len(sample_strokes_1))\n",
    "n_strokes = np.round(len(sample_strokes_1)/3)\n",
    "sample_strokes_part = sample_strokes_1[:n_strokes]\n",
    "strokes_part = to_normal_strokes(sample_strokes_part)\n",
    "sketch_part = draw_strokes(strokes_part, factor=0.2, svg_filename = 'svg/test.svg')\n",
    "strokes_full = to_normal_strokes(sample_strokes_1)\n",
    "sketch_full = [draw_strokes(strokes_full, factor=0.2), [0, 0]]\n",
    "\n",
    "final_state = hidden_states[n_strokes]"
   ]
  },
  {
   "cell_type": "code",
   "execution_count": 17,
   "metadata": {},
   "outputs": [
    {
     "data": {
      "image/svg+xml": [
       "<svg baseProfile=\"full\" height=\"72.6341738601\" version=\"1.1\" width=\"80.0525303185\" xmlns=\"http://www.w3.org/2000/svg\" xmlns:ev=\"http://www.w3.org/2001/xml-events\" xmlns:xlink=\"http://www.w3.org/1999/xlink\"><defs/><rect fill=\"white\" height=\"72.6341738601\" width=\"80.0525303185\" x=\"0\" y=\"0\"/><path d=\"M44.754758589,25.5767992511 m-1.83419749141,-0.576799251139 l-4.02753740549,0.0401837611571 -5.01535534859,0.000967551313806 l-2.23464623094,0.550249516964 -4.82445776463,3.54995012283 l-0.8727671206,1.11860208213 -0.673867166042,2.3208026588 l-0.271930061281,2.94605463743 0.451202243567,2.64436453581 l1.50200307369,3.37068140507 1.23922154307,1.71385601163 l1.86327964067,1.47530794144 7.78895020485,2.56863027811 l7.84979104996,0.334523357451 2.20253914595,-0.561481676996 l4.14653271437,-1.96939453483 1.42895206809,-1.21277675033 l1.22159384191,-2.34579995275 0.358464792371,-4.59576487541 l-0.930247008801,-4.12187308073 -1.22418247163,-2.03868642449 l-4.94640320539,-3.6442309618 -3.40244680643,-1.50542497635 m-2.47170463204,9.08375442028 l0.969281047583,-0.227166768163 5.09561061859,2.09212109447 l0.377060696483,1.18722580373 -0.535136535764,0.778750404716 l-0.870456323028,0.00373137212591 -1.8738758564,-0.976444482803 l-4.0077868104,-3.51119011641 -1.61631822586,0.383859463036 m-0.530733726919,-0.237017385662 \" fill=\"none\" stroke=\"black\" stroke-width=\"1\"/></svg>"
      ],
      "text/plain": [
       "<IPython.core.display.SVG object>"
      ]
     },
     "metadata": {},
     "output_type": "display_data"
    },
    {
     "data": {
      "image/svg+xml": [
       "<svg baseProfile=\"full\" height=\"92.9998528771\" version=\"1.1\" width=\"165.58695456\" xmlns=\"http://www.w3.org/2000/svg\" xmlns:ev=\"http://www.w3.org/2001/xml-events\" xmlns:xlink=\"http://www.w3.org/1999/xlink\"><defs/><rect fill=\"white\" height=\"92.9998528771\" width=\"165.58695456\" x=\"0\" y=\"0\"/><path d=\"M83.8744179331,27.6069528022 m-2.5312680006,0.874069705606 l-0.448023788631,0.505786910653 2.29341760278,-0.285344496369 l1.04122519493,-0.086749792099 1.19311057031,-0.68812943995 l-0.244610756636,-0.576150901616 -0.0590882124379,0.673760101199 l0.78361004591,0.332337133586 m4.81645554304,0.697580128908 l-0.000532273224962,0.00136236209073 -1.34585171938,-0.126675674692 l-0.198984779418,0.167296789587 0.722606256604,0.329076237977 l1.44621700048,-0.122092189267 0.228136237711,-0.776069387794 l-0.706829279661,-0.512903891504 -0.640408843756,0.000180902952707 m-2.42796629667,-1.02922737598 l0.118366135284,0.903864502907 0.521429441869,0.0269838003442 l-0.225571487099,-0.698890313506 -0.658537000418,-0.26222858578 l-0.155243407935,0.826535820961 m-3.10904115438,8.70962679386 l-3.04399192333,3.88198196888 -3.88957709074,4.26679670811 l-2.97455787659,0.495137907565 -3.89988392591,-0.607068426907 m27.0256733894,-14.1669559479 l4.25394415855,0.315595641732 25.2695894241,-2.44585305452 l3.63498747349,-0.657676458359 2.99663007259,-1.85443222523 l-0.434593446553,-0.315977334976 m-30.6897759438,9.34422910213 l27.3922181129,3.56542289257 10.6592571735,0.0377803598531 l-2.57049351931,0.42460989207 m-38.4413862228,-2.02758386731 l4.66657847166,3.56552064419 17.2280752659,7.20962166786 l-0.421918407083,1.44814014435 m-34.1880393028,-14.682353735 l-8.40817153454,-4.86583262682 -5.34778654575,-1.97040140629 m11.5050661564,7.54665136337 l-6.28711998463,-2.53669172525 -8.92439424992,-2.01745122671 l-3.45735013485,-0.000267311952484 -2.02792420983,0.775279328227 l-0.265860669315,0.416075661778 1.47888511419,1.21157422662 m18.9791953564,5.12683570385 l-4.69685345888,0.463837012649 -4.49237942696,0.723464041948 l-5.86482405663,1.59409359097 -2.5459498167,1.32871419191 m29.9623990059,-13.7255883217 l2.53570884466,-0.363555289805 3.30752044916,-0.123934140429 l0.843817442656,0.538827329874 0.82867488265,1.83426871896 l-0.740194916725,1.51699900627 -1.18403241038,0.456942655146 l-2.323897928,-0.1643230021 -1.72068700194,-0.596548169851 l-0.787631943822,-1.09298207462e-05 -1.49826169014,-0.391105264425 l-1.94303587079,-0.916105806828 -0.330893956125,-1.08527004719 l2.07924589515,-2.26506799459 1.48556321859,-0.144569780678 m-9.85780656338,3.06297242641 l-0.36732904613,-0.543246045709 -0.491018593311,-0.506626479328 l-0.052203014493,-0.613762848079 0.390775427222,-0.451832637191 m-7.0110309124,7.71761238575 l3.71413290501,2.07689031959 2.56792426109,0.37710994482 l2.18763053417,-1.5298306942 -0.0777433812618,-0.652438774705 m-3.31184715033,2.98755317926 l1.83650419116,-0.541718900204 m-5.11783182621,-11.9519174099 l-0.613114647567,3.33942085505 0.274884384125,0.398787111044 m8.82012784481,-4.40429210663 l0.201284568757,3.99411141872 -0.394599474967,1.65984019637 m-8.56583535671,11.1084461212 l-3.9970767498,1.3249219954 -5.26253759861,3.24116796255 l-1.65753871202,1.43896713853 -2.1917425096,3.07568401098 l-1.03823378682,2.01250597835 -0.800308734179,2.62145161629 l0.00780968053732,1.61562383175 1.37430906296,2.68609702587 l3.47798556089,1.96739882231 3.59127730131,0.800663456321 l5.24833023548,0.000209563550015 4.42625999451,-0.659127011895 l4.7296449542,-1.58274382353 7.14937269688,-4.33632045984 l3.25958400965,-4.78655517101 0.778535529971,-4.03602987528 l-0.221375152469,-1.7488579452 -1.40155300498,-1.13802470267 l-1.63992881775,-0.599070750177 m-30.1426792145,11.8276953697 l-5.13906121254,-1.30883648992 -7.6397806406,-2.64400601387 l-5.91727018356,-2.32203543186 -3.86207729578,-1.15261688828 l-5.58189213276,-0.540579669178 -6.90197348595,0.546479001641 l-1.72442495823,0.891372039914 -1.4396224916,1.32898449898 l-1.67471051216,2.03397035599 -1.19702316821,2.4857455492 l-0.763800218701,3.86524170637 0.234243627638,1.93717762828 l1.19123615324,2.1769297123 2.02282786369,1.80260062218 l3.28333795071,1.14636994898 14.5429468155,1.84559360147 l3.84667366743,-0.0666652806103 4.42844241858,-0.755576565862 l5.41747033596,-1.91952943802 3.45063090324,-0.863875895739 l3.9027556777,-1.52189448476 m-0.93789704144,-6.1268466711 l-0.453426316381,-0.970780402422 1.44489139318,-4.85750705004 l1.22926168144,-5.67352712154 2.51914709806,-13.2529091835 l0.374596863985,-3.41297626495 -0.76871715486,-2.96055853367 l-0.904440432787,-0.61720598489 -5.64565241337,0.414495393634 l-2.04986825585,1.81480020285 -4.52256709337,7.14789390564 l-1.42532557249,3.73960733414 -1.50440350175,6.47595345974 l-0.280736498535,6.65603995323 0.463660359383,2.08433568478 l1.69646814466,2.10635781288 \" fill=\"none\" stroke=\"black\" stroke-width=\"1\"/></svg>"
      ],
      "text/plain": [
       "<IPython.core.display.SVG object>"
      ]
     },
     "metadata": {},
     "output_type": "display_data"
    },
    {
     "data": {
      "image/svg+xml": [
       "<svg baseProfile=\"full\" height=\"99.6092645066\" version=\"1.1\" width=\"165.58695456\" xmlns=\"http://www.w3.org/2000/svg\" xmlns:ev=\"http://www.w3.org/2001/xml-events\" xmlns:xlink=\"http://www.w3.org/1999/xlink\"><defs/><rect fill=\"white\" height=\"99.6092645066\" width=\"165.58695456\" x=\"0\" y=\"0\"/><path d=\"M89.5439854436,25.5767992511 m-1.83419749141,-0.576799251139 l-4.02753740549,0.0401837611571 -5.01535534859,0.000967551313806 l-2.23464623094,0.550249516964 -4.82445776463,3.54995012283 l-0.8727671206,1.11860208213 -0.673867166042,2.3208026588 l-0.271930061281,2.94605463743 0.451202243567,2.64436453581 l1.50200307369,3.37068140507 1.23922154307,1.71385601163 l1.86327964067,1.47530794144 7.78895020485,2.56863027811 l7.84979104996,0.334523357451 2.20253914595,-0.561481676996 l4.14653271437,-1.96939453483 1.42895206809,-1.21277675033 l1.22159384191,-2.34579995275 0.358464792371,-4.59576487541 l-0.930247008801,-4.12187308073 -1.22418247163,-2.03868642449 l-4.94640320539,-3.6442309618 -3.40244680643,-1.50542497635 m-2.47170463204,9.08375442028 l0.969281047583,-0.227166768163 5.09561061859,2.09212109447 l0.377060696483,1.18722580373 -0.535136535764,0.778750404716 l-0.870456323028,0.00373137212591 -1.8738758564,-0.976444482803 l-4.0077868104,-3.51119011641 -1.61631822586,0.383859463036 m-0.530733726919,-0.237017385662 l-2.5312680006,0.874069705606 -0.448023788631,0.505786910653 l2.29341760278,-0.285344496369 1.04122519493,-0.086749792099 l1.19311057031,-0.68812943995 -0.244610756636,-0.576150901616 l-0.0590882124379,0.673760101199 0.78361004591,0.332337133586 m4.81645554304,0.697580128908 l-0.000532273224962,0.00136236209073 -1.34585171938,-0.126675674692 l-0.198984779418,0.167296789587 0.722606256604,0.329076237977 l1.44621700048,-0.122092189267 0.228136237711,-0.776069387794 l-0.706829279661,-0.512903891504 -0.640408843756,0.000180902952707 m-2.42796629667,-1.02922737598 l0.118366135284,0.903864502907 0.521429441869,0.0269838003442 l-0.225571487099,-0.698890313506 -0.658537000418,-0.26222858578 l-0.155243407935,0.826535820961 m-3.10904115438,8.70962679386 l-3.04399192333,3.88198196888 -3.88957709074,4.26679670811 l-2.97455787659,0.495137907565 -3.89988392591,-0.607068426907 m27.0256733894,-14.1669559479 l4.25394415855,0.315595641732 25.2695894241,-2.44585305452 l3.63498747349,-0.657676458359 2.99663007259,-1.85443222523 l-0.434593446553,-0.315977334976 m-30.6897759438,9.34422910213 l27.3922181129,3.56542289257 10.6592571735,0.0377803598531 l-2.57049351931,0.42460989207 m-38.4413862228,-2.02758386731 l4.66657847166,3.56552064419 17.2280752659,7.20962166786 l-0.421918407083,1.44814014435 m-34.1880393028,-14.682353735 l-8.40817153454,-4.86583262682 -5.34778654575,-1.97040140629 m11.5050661564,7.54665136337 l-6.28711998463,-2.53669172525 -8.92439424992,-2.01745122671 l-3.45735013485,-0.000267311952484 -2.02792420983,0.775279328227 l-0.265860669315,0.416075661778 1.47888511419,1.21157422662 m18.9791953564,5.12683570385 l-4.69685345888,0.463837012649 -4.49237942696,0.723464041948 l-5.86482405663,1.59409359097 -2.5459498167,1.32871419191 m29.9623990059,-13.7255883217 l2.53570884466,-0.363555289805 3.30752044916,-0.123934140429 l0.843817442656,0.538827329874 0.82867488265,1.83426871896 l-0.740194916725,1.51699900627 -1.18403241038,0.456942655146 l-2.323897928,-0.1643230021 -1.72068700194,-0.596548169851 l-0.787631943822,-1.09298207462e-05 -1.49826169014,-0.391105264425 l-1.94303587079,-0.916105806828 -0.330893956125,-1.08527004719 l2.07924589515,-2.26506799459 1.48556321859,-0.144569780678 m-9.85780656338,3.06297242641 l-0.36732904613,-0.543246045709 -0.491018593311,-0.506626479328 l-0.052203014493,-0.613762848079 0.390775427222,-0.451832637191 m-7.0110309124,7.71761238575 l3.71413290501,2.07689031959 2.56792426109,0.37710994482 l2.18763053417,-1.5298306942 -0.0777433812618,-0.652438774705 m-3.31184715033,2.98755317926 l1.83650419116,-0.541718900204 m-5.11783182621,-11.9519174099 l-0.613114647567,3.33942085505 0.274884384125,0.398787111044 m8.82012784481,-4.40429210663 l0.201284568757,3.99411141872 -0.394599474967,1.65984019637 m-8.56583535671,11.1084461212 l-3.9970767498,1.3249219954 -5.26253759861,3.24116796255 l-1.65753871202,1.43896713853 -2.1917425096,3.07568401098 l-1.03823378682,2.01250597835 -0.800308734179,2.62145161629 l0.00780968053732,1.61562383175 1.37430906296,2.68609702587 l3.47798556089,1.96739882231 3.59127730131,0.800663456321 l5.24833023548,0.000209563550015 4.42625999451,-0.659127011895 l4.7296449542,-1.58274382353 7.14937269688,-4.33632045984 l3.25958400965,-4.78655517101 0.778535529971,-4.03602987528 l-0.221375152469,-1.7488579452 -1.40155300498,-1.13802470267 l-1.63992881775,-0.599070750177 m-30.1426792145,11.8276953697 l-5.13906121254,-1.30883648992 -7.6397806406,-2.64400601387 l-5.91727018356,-2.32203543186 -3.86207729578,-1.15261688828 l-5.58189213276,-0.540579669178 -6.90197348595,0.546479001641 l-1.72442495823,0.891372039914 -1.4396224916,1.32898449898 l-1.67471051216,2.03397035599 -1.19702316821,2.4857455492 l-0.763800218701,3.86524170637 0.234243627638,1.93717762828 l1.19123615324,2.1769297123 2.02282786369,1.80260062218 l3.28333795071,1.14636994898 14.5429468155,1.84559360147 l3.84667366743,-0.0666652806103 4.42844241858,-0.755576565862 l5.41747033596,-1.91952943802 3.45063090324,-0.863875895739 l3.9027556777,-1.52189448476 m-0.93789704144,-6.1268466711 l-0.453426316381,-0.970780402422 1.44489139318,-4.85750705004 l1.22926168144,-5.67352712154 2.51914709806,-13.2529091835 l0.374596863985,-3.41297626495 -0.76871715486,-2.96055853367 l-0.904440432787,-0.61720598489 -5.64565241337,0.414495393634 l-2.04986825585,1.81480020285 -4.52256709337,7.14789390564 l-1.42532557249,3.73960733414 -1.50440350175,6.47595345974 l-0.280736498535,6.65603995323 0.463660359383,2.08433568478 l1.69646814466,2.10635781288 \" fill=\"none\" stroke=\"black\" stroke-width=\"1\"/></svg>"
      ],
      "text/plain": [
       "<IPython.core.display.SVG object>"
      ]
     },
     "metadata": {},
     "output_type": "display_data"
    },
    {
     "data": {
      "image/svg+xml": [
       "<svg baseProfile=\"full\" height=\"105.121405007\" version=\"1.1\" width=\"759.875281946\" xmlns=\"http://www.w3.org/2000/svg\" xmlns:ev=\"http://www.w3.org/2001/xml-events\" xmlns:xlink=\"http://www.w3.org/1999/xlink\"><defs/><rect fill=\"white\" height=\"105.121405007\" width=\"759.875281946\" x=\"0\" y=\"0\"/><path d=\"M46.8085275235,25.4238127827 m0.0,0.0 m49.9070118582,0.217075274084 l-2.03799721267,-0.640888056821 -4.47504156166,0.0446486235079 l-5.57261705399,0.00107505701534 -2.4829402566,0.611388352182 l-5.36050862736,3.94438902537 -0.969741245111,1.24289120237 l-0.748741295603,2.57866962088 -0.302144512534,3.27339404159 l0.501335826185,2.93818281757 1.6688923041,3.74520156119 l1.37691282564,1.90428445737 2.07031071186,1.63923104604 l8.6543891165,2.85403364235 8.72199005551,0.37169261939 l2.44726571772,-0.623868529995 4.60725857152,-2.18821614981 l1.5877245201,-1.34752972258 1.35732649101,-2.60644439194 l0.398294213745,-5.10640541712 -1.03360778756,-4.57985897859 l-1.36020274626,-2.26520713833 -5.49600356155,-4.04914551311 l-3.78049645159,-1.67269441817 m-2.74633848005,10.093060467 l1.07697894176,-0.252407520182 5.66178957621,2.32457899385 l0.418956329425,1.31913978193 -0.594596150849,0.865278227462 l-0.967173692253,0.00414596902879 -2.08208428489,-1.08493831423 l-4.453096456,-3.90132235156 -1.79590913985,0.426510514485 m-0.589704141021,-0.263352650735 l-2.81252000067,0.971188561784 -0.49780420959,0.561985456281 l2.54824178086,-0.31704944041 1.15691688326,-0.0963886578878 l1.32567841146,-0.764588266611 -0.271789729595,-0.640167668462 l-0.0656535693755,0.748622334666 0.870677828789,0.369263481763 m5.35161727005,0.77508903212 l-0.000591414694403,0.00151373565637 -1.49539079931,-0.140750749658 l-0.221094199353,0.185885321763 0.802895840671,0.365640264418 l1.60690777832,-0.135657988075 0.253484708567,-0.862299319771 l-0.78536586629,-0.569893212782 -0.711565381951,0.000201003280785 m-2.69774032964,-1.14358597332 l0.131517928094,1.00429389212 0.579366046521,0.0299820003824 l-0.250634985665,-0.776544792785 -0.731707778242,-0.291365095311 l-0.172492675483,0.918373134401 m-3.45449017154,9.67736310429 l-3.38221324815,4.31331329876 -4.32175232304,4.74088523123 l-3.30506430732,0.550153230627 -4.33320436213,-0.674520474341 m30.0285259883,-15.7410621643 l4.72660462062,0.350661824147 28.0773215824,-2.71761450503 l4.03887497054,-0.730751620399 3.32958896955,-2.06048025025 l-0.482881607281,-0.351085927751 m-34.0997510486,10.3824767801 l30.4357979033,3.96158099174 11.8436190817,0.0419781776145 l-2.85610391034,0.471788768967 m-42.7126513587,-2.25287096368 l5.18508719073,3.96168960465 19.142305851,8.01069074207 l-0.468798230092,1.60904460483 m-37.9867103365,-16.3137263722 l-9.34241281615,-5.40648069647 -5.94198505084,-2.18933489588 m12.7834068404,8.38516818153 l-6.98568887181,-2.81854636139 -9.91599361102,-2.24161247412 l-3.84150014983,-0.000297013280538 -2.25324912204,0.861421475808 l-0.295400743683,0.462306290865 1.64320568244,1.34619358513 m21.0879948404,5.69648411539 l-5.21872606542,0.515374458498 -4.99153269662,0.803848935498 l-6.51647117403,1.77121510108 -2.82883312967,1.47634910213 m33.291554451,-15.2506536908 l2.81745427185,-0.403950322005 3.67502272129,-0.137704600477 l0.937574936284,0.598697033193 0.920749869612,2.0380763544 l-0.822438796361,1.68555445141 -1.31559156709,0.507714061273 l-2.58210880889,-0.182581113444 -1.9118744466,-0.662831299835 l-0.875146604247,-1.21442452736e-05 -1.66473521127,-0.434561404917 l-2.15892874532,-1.01789534092 -0.36765995125,-1.20585560799 l2.31027321683,-2.51674221622 1.65062579844,-0.160633089642 m-10.9531184038,3.40330269602 l-0.408143384589,-0.603606717454 -0.54557621479,-0.562918310364 l-0.0580033494367,-0.681958720088 0.434194919136,-0.502036263545 m-7.79003434711,8.57512487306 l4.1268143389,2.30765591065 2.85324917899,0.4190110498 l2.43070059352,-1.69981188244 -0.0863815347354,-0.724931971894 m-3.67983016703,3.31950353252 l2.0405602124,-0.601909889115 m-5.6864798069,-13.2799082332 l-0.681238497297,3.71046761672 0.305427093473,0.443096790049 m9.80014204979,-4.89365789625 l0.223649520841,4.43790157636 -0.438443861074,1.84426688486 m-9.51759484079,12.3427179125 l-4.44119638867,1.47213555045 -5.84726399846,3.60129773617 l-1.84170968003,1.59885237614 -2.43526945512,3.41742667887 l-1.15359309647,2.23611775372 -0.889231926865,2.9127240181 l0.00867742281925,1.79513759083 1.52701006995,2.98455225097 l3.86442840099,2.18599869145 3.99030811257,0.889626062579 l5.83147803942,0.000232848388906 4.91806666056,-0.73236334655 l5.25516106023,-1.75860424836 7.94374744097,-4.81813384427 l3.62176001072,-5.31839463446 0.865039477746,-4.4844776392 l-0.245972391632,-1.94317549467 -1.55728111664,-1.26447189185 l-1.82214313083,-0.665634166863 m-33.4918657939,13.1418837441 l-5.71006801393,-1.45426276657 -8.48864515622,-2.93778445986 l-6.5747446484,-2.58003936874 -4.29119699531,-1.28068543143 l-6.20210236973,-0.600644076864 -7.66885942883,0.607198890713 l-1.91602773137,0.990413377682 -1.59958054622,1.47664944331 l-1.86078945796,2.25996706221 -1.33002574245,2.76193949911 l-0.848666909668,4.29471300708 0.260270697375,2.15241958698 l1.32359572583,2.41881079144 2.24758651521,2.0028895802 l3.64815327856,1.27374438776 16.158829795,2.05065955718 l4.2740818527,-0.0740725340115 4.92049157619,-0.839529517624 l6.0194114844,-2.13281048669 3.83403433694,-0.959862106376 l4.33639519744,-1.69099387195 m-1.04210782382,-6.80760741234 l-0.503807018201,-1.07864489158 1.60543488132,-5.3972300556 l1.36584631271,-6.30391902394 2.79905233118,-14.7254546483 l0.416218737761,-3.79219584995 -0.854130172067,-3.28950948185 l-1.00493381421,-0.685784427656 -6.27294712596,0.460550437371 l-2.27763139539,2.01644466983 -5.02507454819,7.9421043396 l-1.58369508055,4.15511926015 -1.67155944639,7.19550384416 l-0.311929442816,7.39559994804 0.515178177092,2.31592853864 l1.88496460517,2.34039756987 m120.715159007,-19.4722751017 l-2.03799721267,-0.640888056821 -4.47504156166,0.0446486235079 l-5.57261705399,0.00107505701534 -2.4829402566,0.611388352182 l-5.36050862736,3.94438902537 -0.969741245111,1.24289120237 l-0.748741295603,2.57866962088 -0.302144512534,3.27339404159 l0.501335826185,2.93818281757 1.6688923041,3.74520156119 l1.37691282564,1.90428445737 2.07031071186,1.63923104604 l8.6543891165,2.85403364235 8.72199005551,0.37169261939 l2.44726571772,-0.623868529995 4.60725857152,-2.18821614981 l1.5877245201,-1.34752972258 1.35732649101,-2.60644439194 l0.398294213745,-5.10640541712 -1.03360778756,-4.57985897859 l-1.36020274626,-2.26520713833 -5.49600356155,-4.04914551311 l-3.78049645159,-1.67269441817 m-2.74633848005,10.093060467 l1.07697894176,-0.252407520182 5.66178957621,2.32457899385 l0.418956329425,1.31913978193 -0.594596150849,0.865278227462 l-0.967173692253,0.00414596902879 -2.08208428489,-1.08493831423 l-4.453096456,-3.90132235156 -1.79590913985,0.426510514485 m-0.589704141021,-0.263352650735 l-0.0234340395158,1.3293336663 -1.09525736835,0.744950109058 l-0.680897260706,-0.929276065694 0.410557496879,-0.820962422424 l1.69360852904,-1.03129438228 m-7.27862517039,-3.47849991586 l0.260162167251,-0.298594931761 0.973255683978,-0.635988555021 l1.44668287701,-1.6490197844 2.48051666551,-1.87736120489 l2.22131510576,-0.769292728768 3.50893139839,-0.0491220038384 l2.48006350464,2.05365469058 0.670312883125,2.7846240335 l-0.16503850412,1.60102380647 -0.524966046214,1.37834979428 l-2.39960865842,1.8063566751 -4.54431474209,1.62742535273 l-1.17728114128,0.000269443161313 -1.70900142855,-1.15256185333 l-0.808815575308,-1.33869432741 -1.10353637073,-5.92280162705 l0.744521700674,-1.2153600653 m0.0422736034832,0.131193403569 l0.826324770848,-0.3481907977 m8.47239560551,-0.547338939375 l2.21455080642,-0.000164012736706 1.4562247528,0.897563828362 l0.36827073329,0.850867231687 -0.565731608205,0.684132923683 l-2.17746893565,0.625239271257 -1.2279232343,-1.51475154691 l-0.222958665755,-1.03328360452 0.401338810722,-1.16890966892 m-11.8977043364,4.62404092153 l-3.1100951963,0.674434213175 -5.25367193752,0.014130549971 l-8.1081589063,-0.0457322949337 3.78178722329,-0.000185733188118 l4.67560787996,-0.112926214933 m8.63945219252,2.39452405108 l-4.17558650176,-4.53095152706e-05 -12.437860171,1.98932521873 l-7.77643654082,2.84146434731 -0.64716802703,0.769768572516 m48.2266585032,-9.87576180034 l1.61595907476,-1.61659982469 4.07574772835,-2.27160205444 l2.80541612042,-1.31085920665 5.12857503361,-1.42541262839 l5.63855833477,-0.63261050317 2.44884606865,0.417318526242 m-23.9290555318,9.08079544703 l11.5652097596,-4.17709350586 5.53792681959,-1.30101616184 l6.50975240601,-1.10676479008 m-35.506828626,-5.20035326481 l-1.04659522573,-4.32106786304 0.249255324403,-2.51392076413 l2.35298822323,1.16092728244 2.50625444783,1.74169275496 m7.6317595111,0.939721696907 l3.53023641639,-2.34560022751 2.28435728285,-0.859040932523 l0.595648131437,2.83127393987 -0.775489542219,3.05259161525 m81.0949187881,-4.13571072194 l-2.03799721267,-0.640888056821 -4.47504156166,0.0446486235079 l-5.57261705399,0.00107505701534 -2.4829402566,0.611388352182 l-5.36050862736,3.94438902537 -0.969741245111,1.24289120237 l-0.748741295603,2.57866962088 -0.302144512534,3.27339404159 l0.501335826185,2.93818281757 1.6688923041,3.74520156119 l1.37691282564,1.90428445737 2.07031071186,1.63923104604 l8.6543891165,2.85403364235 8.72199005551,0.37169261939 l2.44726571772,-0.623868529995 4.60725857152,-2.18821614981 l1.5877245201,-1.34752972258 1.35732649101,-2.60644439194 l0.398294213745,-5.10640541712 -1.03360778756,-4.57985897859 l-1.36020274626,-2.26520713833 -5.49600356155,-4.04914551311 l-3.78049645159,-1.67269441817 m-2.74633848005,10.093060467 l1.07697894176,-0.252407520182 5.66178957621,2.32457899385 l0.418956329425,1.31913978193 -0.594596150849,0.865278227462 l-0.967173692253,0.00414596902879 -2.08208428489,-1.08493831423 l-4.453096456,-3.90132235156 -1.79590913985,0.426510514485 m-0.589704141021,-0.263352650735 l0.241471454501,-0.816508299775 -0.140242630409,0.37636777593 l0.56953806844,0.718089524243 m0.865089644988,-7.34687778685 l0.23257256382,-0.757356815868 0.863750610087,2.27850890822 l-0.0437319537418,0.156759450005 -2.45353264941,-1.12652132909 m2.0313810971,-0.167620357954 l0.224837246868,-0.950414439042 0.792709241311,-0.0692463324716 l-0.568642715613,1.08042177227 0.0780513303147,-0.566475258933 l0.529084064894,-0.103930621925 0.0267739769899,0.946765061882 l0.148124371966,-0.0622770231631 m-6.73596991433,15.4826336437 l-2.68945495288,-1.27831780248 -7.12424582905,-1.86286916335 l-3.86279722055,-0.405732086963 -2.65992747413,0.542353176408 l-1.06412346164,0.652117778858 -0.13546038212,1.4186165399 l0.537508601944,2.24218401644 2.60428835948,3.69738638401 l4.33300799794,3.475005428 4.66669201851,1.87283638451 l3.2648652792,0.142102533331 6.06814556652,-2.18264046643 l2.55810320377,-2.5635133187 0.719469702906,-2.63637734784 m-23.6640903685,6.25520547231 l-1.3800336255,5.17297387123 -1.33831981156,3.78310183684 m15.0850388739,-7.56518708335 l0.0790174998757,5.46474059423 0.774192313353,1.85416920318 l1.93515668313,1.12946993775 m6.34253025055,-10.4569527838 l0.554238052832,0.839091257917 m5.81372578939,-13.0683422089 l0.682165722052,-1.29487829076 m1.61572744449,0.474702111549 l0.68405162957,-1.78477995925 m-0.253368169069,4.14235558775 l2.29056179523,0.000145551368607 m-0.400905393892,-0.000158398355173 l0.000519037348568,0.000207915844739 m-1.5608512693,2.59279244476 l1.07857030299,2.40900367498 m-20.8281305101,-11.2814174758 l-3.14826104376,-5.36695818106 -2.79149909814,-2.28276633554 l-1.42999821239,-1.80862562524 -1.42514457305,-2.57321910726 l2.23549819655,-2.82573733065 1.34878117177,-0.716564224826 l1.73128760523,-0.247219266991 2.78693172667,0.637382972572 l2.80412236849,1.44596000512 1.93545354737,1.69099618991 l2.23865542147,3.93098592758 0.867099728849,3.44200167391 l0.096625669135,3.16389335526 -0.822529527876,1.95473084847 m91.5722303443,-4.69033152063 l-2.03799721267,-0.640888056821 -4.47504156166,0.0446486235079 l-5.57261705399,0.00107505701534 -2.4829402566,0.611388352182 l-5.36050862736,3.94438902537 -0.969741245111,1.24289120237 l-0.748741295603,2.57866962088 -0.302144512534,3.27339404159 l0.501335826185,2.93818281757 1.6688923041,3.74520156119 l1.37691282564,1.90428445737 2.07031071186,1.63923104604 l8.6543891165,2.85403364235 8.72199005551,0.37169261939 l2.44726571772,-0.623868529995 4.60725857152,-2.18821614981 l1.5877245201,-1.34752972258 1.35732649101,-2.60644439194 l0.398294213745,-5.10640541712 -1.03360778756,-4.57985897859 l-1.36020274626,-2.26520713833 -5.49600356155,-4.04914551311 l-3.78049645159,-1.67269441817 m-2.74633848005,10.093060467 l1.07697894176,-0.252407520182 5.66178957621,2.32457899385 l0.418956329425,1.31913978193 -0.594596150849,0.865278227462 l-0.967173692253,0.00414596902879 -2.08208428489,-1.08493831423 l-4.453096456,-3.90132235156 -1.79590913985,0.426510514485 m-0.589704141021,-0.263352650735 l-0.0246815047123,-0.000146310099404 -0.922566569514,0.581091311243 l0.368068160282,-0.551711892088 0.517246334089,-0.815145423015 l-0.175218801532,0.489647769266 m8.09278620614,-1.73761596282 l0.382969445652,0.395425491863 m-1.62348250548,-6.75648583306 l0.542647764087,-0.585242402222 0.733720097277,0.858097854588 l-0.39176315897,1.35893796881 m-9.52026976479,-1.75855639908 l-0.0831155365126,-1.47319022152 -2.30199694633,-4.01473508941 l-1.72024650706,5.63990738657 -0.584173368083,2.24118017488 m4.10539706548,5.36412133111 l-0.277076061401,-0.530480055345 m4.66667413712,-0.144571914441 l-0.000531247011774,0.000655976408679 m-2.17199325562,0.957425683737 l0.413722130987,0.407429577576 m-9.34906866815,0.50573406948 l0.734475834502,0.312774173088 1.51815414429,0.231759664085 l1.1218233241,0.0917082445489 -2.1747653683,1.06733342012 m6.13750947846,-0.292835715744 l1.95851806137,-0.000517721936275 m0.983261979289,5.88156382243 l-0.198783663412,3.13822097249 -1.08554793729,0.682564576467 l-4.52415976259,-0.069723267936 m6.15027017064,-1.70811398162 l-0.353508980738,2.74238172505 0.408343887991,0.825052460035 l0.731779883305,0.000140413754303 1.07311283549,-2.57947809166 m-4.82136574056,-4.78109220664 l-0.748410241471,-0.843283037345 3.59117421839,-0.000213908768071 l0.653865726458,0.626359052128 -0.00142097301755,0.347233066956 l-0.690005719662,0.00870538060553 -1.45822995239,-0.497535988688 m0.900432550245,1.58765431907 l-1.50919788414,1.10165791379 -0.993004441261,0.416711717844 l-0.570980790589,-0.0364107312635 m3.56261895763,-1.36856180098 l0.940272129244,1.37088994185 2.21852627065,0.215906091034 l1.08166850275,-0.841732074817 m-0.596670392487,-2.0199423035 l1.26892957422,-1.71501305368 11.776512199,-9.79781018363 m-11.4147901535,11.0685633288 l7.38333794806,-3.45053109858 13.9137016402,-6.28889203072 l1.53596401215,-0.696031832033 m-18.7452806367,9.99024510384 l6.75057239003,-1.42854303122 5.63341246711,-0.333187335895 m-32.0121129354,1.68027215534 l-8.04563826985,-3.29201122125 -5.10144399272,-1.52160459095 m120.16904848,-6.85050956249 l-2.03799721267,-0.640888056821 -4.47504156166,0.0446486235079 l-5.57261705399,0.00107505701534 -2.4829402566,0.611388352182 l-5.36050862736,3.94438902537 -0.969741245111,1.24289120237 l-0.748741295603,2.57866962088 -0.302144512534,3.27339404159 l0.501335826185,2.93818281757 1.6688923041,3.74520156119 l1.37691282564,1.90428445737 2.07031071186,1.63923104604 l8.6543891165,2.85403364235 8.72199005551,0.37169261939 l2.44726571772,-0.623868529995 4.60725857152,-2.18821614981 l1.5877245201,-1.34752972258 1.35732649101,-2.60644439194 l0.398294213745,-5.10640541712 -1.03360778756,-4.57985897859 l-1.36020274626,-2.26520713833 -5.49600356155,-4.04914551311 l-3.78049645159,-1.67269441817 m-2.74633848005,10.093060467 l1.07697894176,-0.252407520182 5.66178957621,2.32457899385 l0.418956329425,1.31913978193 -0.594596150849,0.865278227462 l-0.967173692253,0.00414596902879 -2.08208428489,-1.08493831423 l-4.453096456,-3.90132235156 -1.79590913985,0.426510514485 m-0.589704141021,-0.263352650735 l-0.915924211343,1.0368856291 -3.19827596347,3.81793048647 l1.70782026317,-2.32289118899 1.3826318913,-4.14051347309 l0.699849675099,-2.53495441543 0.307874464326,-0.37524489065 l0.526228505704,2.33983861076 -0.373868023356,4.54450481468 l-0.71984604001,0.822237713469 -1.39168732696,-1.35432697005 l-0.0973090632922,-3.29596896966 0.437882666787,1.66426830822 l-0.0793591245181,0.0206883362908 m-5.94414141443,0.0910971106754 l2.59161541859,1.77167024877 1.11295613978,0.0876628069414 l0.261974086364,-0.424430684911 0.832311477926,-1.12348339624 l-0.144341712197,-0.89472134908 -1.62199801869,0.000145259147959 l-1.27889754044,1.47419191069 -0.494311625759,2.03591336807 l1.12701902787,1.71090033319 1.57644384437,0.143938521958 l0.580917754107,-0.309261948698 0.680130140649,-2.26547668378 l0.544386605422,-1.18459247881 -1.04609471228,-0.929907378223 l-0.932826432917,1.74886021349 0.799774626891,-0.125371230145 l4.02113662826,-1.59108622207 -1.9953345259,0.661902336611 l-0.877094434367,1.1520197822 0.664788691534,0.310157094565 l-0.696876148383,-0.33828738249 -0.196518086725,-0.222397843997 l0.583741193016,-0.325559058951 -1.26960741149,1.00054947866 l0.512580656343,-0.796148263746 -0.870467225711,-0.215578410361 l-0.100416586631,0.646356865764 0.403013659848,-0.101585344722 l0.271454619037,-0.300820482274 -0.157887188511,-0.174580907656 l-0.752190666066,0.205483887759 0.540113490489,-0.77631175518 l-0.680436732041,-0.0635677793374 -0.516749421755,0.629791617393 m0.0476562780225,0.35768908759 l-1.28222703934,1.83568199476 -4.13380497032,1.38975994454 l-3.2190753354,0.161576405582 -2.32312331597,-1.46279599932 m11.9817124473,-0.0106095368715 l2.75953577624,2.0837649703 2.56045841508,0.879304690493 l2.60889596409,0.124622860716 5.23698164357,0.000381344418404 l1.12166810367,-0.585728883743 1.06947413749,-1.75520016087 m-28.4246153302,-14.8634844356 l0.72411282195,-9.03130372365 2.27496276299,-0.363907631901 l1.49959921837,1.48112194406 1.89980583058,2.00125243929 m13.9826642142,2.11917840772 l4.46207026641,-5.99183175299 1.72718514999,-0.119852792058 l1.14897158411,0.327632969452 0.560543437799,1.02469532026 l1.01029881173,4.67255115509 m-18.5706999567,16.6031016244 l1.13512302438,0.000616780218681 1.4994788501,-1.68325586451 l-0.116684308483,0.530159349243 m97.4991583421,-13.6254545457 l-2.03799721267,-0.640888056821 -4.47504156166,0.0446486235079 l-5.57261705399,0.00107505701534 -2.4829402566,0.611388352182 l-5.36050862736,3.94438902537 -0.969741245111,1.24289120237 l-0.748741295603,2.57866962088 -0.302144512534,3.27339404159 l0.501335826185,2.93818281757 1.6688923041,3.74520156119 l1.37691282564,1.90428445737 2.07031071186,1.63923104604 l8.6543891165,2.85403364235 8.72199005551,0.37169261939 l2.44726571772,-0.623868529995 4.60725857152,-2.18821614981 l1.5877245201,-1.34752972258 1.35732649101,-2.60644439194 l0.398294213745,-5.10640541712 -1.03360778756,-4.57985897859 l-1.36020274626,-2.26520713833 -5.49600356155,-4.04914551311 l-3.78049645159,-1.67269441817 m-2.74633848005,10.093060467 l1.07697894176,-0.252407520182 5.66178957621,2.32457899385 l0.418956329425,1.31913978193 -0.594596150849,0.865278227462 l-0.967173692253,0.00414596902879 -2.08208428489,-1.08493831423 l-4.453096456,-3.90132235156 -1.79590913985,0.426510514485 m-0.589704141021,-0.263352650735 l-0.228557818466,0.214931596484 -0.291626962523,0.0376072505282 l0.0515822631617,-0.916006664435 0.710518492593,0.00327423331328 l0.118542938597,0.280106605755 -0.0142134053426,-0.0604730668581 l0.573285006815,-0.0409190542996 -0.233156751427,-0.230961065325 l-0.324865265025,-0.187621555395 0.0690281649845,-0.360760341088 m1.08471910159,5.03078665998 l0.171285474466,-0.224887558983 m1.18791038791,1.4692776733 l-2.09589716461,4.5868297418 -1.28960435589,1.22417799301 l-3.98472580645,0.885821382205 -1.03871118691,-1.57839854558 m8.86796116829,-5.11242217488 l-0.691676015655,1.9067030814 0.0745098417004,3.78206802739 l1.20228288902,0.65073242618 2.98936598831,8.09158033614e-05 m-1.54936959346,-8.54174296061 l1.45058631897,-1.18337033523 0.38979007966,-1.32418738471 l-0.465629291203,-2.99347009924 -1.81508991453,-2.02124913534 m-5.41383160485,3.88891763157 l0.131372776296,0.920626438326 0.387424478928,0.699631787009 l0.0751158998658,9.44518029024e-05 -0.0819612915317,-0.91001747383 m-7.6965894964,-0.564100593328 l-2.58011221886,-4.20310960876 -2.2926295797,-3.90430291494 l-1.06904117597,-6.0758319166 1.16256591347,-0.0265081568311 l8.21252067884,5.29372129175 2.02492939101,1.80695421166 l0.889810505841,-0.000287982604479 m12.6554224226,-0.949083351427 l6.29042784373,-4.96271583769 0.863945153024,5.72084254689 l-0.442516803741,4.13881010479 -1.37103887068,2.73345129357 m-31.5875318315,-0.895310690006 l0.798877908124,1.47128899892 2.5349335538,1.16364268793 l2.89519627889,3.08887263139 1.5894220935,1.39290326171 m12.1316432953,-3.1107634306 l0.0183765867001,0.679623832305 2.72900114457,2.27009173897 m-2.88070142269,-0.786511931154 l1.85543050369,1.41026195553 0.485019385815,-0.000217904905892 m81.3002085708,-11.5727914745 l-2.03799721267,-0.640888056821 -4.47504156166,0.0446486235079 l-5.57261705399,0.00107505701534 -2.4829402566,0.611388352182 l-5.36050862736,3.94438902537 -0.969741245111,1.24289120237 l-0.748741295603,2.57866962088 -0.302144512534,3.27339404159 l0.501335826185,2.93818281757 1.6688923041,3.74520156119 l1.37691282564,1.90428445737 2.07031071186,1.63923104604 l8.6543891165,2.85403364235 8.72199005551,0.37169261939 l2.44726571772,-0.623868529995 4.60725857152,-2.18821614981 l1.5877245201,-1.34752972258 1.35732649101,-2.60644439194 l0.398294213745,-5.10640541712 -1.03360778756,-4.57985897859 l-1.36020274626,-2.26520713833 -5.49600356155,-4.04914551311 l-3.78049645159,-1.67269441817 m-2.74633848005,10.093060467 l1.07697894176,-0.252407520182 5.66178957621,2.32457899385 l0.418956329425,1.31913978193 -0.594596150849,0.865278227462 l-0.967173692253,0.00414596902879 -2.08208428489,-1.08493831423 l-4.453096456,-3.90132235156 -1.79590913985,0.426510514485 m-0.589704141021,-0.263352650735 l-0.442916113469,0.203966059619 -1.38790474998,0.534225503604 l-0.271407328546,0.275962344474 0.920778844092,-0.252834790283 l0.66861063242,-0.758529537254 -0.143841364317,-0.411752363046 l-0.00435307867722,0.148218083713 0.434795228971,0.246700416836 l0.316669771241,0.000399820055463 -0.400428060028,-0.4598621279 m-5.31472100152,-1.75131261349 l0.685796886683,-0.0802674485991 6.75049953991,-1.16531492935 l1.72912908925,-0.844911320342 m-3.14346187645,4.74009513855 l4.76840370231,0.000332589135926 0.745222138034,0.16241437859 l0.287608181437,0.248867873516 m-2.69250472387,-0.820193605291 l1.71123130454,3.20068531566 -0.264699612227,1.17190654079 l-0.923766692479,0.428392945064 -1.78598678774,-0.000433970328433 l-2.90717681249,-0.558424492677 -0.384704313344,-0.724212990867 m-5.06661766105,-3.22477353944 l-1.14604400264,-0.0520642432902 -3.22564144929,0.25860545122 l-7.41498602761,0.96583424343 -3.11667786704,1.33181139827 l-1.76012863715,1.34981945157 -0.326841428048,0.929910524024 m26.7149289449,-6.00806011094 l-2.76303705242,2.11348765426 -2.3269439737,2.07843482494 l-2.47564514478,2.37135125531 -5.37669890457,5.37618895372 l0.302643556562,0.0195872206758 m18.63052845,-11.7481191953 l13.4130093786,0.679723131988 11.9851907094,-0.623568271597 l2.58387939798,-0.290678482917 1.66062249078,-0.319627361993 m-27.6199579239,3.2326741351 l7.0482995775,-0.745875140031 7.2809583611,0.000347008972312 l12.6957734426,0.000566165989666 m-45.4739093781,-6.3978003131 l2.25360542536,-0.189503613445 2.43112312423,-0.163531913939 l1.37083257238,0.0392536270536 2.61226991812,1.17867042621 l1.56462573343,0.899771683746 2.53280036979,2.10683014658 l-0.530665947331,1.40206416448 -2.58765435881,0.913054164913 m-8.25667911106,-6.58208065563 l-1.79710686207,0.452501657936 -0.545535402166,0.838866581519 l0.172054881437,1.54998070664 3.39524447918,4.56398030122 l0.828109267685,0.738640129566 3.41712269518,0.746162070168 l1.56171818574,-0.0710070133209 1.66794972287,-1.17998412914 l0.0344791190906,-2.24389781555 -1.1613416175,-2.43834157785 l-1.13266888592,-2.21397694614 -1.3794147306,-0.823923945427 m-7.82974561056,-4.25785150793 l-0.792614536153,1.63907392157 -1.73116309775,2.66402314107 m9.58685477575,-5.08962372939 l0.430458742711,-2.24834846126 0.243056979444,-2.73245738612 l1.60397556093,-6.43616053793 0.54770687388,0.780767119593 l0.653671928578,10.264958938 0.57883453038,1.4569795794 l0.0311747969439,-0.552433066898 m4.29024464554,-3.25460731983 l4.91621328725,-3.72027258078 0.0842694141385,1.09833379587 l-0.266725652748,6.07975721359 -0.486453250051,1.11122164461 m88.9857008122,-1.44323273765 l-2.03799721267,-0.640888056821 -4.47504156166,0.0446486235079 l-5.57261705399,0.00107505701534 -2.4829402566,0.611388352182 l-5.36050862736,3.94438902537 -0.969741245111,1.24289120237 l-0.748741295603,2.57866962088 -0.302144512534,3.27339404159 l0.501335826185,2.93818281757 1.6688923041,3.74520156119 l1.37691282564,1.90428445737 2.07031071186,1.63923104604 l8.6543891165,2.85403364235 8.72199005551,0.37169261939 l2.44726571772,-0.623868529995 4.60725857152,-2.18821614981 l1.5877245201,-1.34752972258 1.35732649101,-2.60644439194 l0.398294213745,-5.10640541712 -1.03360778756,-4.57985897859 l-1.36020274626,-2.26520713833 -5.49600356155,-4.04914551311 l-3.78049645159,-1.67269441817 m-2.74633848005,10.093060467 l1.07697894176,-0.252407520182 5.66178957621,2.32457899385 l0.418956329425,1.31913978193 -0.594596150849,0.865278227462 l-0.967173692253,0.00414596902879 -2.08208428489,-1.08493831423 l-4.453096456,-3.90132235156 -1.79590913985,0.426510514485 m-0.589704141021,-0.263352650735 l-1.57597876257,1.45530733797 -0.272418827646,1.5924240152 l4.02014752229,-0.206945898632 0.398562227686,-1.29564876358 l-1.48198058208,0.0500623912861 -6.80908362071,2.19270255831 m9.63664849599,0.0329798139218 l2.66678581635,0.533403290643 7.63213634491,-0.000417533738073 m-9.15848414103,0.52870478895 l0.332836082412,0.744758629137 1.27777051595,0.615771570139 m-5.89820610152,-5.32157387998 l-11.0367529922,-1.42468826638 -6.95170429018,-2.40994807747 m17.059191068,5.85112373034 l-10.2020045122,2.81576911608 -7.41879476441,1.25475062264 l-1.21849278609,0.415829817454 m18.8023765882,-2.3552281989 l-15.8916950226,4.79460060596 -4.56226666768,0.737570060624 m17.8311056561,-10.0503696336 l-1.23898825712,-0.000597288292031 m4.29824789365,0.240898215108 l-0.477350089285,0.0002705421745 m-5.30417230394,-5.27703331576 l3.18250026968,-0.863187180625 0.635651664601,0.396308137311 l-0.490085449484,0.565073266625 -1.01571223802,-0.470584962103 l-0.361416157749,-0.706080926789 -0.0703167791168,0.703913056188 m12.9185371929,0.878073357873 l0.0614355473469,-0.416143528289 0.586075377133,-0.119577917374 l0.281822577947,0.605596601963 -0.792074286275,0.218071850638 l-0.0366231142026,-0.199779702557 m-14.3897692362,-4.77726856867 l-2.23743054602,-3.11043394936 -8.1222931544,-8.9545097616 l-0.0667358800355,0.733012623257 1.8520389994,11.130812433 l0.31560326202,1.88465466102 m24.9289141761,-3.01430159145 l1.14140941037,-1.91837996244 3.40684884124,-2.67407596111 l10.0030362606,-3.95929614703 0.0359103006,1.69020858076 l-0.932063990169,2.53508802917 -3.21388641993,5.00102374289 l-1.87720772293,2.38876409001 m-32.5296693378,-1.34555780225 l0.0325677787057,-2.35592308972 m4.15753821532,2.47244139512 l-0.615453140603,-1.93601648013 0.293231548534,-1.83390676975 \" fill=\"none\" stroke=\"black\" stroke-width=\"1\"/></svg>"
      ],
      "text/plain": [
       "<IPython.core.display.SVG object>"
      ]
     },
     "metadata": {},
     "output_type": "display_data"
    }
   ],
   "source": [
    "# Encode generated strokes to a hidden state h\n",
    "strokes_0 = sample_strokes_part # dx, dx, p1, p2, p3\n",
    "\n",
    "# h_1 = sess.run(eval_model.batch_z, feed_dict={eval_model.input_data: [strokes_0], eval_model.sequence_lengths: seq_len})[0]\n",
    "reconstructions = []\n",
    "N = 8\n",
    "for i in range(N):\n",
    "    sample_strokes_2, m, _, _ = sample(sess=sess, model=sample_model, seq_len=250, temperature=0.75, prev_state = final_state)\n",
    "    strokes_2 = to_normal_strokes(sample_strokes_2)\n",
    "    all_strokes_big = np.concatenate((strokes_0,sample_strokes_2),axis=0)\n",
    "    all_strokes = to_normal_strokes(all_strokes_big)\n",
    "    if i == 0:\n",
    "        sketch_0 = [draw_strokes(strokes_part, factor=0.2), [0, 0]]\n",
    "        sketch_1 = [draw_strokes(strokes_2, factor=0.2),[0, 1]]\n",
    "        sketch_2 = [draw_strokes(all_strokes, factor=0.2),[0, 1]]\n",
    "    \n",
    "    reconstructions.append([all_strokes, [0, i]])\n",
    "    \n",
    "stroke_grid = make_grid_svg(reconstructions)\n",
    "draw_strokes(stroke_grid, factor=0.18, svg_filename = 'svg/test.svg')"
   ]
  },
  {
   "cell_type": "code",
   "execution_count": 18,
   "metadata": {},
   "outputs": [
    {
     "name": "stdout",
     "output_type": "stream",
     "text": [
      "INFO:tensorflow:Model using gpu.\n",
      "INFO:tensorflow:Input dropout mode = False.\n",
      "INFO:tensorflow:Output dropout mode = False.\n",
      "INFO:tensorflow:Recurrent dropout mode = True.\n",
      "INFO:tensorflow:Model using gpu.\n",
      "INFO:tensorflow:Input dropout mode = 0.\n",
      "INFO:tensorflow:Output dropout mode = 0.\n",
      "INFO:tensorflow:Recurrent dropout mode = 0.\n",
      "INFO:tensorflow:Model using gpu.\n",
      "INFO:tensorflow:Input dropout mode = 0.\n",
      "INFO:tensorflow:Output dropout mode = 0.\n",
      "INFO:tensorflow:Recurrent dropout mode = 0.\n",
      "INFO:tensorflow:Loading model checkpoint_path/broccoli/vector-185000.\n",
      "INFO:tensorflow:Restoring parameters from checkpoint_path/broccoli/vector-185000\n"
     ]
    },
    {
     "data": {
      "image/svg+xml": [
       "<svg baseProfile=\"full\" height=\"82.197991088\" version=\"1.1\" width=\"250.790013527\" xmlns=\"http://www.w3.org/2000/svg\" xmlns:ev=\"http://www.w3.org/2001/xml-events\" xmlns:xlink=\"http://www.w3.org/1999/xlink\"><defs/><rect fill=\"white\" height=\"82.197991088\" width=\"250.790013527\" x=\"0\" y=\"0\"/><path d=\"M25,25 m0.0,0.0 m39.4634677377,29.530538395 l0.21339353174,2.05028921366 0.254230573773,-2.50483632088 l0.10387385264,-1.87438651919 0.714960098267,-3.03761601448 l-0.333378426731,-1.64423793554 m79.1285237284,-0.767731778324 l-0.178292002529,-0.862576514482 0.185971911997,5.55498540401 l0.0555632356554,0.940976515412 -0.00284173263935,-1.46004080772 l0.671164393425,-0.335720777512 m78.7021488544,-3.61687164754 l-0.23120071739,4.17076230049 0.337650179863,4.57503914833 l-0.0998029019684,1.47941842675 0.43621905148,-4.63901162148 l1.36836215854,-0.406360700727 \" fill=\"none\" stroke=\"black\" stroke-width=\"1\"/></svg>"
      ],
      "text/plain": [
       "<IPython.core.display.SVG object>"
      ]
     },
     "metadata": {},
     "output_type": "display_data"
    }
   ],
   "source": [
    "# Now try to switch the class\n",
    "model_dir = 'checkpoint_path/broccoli'\n",
    "[hps_model, eval_hps_model, sample_hps_model] = load_model(model_dir)\n",
    "# construct the sketch-rnn model here:\n",
    "reset_graph()\n",
    "model = Model(hps_model)\n",
    "eval_model = Model(eval_hps_model, reuse=True)\n",
    "sample_model = Model(sample_hps_model, reuse=True)\n",
    "sess = tf.InteractiveSession()\n",
    "sess.run(tf.global_variables_initializer())\n",
    "\n",
    "# loads the weights from checkpoint into our model\n",
    "load_checkpoint(sess, model_dir)\n",
    "\n",
    "# randomly unconditionally generate examples\n",
    "reconstructions = []\n",
    "for i in range(3):\n",
    "    reconstructions.append([decode(temperature=0.2, draw_mode=False), [0, i]])\n",
    "stroke_grid = make_grid_svg(reconstructions)\n",
    "draw_strokes(stroke_grid)\n"
   ]
  },
  {
   "cell_type": "code",
   "execution_count": 19,
   "metadata": {},
   "outputs": [
    {
     "name": "stdout",
     "output_type": "stream",
     "text": [
      "33\n"
     ]
    },
    {
     "data": {
      "image/svg+xml": [
       "<svg baseProfile=\"full\" height=\"85.7402876789\" version=\"1.1\" width=\"663.192067668\" xmlns=\"http://www.w3.org/2000/svg\" xmlns:ev=\"http://www.w3.org/2001/xml-events\" xmlns:xlink=\"http://www.w3.org/1999/xlink\"><defs/><rect fill=\"white\" height=\"85.7402876789\" width=\"663.192067668\" x=\"0\" y=\"0\"/><path d=\"M25,25 m0.0,0.0 m42.8942959383,13.6829130699 l-1.83419749141,-0.576799251139 -4.02753740549,0.0401837611571 l-5.01535534859,0.000967551313806 -2.23464623094,0.550249516964 l-4.82445776463,3.54995012283 -0.8727671206,1.11860208213 l-0.673867166042,2.3208026588 -0.271930061281,2.94605463743 l0.451202243567,2.64436453581 1.50200307369,3.37068140507 l1.23922154307,1.71385601163 1.86327964067,1.47530794144 l7.78895020485,2.56863027811 7.84979104996,0.334523357451 l2.20253914595,-0.561481676996 4.14653271437,-1.96939453483 l1.42895206809,-1.21277675033 1.22159384191,-2.34579995275 l0.358464792371,-4.59576487541 -0.930247008801,-4.12187308073 l-1.22418247163,-2.03868642449 -4.94640320539,-3.6442309618 l-3.40244680643,-1.50542497635 m-2.47170463204,9.08375442028 l0.969281047583,-0.227166768163 5.09561061859,2.09212109447 l0.377060696483,1.18722580373 -0.535136535764,0.778750404716 l-0.870456323028,0.00373137212591 -1.8738758564,-0.976444482803 l-4.0077868104,-3.51119011641 -1.61631822586,0.383859463036 m-0.530733726919,-0.237017385662 m85.6695675105,-8.63956518064 l-1.83419749141,-0.576799251139 -4.02753740549,0.0401837611571 l-5.01535534859,0.000967551313806 -2.23464623094,0.550249516964 l-4.82445776463,3.54995012283 -0.8727671206,1.11860208213 l-0.673867166042,2.3208026588 -0.271930061281,2.94605463743 l0.451202243567,2.64436453581 1.50200307369,3.37068140507 l1.23922154307,1.71385601163 1.86327964067,1.47530794144 l7.78895020485,2.56863027811 7.84979104996,0.334523357451 l2.20253914595,-0.561481676996 4.14653271437,-1.96939453483 l1.42895206809,-1.21277675033 1.22159384191,-2.34579995275 l0.358464792371,-4.59576487541 -0.930247008801,-4.12187308073 l-1.22418247163,-2.03868642449 -4.94640320539,-3.6442309618 l-3.40244680643,-1.50542497635 m-2.47170463204,9.08375442028 l0.969281047583,-0.227166768163 5.09561061859,2.09212109447 l0.377060696483,1.18722580373 -0.535136535764,0.778750404716 l-0.870456323028,0.00373137212591 -1.8738758564,-0.976444482803 l-4.0077868104,-3.51119011641 -1.61631822586,0.383859463036 m-0.530733726919,-0.237017385662 m85.6695675105,-8.63956518064 l-1.83419749141,-0.576799251139 -4.02753740549,0.0401837611571 l-5.01535534859,0.000967551313806 -2.23464623094,0.550249516964 l-4.82445776463,3.54995012283 -0.8727671206,1.11860208213 l-0.673867166042,2.3208026588 -0.271930061281,2.94605463743 l0.451202243567,2.64436453581 1.50200307369,3.37068140507 l1.23922154307,1.71385601163 1.86327964067,1.47530794144 l7.78895020485,2.56863027811 7.84979104996,0.334523357451 l2.20253914595,-0.561481676996 4.14653271437,-1.96939453483 l1.42895206809,-1.21277675033 1.22159384191,-2.34579995275 l0.358464792371,-4.59576487541 -0.930247008801,-4.12187308073 l-1.22418247163,-2.03868642449 -4.94640320539,-3.6442309618 l-3.40244680643,-1.50542497635 m-2.47170463204,9.08375442028 l0.969281047583,-0.227166768163 5.09561061859,2.09212109447 l0.377060696483,1.18722580373 -0.535136535764,0.778750404716 l-0.870456323028,0.00373137212591 -1.8738758564,-0.976444482803 l-4.0077868104,-3.51119011641 -1.61631822586,0.383859463036 m-0.530733726919,-0.237017385662 m85.6695675105,-8.63956518064 l-1.83419749141,-0.576799251139 -4.02753740549,0.0401837611571 l-5.01535534859,0.000967551313806 -2.23464623094,0.550249516964 l-4.82445776463,3.54995012283 -0.8727671206,1.11860208213 l-0.673867166042,2.3208026588 -0.271930061281,2.94605463743 l0.451202243567,2.64436453581 1.50200307369,3.37068140507 l1.23922154307,1.71385601163 1.86327964067,1.47530794144 l7.78895020485,2.56863027811 7.84979104996,0.334523357451 l2.20253914595,-0.561481676996 4.14653271437,-1.96939453483 l1.42895206809,-1.21277675033 1.22159384191,-2.34579995275 l0.358464792371,-4.59576487541 -0.930247008801,-4.12187308073 l-1.22418247163,-2.03868642449 -4.94640320539,-3.6442309618 l-3.40244680643,-1.50542497635 m-2.47170463204,9.08375442028 l0.969281047583,-0.227166768163 5.09561061859,2.09212109447 l0.377060696483,1.18722580373 -0.535136535764,0.778750404716 l-0.870456323028,0.00373137212591 -1.8738758564,-0.976444482803 l-4.0077868104,-3.51119011641 -1.61631822586,0.383859463036 m-0.530733726919,-0.237017385662 m85.6695675105,-8.63956518064 l-1.83419749141,-0.576799251139 -4.02753740549,0.0401837611571 l-5.01535534859,0.000967551313806 -2.23464623094,0.550249516964 l-4.82445776463,3.54995012283 -0.8727671206,1.11860208213 l-0.673867166042,2.3208026588 -0.271930061281,2.94605463743 l0.451202243567,2.64436453581 1.50200307369,3.37068140507 l1.23922154307,1.71385601163 1.86327964067,1.47530794144 l7.78895020485,2.56863027811 7.84979104996,0.334523357451 l2.20253914595,-0.561481676996 4.14653271437,-1.96939453483 l1.42895206809,-1.21277675033 1.22159384191,-2.34579995275 l0.358464792371,-4.59576487541 -0.930247008801,-4.12187308073 l-1.22418247163,-2.03868642449 -4.94640320539,-3.6442309618 l-3.40244680643,-1.50542497635 m-2.47170463204,9.08375442028 l0.969281047583,-0.227166768163 5.09561061859,2.09212109447 l0.377060696483,1.18722580373 -0.535136535764,0.778750404716 l-0.870456323028,0.00373137212591 -1.8738758564,-0.976444482803 l-4.0077868104,-3.51119011641 -1.61631822586,0.383859463036 m-0.530733726919,-0.237017385662 m85.6695675105,-8.63956518064 l-1.83419749141,-0.576799251139 -4.02753740549,0.0401837611571 l-5.01535534859,0.000967551313806 -2.23464623094,0.550249516964 l-4.82445776463,3.54995012283 -0.8727671206,1.11860208213 l-0.673867166042,2.3208026588 -0.271930061281,2.94605463743 l0.451202243567,2.64436453581 1.50200307369,3.37068140507 l1.23922154307,1.71385601163 1.86327964067,1.47530794144 l7.78895020485,2.56863027811 7.84979104996,0.334523357451 l2.20253914595,-0.561481676996 4.14653271437,-1.96939453483 l1.42895206809,-1.21277675033 1.22159384191,-2.34579995275 l0.358464792371,-4.59576487541 -0.930247008801,-4.12187308073 l-1.22418247163,-2.03868642449 -4.94640320539,-3.6442309618 l-3.40244680643,-1.50542497635 m-2.47170463204,9.08375442028 l0.969281047583,-0.227166768163 5.09561061859,2.09212109447 l0.377060696483,1.18722580373 -0.535136535764,0.778750404716 l-0.870456323028,0.00373137212591 -1.8738758564,-0.976444482803 l-4.0077868104,-3.51119011641 -1.61631822586,0.383859463036 m-0.530733726919,-0.237017385662 l-0.53822003305,4.50016409159 m86.2077875435,-13.1397292722 l-1.83419749141,-0.576799251139 -4.02753740549,0.0401837611571 l-5.01535534859,0.000967551313806 -2.23464623094,0.550249516964 l-4.82445776463,3.54995012283 -0.8727671206,1.11860208213 l-0.673867166042,2.3208026588 -0.271930061281,2.94605463743 l0.451202243567,2.64436453581 1.50200307369,3.37068140507 l1.23922154307,1.71385601163 1.86327964067,1.47530794144 l7.78895020485,2.56863027811 7.84979104996,0.334523357451 l2.20253914595,-0.561481676996 4.14653271437,-1.96939453483 l1.42895206809,-1.21277675033 1.22159384191,-2.34579995275 l0.358464792371,-4.59576487541 -0.930247008801,-4.12187308073 l-1.22418247163,-2.03868642449 -4.94640320539,-3.6442309618 l-3.40244680643,-1.50542497635 m-2.47170463204,9.08375442028 l0.969281047583,-0.227166768163 5.09561061859,2.09212109447 l0.377060696483,1.18722580373 -0.535136535764,0.778750404716 l-0.870456323028,0.00373137212591 -1.8738758564,-0.976444482803 l-4.0077868104,-3.51119011641 -1.61631822586,0.383859463036 m-0.530733726919,-0.237017385662 m85.6695675105,-8.63956518064 l-1.83419749141,-0.576799251139 -4.02753740549,0.0401837611571 l-5.01535534859,0.000967551313806 -2.23464623094,0.550249516964 l-4.82445776463,3.54995012283 -0.8727671206,1.11860208213 l-0.673867166042,2.3208026588 -0.271930061281,2.94605463743 l0.451202243567,2.64436453581 1.50200307369,3.37068140507 l1.23922154307,1.71385601163 1.86327964067,1.47530794144 l7.78895020485,2.56863027811 7.84979104996,0.334523357451 l2.20253914595,-0.561481676996 4.14653271437,-1.96939453483 l1.42895206809,-1.21277675033 1.22159384191,-2.34579995275 l0.358464792371,-4.59576487541 -0.930247008801,-4.12187308073 l-1.22418247163,-2.03868642449 -4.94640320539,-3.6442309618 l-3.40244680643,-1.50542497635 m-2.47170463204,9.08375442028 l0.969281047583,-0.227166768163 5.09561061859,2.09212109447 l0.377060696483,1.18722580373 -0.535136535764,0.778750404716 l-0.870456323028,0.00373137212591 -1.8738758564,-0.976444482803 l-4.0077868104,-3.51119011641 -1.61631822586,0.383859463036 m-0.530733726919,-0.237017385662 \" fill=\"none\" stroke=\"black\" stroke-width=\"1\"/></svg>"
      ],
      "text/plain": [
       "<IPython.core.display.SVG object>"
      ]
     },
     "metadata": {},
     "output_type": "display_data"
    }
   ],
   "source": [
    "# encode incomplete strokes in a hidden state\n",
    "_, hidden_states = get_hidden_states(sess=sess, model=sample_model, input_strokes = strokes_0)\n",
    "print(len(hidden_states))\n",
    "\n",
    "input_state = hidden_states[-1]\n",
    "\n",
    "reconstructions = []\n",
    "for i in range(N):\n",
    "    sample_strokes_3, _, _, _ = sample(sess=sess, model=sample_model, temperature=0.5, prev_state = input_state)\n",
    "    strokes_3 = to_normal_strokes(sample_strokes_3)\n",
    "    all_strokes_big = np.concatenate((sample_strokes_part,sample_strokes_3),axis=0)\n",
    "    all_strokes = to_normal_strokes(all_strokes_big)\n",
    "    \n",
    "    reconstructions.append([all_strokes, [0, i]])\n",
    "    \n",
    "stroke_grid = make_grid_svg(reconstructions)\n",
    "draw_strokes(stroke_grid, svg_filename = 'svg/test.svg')"
   ]
  },
  {
   "cell_type": "code",
   "execution_count": null,
   "metadata": {
    "collapsed": true
   },
   "outputs": [],
   "source": []
  },
  {
   "cell_type": "code",
   "execution_count": null,
   "metadata": {
    "collapsed": true
   },
   "outputs": [],
   "source": []
  }
 ],
 "metadata": {
  "kernelspec": {
   "display_name": "Python 2",
   "language": "python",
   "name": "python2"
  },
  "language_info": {
   "codemirror_mode": {
    "name": "ipython",
    "version": 2
   },
   "file_extension": ".py",
   "mimetype": "text/x-python",
   "name": "python",
   "nbconvert_exporter": "python",
   "pygments_lexer": "ipython2",
   "version": "2.7.14"
  }
 },
 "nbformat": 4,
 "nbformat_minor": 1
}
