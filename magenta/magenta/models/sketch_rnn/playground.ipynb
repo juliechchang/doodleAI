{
 "cells": [
  {
   "cell_type": "code",
   "execution_count": 2,
   "metadata": {
    "collapsed": false
   },
   "outputs": [
    {
     "name": "stdout",
     "output_type": "stream",
     "text": [
      "The autoreload extension is already loaded. To reload it, use:\n",
      "  %reload_ext autoreload\n"
     ]
    }
   ],
   "source": [
    "# import the required libraries\n",
    "import numpy as np\n",
    "import time\n",
    "import random\n",
    "import cPickle\n",
    "import codecs\n",
    "import collections\n",
    "import os\n",
    "import math\n",
    "import json\n",
    "import tensorflow as tf\n",
    "from six.moves import xrange\n",
    "%load_ext autoreload\n",
    "%autoreload 2\n",
    "\n",
    "os.environ[\"CUDA_VISIBLE_DEVICES\"]=\"1\"\n",
    "\n",
    "# libraries required for visualisation:\n",
    "from IPython.display import SVG, display\n",
    "import svgwrite # conda install -c omnia svgwrite=1.1.6\n",
    "import PIL\n",
    "from PIL import Image\n",
    "import matplotlib.pyplot as plt\n",
    "\n",
    "# set numpy output to something sensible\n",
    "np.set_printoptions(precision=8, edgeitems=6, linewidth=200, suppress=True)\n",
    "\n"
   ]
  },
  {
   "cell_type": "code",
   "execution_count": 3,
   "metadata": {
    "collapsed": false
   },
   "outputs": [],
   "source": [
    "# import our command line tools\n",
    "from sketch_rnn_train import *\n",
    "from model_mod import *\n",
    "from utils import *\n",
    "from rnn import *"
   ]
  },
  {
   "cell_type": "code",
   "execution_count": 16,
   "metadata": {
    "collapsed": true
   },
   "outputs": [],
   "source": [
    "# little function that displays vector images and saves them to .svg\n",
    "def draw_strokes(data, factor=0.2, svg_filename = 'svg/sample.svg'):\n",
    "  tf.gfile.MakeDirs(os.path.dirname(svg_filename))\n",
    "  min_x, max_x, min_y, max_y = get_bounds(data, factor)\n",
    "  dims = (50 + max_x - min_x, 50 + max_y - min_y)\n",
    "  dwg = svgwrite.Drawing(svg_filename, size=dims)\n",
    "  dwg.add(dwg.rect(insert=(0, 0), size=dims,fill='white'))\n",
    "  lift_pen = 1\n",
    "  abs_x = 25 - min_x \n",
    "  abs_y = 25 - min_y\n",
    "  p = \"M%s,%s \" % (abs_x, abs_y)\n",
    "  command = \"m\"\n",
    "  for i in xrange(len(data)):\n",
    "    if (lift_pen == 1):\n",
    "      command = \"m\"\n",
    "    elif (command != \"l\"):\n",
    "      command = \"l\"\n",
    "    else:\n",
    "      command = \"\"\n",
    "    x = float(data[i,0])/factor\n",
    "    y = float(data[i,1])/factor\n",
    "    lift_pen = data[i, 2]\n",
    "    p += command+str(x)+\",\"+str(y)+\" \"\n",
    "  the_color = \"black\"\n",
    "  stroke_width = 1\n",
    "  dwg.add(dwg.path(p).stroke(the_color,stroke_width).fill(\"none\"))\n",
    "  dwg.save()\n",
    "  display(SVG(dwg.tostring()))\n",
    "\n",
    "# generate a 2D grid of many vector drawings\n",
    "def make_grid_svg(s_list, grid_space=10.0, grid_space_x=16.0):\n",
    "  def get_start_and_end(x):\n",
    "    x = np.array(x)\n",
    "    x = x[:, 0:2]\n",
    "    x_start = x[0]\n",
    "    x_end = x.sum(axis=0)\n",
    "    x = x.cumsum(axis=0)\n",
    "    x_max = x.max(axis=0)\n",
    "    x_min = x.min(axis=0)\n",
    "    center_loc = (x_max+x_min)*0.5\n",
    "    return x_start-center_loc, x_end\n",
    "  x_pos = 0.0\n",
    "  y_pos = 0.0\n",
    "  result = [[x_pos, y_pos, 1]]\n",
    "\n",
    "  #for each reconstruction\n",
    "  for sample in s_list:\n",
    "    s = sample[0]\n",
    "    grid_loc = sample[1]\n",
    "    grid_y = grid_loc[0]*grid_space+grid_space*0.5\n",
    "    grid_x = grid_loc[1]*grid_space_x+grid_space_x*0.5\n",
    "    start_loc, delta_pos = get_start_and_end(s)\n",
    "\n",
    "    loc_x = start_loc[0]\n",
    "    loc_y = start_loc[1]\n",
    "    new_x_pos = grid_x+loc_x\n",
    "    new_y_pos = grid_y+loc_y\n",
    "    result.append([new_x_pos-x_pos, new_y_pos-y_pos, 0])\n",
    "\n",
    "    result += s.tolist()\n",
    "    result[-1][2] = 1\n",
    "    x_pos = new_x_pos+delta_pos[0]\n",
    "    y_pos = new_y_pos+delta_pos[1]\n",
    "  return np.array(result)"
   ]
  },
  {
   "cell_type": "code",
   "execution_count": 17,
   "metadata": {
    "collapsed": true
   },
   "outputs": [],
   "source": [
    "def encode(input_strokes):\n",
    "  strokes = to_big_strokes(input_strokes).tolist()\n",
    "  strokes.insert(0, [0, 0, 1, 0, 0])\n",
    "  seq_len = [len(input_strokes)]\n",
    "  draw_strokes(to_normal_strokes(np.array(strokes)))\n",
    "  return sess.run(eval_model.batch_z, feed_dict={eval_model.input_data: [strokes], eval_model.sequence_lengths: seq_len})[0]\n",
    "\n",
    "#latent vector to stroke\n",
    "def decode(z_input=None, draw_mode=True, temperature=0.1, factor=0.2):\n",
    "  z = None\n",
    "  if z_input is not None:\n",
    "    z = [z_input]\n",
    "  sample_strokes, m, _, _ = sample(sess, sample_model, seq_len=eval_model.hps.max_seq_len, temperature=temperature, z=z)\n",
    "  strokes = to_normal_strokes(sample_strokes)\n",
    "  if draw_mode:\n",
    "    draw_strokes(strokes, factor)\n",
    "  return strokes\n"
   ]
  },
  {
   "cell_type": "code",
   "execution_count": 151,
   "metadata": {
    "collapsed": false
   },
   "outputs": [
    {
     "name": "stdout",
     "output_type": "stream",
     "text": [
      "INFO:tensorflow:Model using gpu.\n"
     ]
    },
    {
     "name": "stderr",
     "output_type": "stream",
     "text": [
      "INFO:tensorflow:Model using gpu.\n"
     ]
    },
    {
     "name": "stdout",
     "output_type": "stream",
     "text": [
      "INFO:tensorflow:Input dropout mode = False.\n"
     ]
    },
    {
     "name": "stderr",
     "output_type": "stream",
     "text": [
      "INFO:tensorflow:Input dropout mode = False.\n"
     ]
    },
    {
     "name": "stdout",
     "output_type": "stream",
     "text": [
      "INFO:tensorflow:Output dropout mode = False.\n"
     ]
    },
    {
     "name": "stderr",
     "output_type": "stream",
     "text": [
      "INFO:tensorflow:Output dropout mode = False.\n"
     ]
    },
    {
     "name": "stdout",
     "output_type": "stream",
     "text": [
      "INFO:tensorflow:Recurrent dropout mode = True.\n"
     ]
    },
    {
     "name": "stderr",
     "output_type": "stream",
     "text": [
      "INFO:tensorflow:Recurrent dropout mode = True.\n"
     ]
    },
    {
     "name": "stdout",
     "output_type": "stream",
     "text": [
      "INFO:tensorflow:Model using gpu.\n"
     ]
    },
    {
     "name": "stderr",
     "output_type": "stream",
     "text": [
      "INFO:tensorflow:Model using gpu.\n"
     ]
    },
    {
     "name": "stdout",
     "output_type": "stream",
     "text": [
      "INFO:tensorflow:Input dropout mode = 0.\n"
     ]
    },
    {
     "name": "stderr",
     "output_type": "stream",
     "text": [
      "INFO:tensorflow:Input dropout mode = 0.\n"
     ]
    },
    {
     "name": "stdout",
     "output_type": "stream",
     "text": [
      "INFO:tensorflow:Output dropout mode = 0.\n"
     ]
    },
    {
     "name": "stderr",
     "output_type": "stream",
     "text": [
      "INFO:tensorflow:Output dropout mode = 0.\n"
     ]
    },
    {
     "name": "stdout",
     "output_type": "stream",
     "text": [
      "INFO:tensorflow:Recurrent dropout mode = 0.\n"
     ]
    },
    {
     "name": "stderr",
     "output_type": "stream",
     "text": [
      "INFO:tensorflow:Recurrent dropout mode = 0.\n"
     ]
    },
    {
     "name": "stdout",
     "output_type": "stream",
     "text": [
      "INFO:tensorflow:Model using gpu.\n"
     ]
    },
    {
     "name": "stderr",
     "output_type": "stream",
     "text": [
      "INFO:tensorflow:Model using gpu.\n"
     ]
    },
    {
     "name": "stdout",
     "output_type": "stream",
     "text": [
      "INFO:tensorflow:Input dropout mode = 0.\n"
     ]
    },
    {
     "name": "stderr",
     "output_type": "stream",
     "text": [
      "INFO:tensorflow:Input dropout mode = 0.\n"
     ]
    },
    {
     "name": "stdout",
     "output_type": "stream",
     "text": [
      "INFO:tensorflow:Output dropout mode = 0.\n"
     ]
    },
    {
     "name": "stderr",
     "output_type": "stream",
     "text": [
      "INFO:tensorflow:Output dropout mode = 0.\n"
     ]
    },
    {
     "name": "stdout",
     "output_type": "stream",
     "text": [
      "INFO:tensorflow:Recurrent dropout mode = 0.\n"
     ]
    },
    {
     "name": "stderr",
     "output_type": "stream",
     "text": [
      "INFO:tensorflow:Recurrent dropout mode = 0.\n"
     ]
    }
   ],
   "source": [
    "model_dir = 'checkpoint_path/mosquito'\n",
    "[hps_model, eval_hps_model, sample_hps_model] = load_model(model_dir)\n",
    "# construct the sketch-rnn model here:\n",
    "reset_graph()\n",
    "model = Model(hps_model)\n",
    "eval_model = Model(eval_hps_model, reuse=True)\n",
    "sample_model = Model(sample_hps_model, reuse=True)"
   ]
  },
  {
   "cell_type": "code",
   "execution_count": 152,
   "metadata": {
    "collapsed": false
   },
   "outputs": [
    {
     "name": "stdout",
     "output_type": "stream",
     "text": [
      "INFO:tensorflow:Loading model checkpoint_path/mosquito/vector-210000.\n"
     ]
    },
    {
     "name": "stderr",
     "output_type": "stream",
     "text": [
      "INFO:tensorflow:Loading model checkpoint_path/mosquito/vector-210000.\n"
     ]
    },
    {
     "name": "stdout",
     "output_type": "stream",
     "text": [
      "INFO:tensorflow:Restoring parameters from checkpoint_path/mosquito/vector-210000\n"
     ]
    },
    {
     "name": "stderr",
     "output_type": "stream",
     "text": [
      "INFO:tensorflow:Restoring parameters from checkpoint_path/mosquito/vector-210000\n"
     ]
    }
   ],
   "source": [
    "sess = tf.InteractiveSession()\n",
    "sess.run(tf.global_variables_initializer())\n",
    "# loads the weights from checkpoint into our model\n",
    "load_checkpoint(sess, model_dir)\n",
    "# # randomly unconditionally generate 10 examples\n",
    "# reconstructions = []\n",
    "# for i in range(3):\n",
    "#   reconstructions.append([decode(temperature=0.2, draw_mode=False), [0, i]])\n",
    "# stroke_grid = make_grid_svg(reconstructions)\n",
    "# draw_strokes(stroke_grid)\n"
   ]
  },
  {
   "cell_type": "code",
   "execution_count": 155,
   "metadata": {
    "collapsed": false
   },
   "outputs": [
    {
     "name": "stdout",
     "output_type": "stream",
     "text": [
      "100\n"
     ]
    },
    {
     "data": {
      "image/svg+xml": [
       "<svg baseProfile=\"full\" height=\"70.8381991833\" version=\"1.1\" width=\"84.7952093184\" xmlns=\"http://www.w3.org/2000/svg\" xmlns:ev=\"http://www.w3.org/2001/xml-events\" xmlns:xlink=\"http://www.w3.org/1999/xlink\"><defs/><rect fill=\"white\" height=\"70.8381991833\" width=\"84.7952093184\" x=\"0\" y=\"0\"/><path d=\"M43.2193285273,25.6859129202 m-0.5147607252,-0.583212561905 l-1.97663769126,-0.102700358257 -1.88842967153,0.764677971601 l-0.652645230293,0.592872723937 -0.534546896815,1.28957927227 l-0.07779922802,1.49112164974 0.975041463971,1.57730787992 l0.694706663489,0.409274250269 2.27821573615,-1.27114191651 l0.511744022369,-2.02340438962 -0.645571425557,-2.15589180589 m-3.19737881422,3.1807166338 l-4.10608738661,2.31194958091 -3.46455007792,2.9366672039 l-3.03967744112,3.75733226538 -1.79043367505,3.99922341108 l-0.790518149734,3.97791445255 2.60658085346,-1.01898193359 l2.99935549498,-2.99240708351 3.40930312872,-4.68056678772 l3.44097822905,-3.70183974504 2.44162768126,-3.28611701727 m0.411489829421,1.91660150886 l1.84682399035,0.449344031513 12.8084671497,4.14973914623 l4.32663440704,2.46569290757 0.503948554397,0.222826804966 l-0.517960339785,0.332731977105 -4.10019308329,-0.45365896076 l-12.3066496849,-3.6198541522 -3.995269835,-2.5011959672 m-2.38040015101,-0.713634490967 l-6.39481246471,-1.20190568268 \" fill=\"none\" stroke=\"black\" stroke-width=\"1\"/></svg>"
      ],
      "text/plain": [
       "<IPython.core.display.SVG object>"
      ]
     },
     "metadata": {},
     "output_type": "display_data"
    },
    {
     "data": {
      "image/svg+xml": [
       "<svg baseProfile=\"full\" height=\"70.8381991833\" version=\"1.1\" width=\"97.0571033657\" xmlns=\"http://www.w3.org/2000/svg\" xmlns:ev=\"http://www.w3.org/2001/xml-events\" xmlns:xlink=\"http://www.w3.org/1999/xlink\"><defs/><rect fill=\"white\" height=\"70.8381991833\" width=\"97.0571033657\" x=\"0\" y=\"0\"/><path d=\"M55.4812225746,25.6859129202 m-0.5147607252,-0.583212561905 l-1.97663769126,-0.102700358257 -1.88842967153,0.764677971601 l-0.652645230293,0.592872723937 -0.534546896815,1.28957927227 l-0.07779922802,1.49112164974 0.975041463971,1.57730787992 l0.694706663489,0.409274250269 2.27821573615,-1.27114191651 l0.511744022369,-2.02340438962 -0.645571425557,-2.15589180589 m-3.19737881422,3.1807166338 l-4.10608738661,2.31194958091 -3.46455007792,2.9366672039 l-3.03967744112,3.75733226538 -1.79043367505,3.99922341108 l-0.790518149734,3.97791445255 2.60658085346,-1.01898193359 l2.99935549498,-2.99240708351 3.40930312872,-4.68056678772 l3.44097822905,-3.70183974504 2.44162768126,-3.28611701727 m0.411489829421,1.91660150886 l1.84682399035,0.449344031513 12.8084671497,4.14973914623 l4.32663440704,2.46569290757 0.503948554397,0.222826804966 l-0.517960339785,0.332731977105 -4.10019308329,-0.45365896076 l-12.3066496849,-3.6198541522 -3.995269835,-2.5011959672 m-2.38040015101,-0.713634490967 l-6.39481246471,-1.20190568268 -6.30195736885,-3.24920326471 l-5.95684587955,-1.94739893079 -4.87144589424,-0.547564066947 l-0.231568664312,-4.34897538071e-05 1.78575366735,1.50995343924 l7.53182888031,2.72822648287 7.22544848919,1.57202273607 l-1.87654227018,0.000392531947 -5.78074872494,0.106134535745 l-2.64243870974,0.362110473216 -1.47924304008,1.15683063865 l0.756870731711,1.06771089137 1.70595213771,0.575758740306 l11.4263641834,0.0192537310068 0.635077059269,0.236393027008 l0.55899053812,-0.166086759418 m-1.49154931307,0.625788196921 l0.558420605958,0.233072079718 -3.26787859201,-1.97729364038 l-5.12152373791,-2.47891306877 \" fill=\"none\" stroke=\"black\" stroke-width=\"1\"/></svg>"
      ],
      "text/plain": [
       "<IPython.core.display.SVG object>"
      ]
     },
     "metadata": {},
     "output_type": "display_data"
    }
   ],
   "source": [
    "#DRAW FIRST PART OF SKETCH\n",
    "#get some sample strokes\n",
    "sample_strokes_1, m, hidden_states, final_x = sample(sess, sample_model, seq_len=100, temperature=0.8) #final_state,final_x\n",
    "print(len(sample_strokes_1))\n",
    "n_strokes = np.round(len(sample_strokes_1)/3)\n",
    "sample_strokes_part = sample_strokes_1[:n_strokes]\n",
    "strokes_part = to_normal_strokes(sample_strokes_part)\n",
    "sketch_part = draw_strokes(strokes_part, 0.2, svg_filename = 'svg/mosquito_partial_2.svg')\n",
    "strokes_full = to_normal_strokes(sample_strokes_1)\n",
    "sketch_full = [draw_strokes(strokes_full, 0.2), [0, 0]]\n",
    "\n",
    "final_state = hidden_states[n_strokes]"
   ]
  },
  {
   "cell_type": "code",
   "execution_count": 157,
   "metadata": {
    "collapsed": false
   },
   "outputs": [
    {
     "data": {
      "image/svg+xml": [
       "<svg baseProfile=\"full\" height=\"70.8381991833\" version=\"1.1\" width=\"84.7952093184\" xmlns=\"http://www.w3.org/2000/svg\" xmlns:ev=\"http://www.w3.org/2001/xml-events\" xmlns:xlink=\"http://www.w3.org/1999/xlink\"><defs/><rect fill=\"white\" height=\"70.8381991833\" width=\"84.7952093184\" x=\"0\" y=\"0\"/><path d=\"M43.2193285273,25.6859129202 m-0.5147607252,-0.583212561905 l-1.97663769126,-0.102700358257 -1.88842967153,0.764677971601 l-0.652645230293,0.592872723937 -0.534546896815,1.28957927227 l-0.07779922802,1.49112164974 0.975041463971,1.57730787992 l0.694706663489,0.409274250269 2.27821573615,-1.27114191651 l0.511744022369,-2.02340438962 -0.645571425557,-2.15589180589 m-3.19737881422,3.1807166338 l-4.10608738661,2.31194958091 -3.46455007792,2.9366672039 l-3.03967744112,3.75733226538 -1.79043367505,3.99922341108 l-0.790518149734,3.97791445255 2.60658085346,-1.01898193359 l2.99935549498,-2.99240708351 3.40930312872,-4.68056678772 l3.44097822905,-3.70183974504 2.44162768126,-3.28611701727 m0.411489829421,1.91660150886 l1.84682399035,0.449344031513 12.8084671497,4.14973914623 l4.32663440704,2.46569290757 0.503948554397,0.222826804966 l-0.517960339785,0.332731977105 -4.10019308329,-0.45365896076 l-12.3066496849,-3.6198541522 -3.995269835,-2.5011959672 m-2.38040015101,-0.713634490967 l-6.39481246471,-1.20190568268 \" fill=\"none\" stroke=\"black\" stroke-width=\"1\"/></svg>"
      ],
      "text/plain": [
       "<IPython.core.display.SVG object>"
      ]
     },
     "metadata": {},
     "output_type": "display_data"
    },
    {
     "data": {
      "image/svg+xml": [
       "<svg baseProfile=\"full\" height=\"68.5772510618\" version=\"1.1\" width=\"71.5882164985\" xmlns=\"http://www.w3.org/2000/svg\" xmlns:ev=\"http://www.w3.org/2001/xml-events\" xmlns:xlink=\"http://www.w3.org/1999/xlink\"><defs/><rect fill=\"white\" height=\"68.5772510618\" width=\"71.5882164985\" x=\"0\" y=\"0\"/><path d=\"M30.2538178861,35.5426310659 m1.73863455653,0.743366479874 l4.05412167311,1.55854150653 -3.25994253159,-1.30583286285 l-4.48460072279,-1.85790330172 -3.30203086138,0.000452938984381 l1.68925106525,1.78550705314 4.5543295145,2.09440872073 l8.39675664902,2.16253757477 -9.66310024261,-0.051756510511 m6.99659228325,0.625272765756 l-5.05902051926,2.28002563119 -3.0502769351,-0.0212448090315 m15.3247344494,-11.5247535706 l1.4680403471,-5.90385556221 0.930909886956,-1.12739712 \" fill=\"none\" stroke=\"black\" stroke-width=\"1\"/></svg>"
      ],
      "text/plain": [
       "<IPython.core.display.SVG object>"
      ]
     },
     "metadata": {},
     "output_type": "display_data"
    },
    {
     "data": {
      "image/svg+xml": [
       "<svg baseProfile=\"full\" height=\"75.1758565106\" version=\"1.1\" width=\"84.9491034448\" xmlns=\"http://www.w3.org/2000/svg\" xmlns:ev=\"http://www.w3.org/2001/xml-events\" xmlns:xlink=\"http://www.w3.org/1999/xlink\"><defs/><rect fill=\"white\" height=\"75.1758565106\" width=\"84.9491034448\" x=\"0\" y=\"0\"/><path d=\"M43.3732226538,30.0235702474 m-0.5147607252,-0.583212561905 l-1.97663769126,-0.102700358257 -1.88842967153,0.764677971601 l-0.652645230293,0.592872723937 -0.534546896815,1.28957927227 l-0.07779922802,1.49112164974 0.975041463971,1.57730787992 l0.694706663489,0.409274250269 2.27821573615,-1.27114191651 l0.511744022369,-2.02340438962 -0.645571425557,-2.15589180589 m-3.19737881422,3.1807166338 l-4.10608738661,2.31194958091 -3.46455007792,2.9366672039 l-3.03967744112,3.75733226538 -1.79043367505,3.99922341108 l-0.790518149734,3.97791445255 2.60658085346,-1.01898193359 l2.99935549498,-2.99240708351 3.40930312872,-4.68056678772 l3.44097822905,-3.70183974504 2.44162768126,-3.28611701727 m0.411489829421,1.91660150886 l1.84682399035,0.449344031513 12.8084671497,4.14973914623 l4.32663440704,2.46569290757 0.503948554397,0.222826804966 l-0.517960339785,0.332731977105 -4.10019308329,-0.45365896076 l-12.3066496849,-3.6198541522 -3.995269835,-2.5011959672 m-2.38040015101,-0.713634490967 l-6.39481246471,-1.20190568268 1.73863455653,0.743366479874 l4.05412167311,1.55854150653 -3.25994253159,-1.30583286285 l-4.48460072279,-1.85790330172 -3.30203086138,0.000452938984381 l1.68925106525,1.78550705314 4.5543295145,2.09440872073 l8.39675664902,2.16253757477 -9.66310024261,-0.051756510511 m6.99659228325,0.625272765756 l-5.05902051926,2.28002563119 -3.0502769351,-0.0212448090315 m15.3247344494,-11.5247535706 l1.4680403471,-5.90385556221 0.930909886956,-1.12739712 \" fill=\"none\" stroke=\"black\" stroke-width=\"1\"/></svg>"
      ],
      "text/plain": [
       "<IPython.core.display.SVG object>"
      ]
     },
     "metadata": {},
     "output_type": "display_data"
    },
    {
     "data": {
      "image/svg+xml": [
       "<svg baseProfile=\"full\" height=\"92.7077299708\" version=\"1.1\" width=\"735.425382149\" xmlns=\"http://www.w3.org/2000/svg\" xmlns:ev=\"http://www.w3.org/2001/xml-events\" xmlns:xlink=\"http://www.w3.org/1999/xlink\"><defs/><rect fill=\"white\" height=\"92.7077299708\" width=\"735.425382149\" x=\"0\" y=\"0\"/><path d=\"M25,25 m0.0,0.0 m44.8710113402,18.7249215891 l-0.571956361334,-0.648013957673 -2.1962641014,-0.114111509174 l-2.09825519058,0.849642190668 -0.725161366993,0.658747471041 l-0.593940996461,1.43286585808 -0.0864435866889,1.65680183305 l1.08337940441,1.75256431103 0.771896292766,0.454749166965 l2.53135081795,-1.41237990724 0.568604469299,-2.24822709958 l-0.717301583952,-2.39543533987 m-3.55264312691,3.53412959311 l-4.56231931845,2.56883286768 -3.84950008657,3.26296355989 l-3.37741937902,4.1748136282 -1.98937075006,4.44358156787 l-0.878353499704,4.41990494728 2.89620094829,-1.13220214844 l3.33261721664,-3.32489675946 3.78811458747,-5.20062976413 l3.82330914338,-4.11315527227 2.71291964584,-3.6512411303 m0.457210921579,2.12955723206 l2.05202665594,0.499271146125 14.2316301664,4.61082127359 l4.80737156338,2.73965878619 0.559942838218,0.247585338851 l-0.57551148865,0.369702196783 -4.55577009254,-0.504065511955 l-13.6740552055,-4.02206016911 -4.43918870555,-2.77910663022 m-2.64488905668,-0.792927212185 l-7.10534718302,-1.33545075854 1.93181617392,0.825962755415 l4.50457963679,1.73171278503 -3.62215836843,-1.45092540317 l-4.98288969199,-2.06433700191 -3.66892317931,0.000503265538201 l1.87694562806,1.98389672571 5.06036612723,2.32712080081 l9.32972961002,2.40281952752 -10.7367780473,-0.0575072339012 m7.77399142583,0.694747517506 l-5.62113391029,2.53336181243 -3.38919659456,-0.0236053433683 m17.0274827215,-12.8052817451 l1.63115594122,-6.55983951357 1.03434431884,-1.25266346667 m88.3892903777,4.2308834746 l-0.571956361334,-0.648013957673 -2.1962641014,-0.114111509174 l-2.09825519058,0.849642190668 -0.725161366993,0.658747471041 l-0.593940996461,1.43286585808 -0.0864435866889,1.65680183305 l1.08337940441,1.75256431103 0.771896292766,0.454749166965 l2.53135081795,-1.41237990724 0.568604469299,-2.24822709958 l-0.717301583952,-2.39543533987 m-3.55264312691,3.53412959311 l-4.56231931845,2.56883286768 -3.84950008657,3.26296355989 l-3.37741937902,4.1748136282 -1.98937075006,4.44358156787 l-0.878353499704,4.41990494728 2.89620094829,-1.13220214844 l3.33261721664,-3.32489675946 3.78811458747,-5.20062976413 l3.82330914338,-4.11315527227 2.71291964584,-3.6512411303 m0.457210921579,2.12955723206 l2.05202665594,0.499271146125 14.2316301664,4.61082127359 l4.80737156338,2.73965878619 0.559942838218,0.247585338851 l-0.57551148865,0.369702196783 -4.55577009254,-0.504065511955 l-13.6740552055,-4.02206016911 -4.43918870555,-2.77910663022 m-2.64488905668,-0.792927212185 l-7.10534718302,-1.33545075854 2.11656308836,0.473512171043 l-2.38976114326,-0.297908836769 -2.64061838388,-0.158370762236 l-8.35211806827,0.953579694033 -0.716874665684,0.922687931193 l0.829811559783,0.476165488362 10.6546037727,0.584940529532 l6.29619889789,-0.351865755187 2.01221389903,0.203688277139 m-1.17561933067,-3.7337243557 l-2.26858688725,-4.4366263681 -0.553050968382,-2.48323927323 l1.29082939691,-1.16515076823 1.96077807082,0.213628945251 l1.44771320952,1.62233445379 -0.0298804681127,3.39395668772 l-1.85967253314,2.51587281624 -1.76289743847,0.581802220808 l-0.992369651794,0.928682999478 m97.3894833923,-6.74069077937 l-0.571956361334,-0.648013957673 -2.1962641014,-0.114111509174 l-2.09825519058,0.849642190668 -0.725161366993,0.658747471041 l-0.593940996461,1.43286585808 -0.0864435866889,1.65680183305 l1.08337940441,1.75256431103 0.771896292766,0.454749166965 l2.53135081795,-1.41237990724 0.568604469299,-2.24822709958 l-0.717301583952,-2.39543533987 m-3.55264312691,3.53412959311 l-4.56231931845,2.56883286768 -3.84950008657,3.26296355989 l-3.37741937902,4.1748136282 -1.98937075006,4.44358156787 l-0.878353499704,4.41990494728 2.89620094829,-1.13220214844 l3.33261721664,-3.32489675946 3.78811458747,-5.20062976413 l3.82330914338,-4.11315527227 2.71291964584,-3.6512411303 m0.457210921579,2.12955723206 l2.05202665594,0.499271146125 14.2316301664,4.61082127359 l4.80737156338,2.73965878619 0.559942838218,0.247585338851 l-0.57551148865,0.369702196783 -4.55577009254,-0.504065511955 l-13.6740552055,-4.02206016911 -4.43918870555,-2.77910663022 m-2.64488905668,-0.792927212185 l-7.10534718302,-1.33545075854 3.88891663816,-2.27538496256 l-1.74440923664,-2.888661623 -5.89276088609,-3.67040998406 l-2.54762023687,-0.929669207997 -0.830770201153,-0.000286752967643 l-0.437646152245,0.879646837711 1.64972345034,2.42992109723 l6.21044635773,3.74460717042 5.25222056442,3.42386795415 m0.770801719692,3.26060785188 l-1.67185862859,6.1490032408 -0.00273758066922,2.82763739427 l0.551105332043,1.5837772025 2.26619740327,2.082547711 l2.10029731194,1.12290572789 0.919538736343,-0.0754691763884 l0.569624081254,-1.54445469379 0.0142434417891,-5.16282584932 l-1.81808571021,-3.29594479667 -1.88942766852,-1.84601760573 l-1.54794984394,-0.752356648445 m5.38803007868,2.82898181015 l9.44008496073,-5.12342486117 2.87119415071,-0.661268581947 l2.32893841134,0.33102085193 0.922031617827,0.620445981622 l0.429598035084,1.12275050746 -0.763547254933,1.3359963066 l-5.73211378521,1.48097955518 -9.79034172164,2.05448915561 l0.805688897769,-1.28453258011 m-6.35338889228,-2.4365161856 l-3.34313809872,0.185317339169 -1.74648629295,0.822015189462 l-2.38799585236,2.2756319907 -0.0635404864119,0.712828503715 l0.893868423171,0.459745774666 2.874609828,-0.000356351261467 l3.19056510925,-1.70619620217 m97.7925420668,-14.9077523848 l-0.571956361334,-0.648013957673 -2.1962641014,-0.114111509174 l-2.09825519058,0.849642190668 -0.725161366993,0.658747471041 l-0.593940996461,1.43286585808 -0.0864435866889,1.65680183305 l1.08337940441,1.75256431103 0.771896292766,0.454749166965 l2.53135081795,-1.41237990724 0.568604469299,-2.24822709958 l-0.717301583952,-2.39543533987 m-3.55264312691,3.53412959311 l-4.56231931845,2.56883286768 -3.84950008657,3.26296355989 l-3.37741937902,4.1748136282 -1.98937075006,4.44358156787 l-0.878353499704,4.41990494728 2.89620094829,-1.13220214844 l3.33261721664,-3.32489675946 3.78811458747,-5.20062976413 l3.82330914338,-4.11315527227 2.71291964584,-3.6512411303 m0.457210921579,2.12955723206 l2.05202665594,0.499271146125 14.2316301664,4.61082127359 l4.80737156338,2.73965878619 0.559942838218,0.247585338851 l-0.57551148865,0.369702196783 -4.55577009254,-0.504065511955 l-13.6740552055,-4.02206016911 -4.43918870555,-2.77910663022 m-2.64488905668,-0.792927212185 l-7.10534718302,-1.33545075854 1.78882860475,-0.141903426912 l5.84770970874,-0.147541539951 -7.50858916177,0.0247595598921 l-4.4973893298,-0.766769051552 -1.39573547575,0.410581131776 l0.00810167338285,0.721973346339 3.2703962591,1.79328057501 l3.49892808331,0.646954360935 m102.404458086,-10.9854610507 l-0.571956361334,-0.648013957673 -2.1962641014,-0.114111509174 l-2.09825519058,0.849642190668 -0.725161366993,0.658747471041 l-0.593940996461,1.43286585808 -0.0864435866889,1.65680183305 l1.08337940441,1.75256431103 0.771896292766,0.454749166965 l2.53135081795,-1.41237990724 0.568604469299,-2.24822709958 l-0.717301583952,-2.39543533987 m-3.55264312691,3.53412959311 l-4.56231931845,2.56883286768 -3.84950008657,3.26296355989 l-3.37741937902,4.1748136282 -1.98937075006,4.44358156787 l-0.878353499704,4.41990494728 2.89620094829,-1.13220214844 l3.33261721664,-3.32489675946 3.78811458747,-5.20062976413 l3.82330914338,-4.11315527227 2.71291964584,-3.6512411303 m0.457210921579,2.12955723206 l2.05202665594,0.499271146125 14.2316301664,4.61082127359 l4.80737156338,2.73965878619 0.559942838218,0.247585338851 l-0.57551148865,0.369702196783 -4.55577009254,-0.504065511955 l-13.6740552055,-4.02206016911 -4.43918870555,-2.77910663022 m-2.64488905668,-0.792927212185 l-7.10534718302,-1.33545075854 2.26250704792,-0.322769499487 l-5.20153144995,-2.21577568187 -1.37132323451,-1.07761638032 l-0.638686037726,-0.761163565848 0.425198425849,-1.15140105287 l3.93886201912,-2.14687271251 4.34090528223,-0.908168902 l8.47651163737,1.39203319947 0.592187212573,0.859047306909 l0.716011640098,4.32771775458 -2.68718815512,1.56966563728 l-3.63542437553,-0.324513163004 m-2.47791740629,3.70567672782 l-1.45407666763,3.33237051964 -5.19943171077,7.68099824588 l-1.78717143006,4.36982413133 0.0387820182368,4.24311194155 m107.127790482,-26.392618008 l-0.571956361334,-0.648013957673 -2.1962641014,-0.114111509174 l-2.09825519058,0.849642190668 -0.725161366993,0.658747471041 l-0.593940996461,1.43286585808 -0.0864435866889,1.65680183305 l1.08337940441,1.75256431103 0.771896292766,0.454749166965 l2.53135081795,-1.41237990724 0.568604469299,-2.24822709958 l-0.717301583952,-2.39543533987 m-3.55264312691,3.53412959311 l-4.56231931845,2.56883286768 -3.84950008657,3.26296355989 l-3.37741937902,4.1748136282 -1.98937075006,4.44358156787 l-0.878353499704,4.41990494728 2.89620094829,-1.13220214844 l3.33261721664,-3.32489675946 3.78811458747,-5.20062976413 l3.82330914338,-4.11315527227 2.71291964584,-3.6512411303 m0.457210921579,2.12955723206 l2.05202665594,0.499271146125 14.2316301664,4.61082127359 l4.80737156338,2.73965878619 0.559942838218,0.247585338851 l-0.57551148865,0.369702196783 -4.55577009254,-0.504065511955 l-13.6740552055,-4.02206016911 -4.43918870555,-2.77910663022 m-2.64488905668,-0.792927212185 l-7.10534718302,-1.33545075854 6.93795349863,0.234231601159 l2.45191769467,1.10054901905 -6.61294857661,-1.16489877303 l-1.9671542777,0.000587191607337 -2.30681664414,0.400878157881 l5.29124339422,0.947700358099 1.03308748868,0.704124569893 m-0.44344175193,3.26386127207 l-1.46974474192,0.521277926034 -2.76320262088,3.54565812482 l1.16510291894,-0.370120298531 2.40360945463,-2.40102774567 m12.1758619944,-6.21726844046 l2.16000262234,2.2455819779 2.12879876296,1.32062021229 m83.2817360811,-10.2640449514 l-0.571956361334,-0.648013957673 -2.1962641014,-0.114111509174 l-2.09825519058,0.849642190668 -0.725161366993,0.658747471041 l-0.593940996461,1.43286585808 -0.0864435866889,1.65680183305 l1.08337940441,1.75256431103 0.771896292766,0.454749166965 l2.53135081795,-1.41237990724 0.568604469299,-2.24822709958 l-0.717301583952,-2.39543533987 m-3.55264312691,3.53412959311 l-4.56231931845,2.56883286768 -3.84950008657,3.26296355989 l-3.37741937902,4.1748136282 -1.98937075006,4.44358156787 l-0.878353499704,4.41990494728 2.89620094829,-1.13220214844 l3.33261721664,-3.32489675946 3.78811458747,-5.20062976413 l3.82330914338,-4.11315527227 2.71291964584,-3.6512411303 m0.457210921579,2.12955723206 l2.05202665594,0.499271146125 14.2316301664,4.61082127359 l4.80737156338,2.73965878619 0.559942838218,0.247585338851 l-0.57551148865,0.369702196783 -4.55577009254,-0.504065511955 l-13.6740552055,-4.02206016911 -4.43918870555,-2.77910663022 m-2.64488905668,-0.792927212185 l-7.10534718302,-1.33545075854 2.23699940575,0.595023772783 l2.4994418025,-0.106039353543 2.5449724661,0.0886836606595 l-0.0883322623041,-3.43024101522 -2.90474494298,-3.00936135981 l-2.64167222712,-0.881732006868 -0.70566650894,0.636789037122 l0.41632304589,2.28158798483 3.69559725126,3.31921378771 m5.86433741781,3.26676103804 l-0.816317647696,9.98451620641e-06 -1.30563883318,2.47182233466 l-0.303846432103,1.90804915296 0.274675442941,0.516387033794 l1.00512512856,0.393320909805 1.10915237003,-1.53694815106 l0.0329991233432,-2.71901074383 -0.904938578606,-0.673269811604 m4.89341153039,4.79498042001 l2.7323168185,-0.000300370447803 2.53166241778,0.603184393711 l0.905036263996,0.596273980207 0.900908311208,1.85206035773 l-1.92194796271,-1.077722013 -4.05501425266,-1.57497823238 l-1.81976772017,-1.82866868046 m89.2909338698,-11.8159594605 l-0.571956361334,-0.648013957673 -2.1962641014,-0.114111509174 l-2.09825519058,0.849642190668 -0.725161366993,0.658747471041 l-0.593940996461,1.43286585808 -0.0864435866889,1.65680183305 l1.08337940441,1.75256431103 0.771896292766,0.454749166965 l2.53135081795,-1.41237990724 0.568604469299,-2.24822709958 l-0.717301583952,-2.39543533987 m-3.55264312691,3.53412959311 l-4.56231931845,2.56883286768 -3.84950008657,3.26296355989 l-3.37741937902,4.1748136282 -1.98937075006,4.44358156787 l-0.878353499704,4.41990494728 2.89620094829,-1.13220214844 l3.33261721664,-3.32489675946 3.78811458747,-5.20062976413 l3.82330914338,-4.11315527227 2.71291964584,-3.6512411303 m0.457210921579,2.12955723206 l2.05202665594,0.499271146125 14.2316301664,4.61082127359 l4.80737156338,2.73965878619 0.559942838218,0.247585338851 l-0.57551148865,0.369702196783 -4.55577009254,-0.504065511955 l-13.6740552055,-4.02206016911 -4.43918870555,-2.77910663022 m-2.64488905668,-0.792927212185 l-7.10534718302,-1.33545075854 1.01174761852,0.467990173234 l3.32791142994,2.17216908932 2.31752180391,1.22492189209 m-1.79484006431,2.44158324268 l-2.42576085859,2.67610616154 -0.917544381486,2.66741630104 l-0.289279698498,2.00765182575 0.36222839521,1.30620052417 m4.85953357485,-8.58765310711 l0.242795360585,1.08977349268 1.42655836211,4.11464969317 m2.47051782078,-8.64064560996 l2.63473921352,2.41607891189 1.31735644407,2.46595789989 m-1.01760932141,-7.83340930939 l0.878287603458,1.25114040242 5.59036864175,4.91739180353 m-13.7179017067,-4.60152261787 l-1.54640012317,-0.764860295587 -7.44160546197,-4.19525106748 l-1.70154703988,-0.26672354175 1.58310433229,2.60106523832 l3.04733845923,1.98833511935 3.75780794356,-1.47839702752e-05 l0.187333280014,-0.541693179144 m0.313122632603,-0.512835631768 l-1.06708117657,-0.993682361311 -1.57661024067,-5.69864975082 l2.52232766814,-1.67031867637 2.32003447082,0.34072527455 l0.701191110743,2.9626124435 -0.65149217844,2.2132060594 \" fill=\"none\" stroke=\"black\" stroke-width=\"1\"/></svg>"
      ],
      "text/plain": [
       "<IPython.core.display.SVG object>"
      ]
     },
     "metadata": {},
     "output_type": "display_data"
    }
   ],
   "source": [
    "# Encode generated strokes to a hidden state h\n",
    "strokes_0 = sample_strokes_part # dx, dx, p1, p2, p3\n",
    "\n",
    "# h_1 = sess.run(eval_model.batch_z, feed_dict={eval_model.input_data: [strokes_0], eval_model.sequence_lengths: seq_len})[0]\n",
    "reconstructions = []\n",
    "N = 8\n",
    "for i in range(N):\n",
    "    sample_strokes_2, m, _, _ = sample(sess=sess, model=sample_model, seq_len=250, temperature=0.75, prev_state = final_state)\n",
    "    strokes_2 = to_normal_strokes(sample_strokes_2)\n",
    "    all_strokes_big = np.concatenate((strokes_0,sample_strokes_2),axis=0)\n",
    "    all_strokes = to_normal_strokes(all_strokes_big)\n",
    "    if i == 0:\n",
    "        sketch_0 = [draw_strokes(strokes_part, 0.2), [0, 0]]\n",
    "        sketch_1 = [draw_strokes(strokes_2, 0.2),[0, 1]]\n",
    "        sketch_2 = [draw_strokes(all_strokes, 0.2),[0, 1]]\n",
    "    \n",
    "    reconstructions.append([all_strokes, [0, i]])\n",
    "    \n",
    "stroke_grid = make_grid_svg(reconstructions)\n",
    "draw_strokes(stroke_grid, 0.18, svg_filename = 'svg/mosquitos_2.svg')"
   ]
  },
  {
   "cell_type": "code",
   "execution_count": 158,
   "metadata": {
    "collapsed": false
   },
   "outputs": [
    {
     "name": "stdout",
     "output_type": "stream",
     "text": [
      "INFO:tensorflow:Model using gpu.\n"
     ]
    },
    {
     "name": "stderr",
     "output_type": "stream",
     "text": [
      "INFO:tensorflow:Model using gpu.\n"
     ]
    },
    {
     "name": "stdout",
     "output_type": "stream",
     "text": [
      "INFO:tensorflow:Input dropout mode = False.\n"
     ]
    },
    {
     "name": "stderr",
     "output_type": "stream",
     "text": [
      "INFO:tensorflow:Input dropout mode = False.\n"
     ]
    },
    {
     "name": "stdout",
     "output_type": "stream",
     "text": [
      "INFO:tensorflow:Output dropout mode = False.\n"
     ]
    },
    {
     "name": "stderr",
     "output_type": "stream",
     "text": [
      "INFO:tensorflow:Output dropout mode = False.\n"
     ]
    },
    {
     "name": "stdout",
     "output_type": "stream",
     "text": [
      "INFO:tensorflow:Recurrent dropout mode = True.\n"
     ]
    },
    {
     "name": "stderr",
     "output_type": "stream",
     "text": [
      "INFO:tensorflow:Recurrent dropout mode = True.\n"
     ]
    },
    {
     "name": "stdout",
     "output_type": "stream",
     "text": [
      "INFO:tensorflow:Model using gpu.\n"
     ]
    },
    {
     "name": "stderr",
     "output_type": "stream",
     "text": [
      "INFO:tensorflow:Model using gpu.\n"
     ]
    },
    {
     "name": "stdout",
     "output_type": "stream",
     "text": [
      "INFO:tensorflow:Input dropout mode = 0.\n"
     ]
    },
    {
     "name": "stderr",
     "output_type": "stream",
     "text": [
      "INFO:tensorflow:Input dropout mode = 0.\n"
     ]
    },
    {
     "name": "stdout",
     "output_type": "stream",
     "text": [
      "INFO:tensorflow:Output dropout mode = 0.\n"
     ]
    },
    {
     "name": "stderr",
     "output_type": "stream",
     "text": [
      "INFO:tensorflow:Output dropout mode = 0.\n"
     ]
    },
    {
     "name": "stdout",
     "output_type": "stream",
     "text": [
      "INFO:tensorflow:Recurrent dropout mode = 0.\n"
     ]
    },
    {
     "name": "stderr",
     "output_type": "stream",
     "text": [
      "INFO:tensorflow:Recurrent dropout mode = 0.\n"
     ]
    },
    {
     "name": "stdout",
     "output_type": "stream",
     "text": [
      "INFO:tensorflow:Model using gpu.\n"
     ]
    },
    {
     "name": "stderr",
     "output_type": "stream",
     "text": [
      "INFO:tensorflow:Model using gpu.\n"
     ]
    },
    {
     "name": "stdout",
     "output_type": "stream",
     "text": [
      "INFO:tensorflow:Input dropout mode = 0.\n"
     ]
    },
    {
     "name": "stderr",
     "output_type": "stream",
     "text": [
      "INFO:tensorflow:Input dropout mode = 0.\n"
     ]
    },
    {
     "name": "stdout",
     "output_type": "stream",
     "text": [
      "INFO:tensorflow:Output dropout mode = 0.\n"
     ]
    },
    {
     "name": "stderr",
     "output_type": "stream",
     "text": [
      "INFO:tensorflow:Output dropout mode = 0.\n"
     ]
    },
    {
     "name": "stdout",
     "output_type": "stream",
     "text": [
      "INFO:tensorflow:Recurrent dropout mode = 0.\n"
     ]
    },
    {
     "name": "stderr",
     "output_type": "stream",
     "text": [
      "INFO:tensorflow:Recurrent dropout mode = 0.\n"
     ]
    },
    {
     "name": "stdout",
     "output_type": "stream",
     "text": [
      "INFO:tensorflow:Loading model checkpoint_path/cat/vector-200000.\n"
     ]
    },
    {
     "name": "stderr",
     "output_type": "stream",
     "text": [
      "INFO:tensorflow:Loading model checkpoint_path/cat/vector-200000.\n"
     ]
    },
    {
     "name": "stdout",
     "output_type": "stream",
     "text": [
      "INFO:tensorflow:Restoring parameters from checkpoint_path/cat/vector-200000\n"
     ]
    },
    {
     "name": "stderr",
     "output_type": "stream",
     "text": [
      "INFO:tensorflow:Restoring parameters from checkpoint_path/cat/vector-200000\n"
     ]
    },
    {
     "data": {
      "image/svg+xml": [
       "<svg baseProfile=\"full\" height=\"90.0061430759\" version=\"1.1\" width=\"262.690035542\" xmlns=\"http://www.w3.org/2000/svg\" xmlns:ev=\"http://www.w3.org/2001/xml-events\" xmlns:xlink=\"http://www.w3.org/1999/xlink\"><defs/><rect fill=\"white\" height=\"90.0061430759\" width=\"262.690035542\" x=\"0\" y=\"0\"/><path d=\"M25,25 m0.0,0.0 m37.0148084685,17.6418090479 l-2.38367348909,-0.392993837595 -3.31861287355,0.564242303371 l-3.34791660309,2.12823778391 -2.57072657347,3.20139616728 l-1.18803858757,3.53395223618 -0.0849502161145,3.6255556345 l1.32787361741,3.32864433527 2.4844174087,2.68947452307 l3.08693915606,1.5919367969 3.3198839426,0.771796777844 l4.23404663801,8.6877735157e-05 3.63281190395,-0.82324758172 l3.09124588966,-1.53629332781 2.50075906515,-1.98273807764 l1.75434753299,-2.2959561646 0.988167598844,-2.48558565974 l0.309147462249,-2.56033986807 -0.394916087389,-2.61623561382 l-1.1751382798,-2.38867431879 -1.89330771565,-2.05152630806 l-2.55892455578,-1.68911576271 -4.6977981925,-1.51244699955 l-3.52792978287,-0.230899062008 -2.81049519777,0.435552597046 m-7.77403950691,4.39144253731 l-0.574710220098,-1.2897130847 -0.640916973352,-9.05773282051 l4.90599900484,4.51923280954 2.11194545031,1.35250985622 m12.044942379,0.674393549562 l3.6335259676,-4.24734830856 3.29985767603,-2.75954335928 l0.313138589263,1.9573803246 -1.0673648864,7.46416270733 l0.0740185473114,2.32789307833 m-16.3452255726,2.8478962183 l-0.797442868352,0.291087459773 -0.392044596374,1.05385474861 l0.662399157882,0.983751192689 0.987672284245,0.189598891884 l0.7946357131,-1.12639211118 -0.49118578434,-0.994511991739 l-0.677442923188,-0.241549760103 m9.33643162251,-0.995072647929 l-0.94510525465,0.723593756557 -0.192090664059,0.72453096509 l0.504378415644,0.645710155368 1.18729569018,-0.0137044698931 l0.475568622351,-0.833674147725 -0.172986947,-0.55068153888 l-1.21599957347,-0.37438981235 -0.657889544964,0.297013707459 m-5.06674647331,5.72531700134 l0.0593219976872,0.899646356702 1.13084860146,0.906909480691 l0.793966203928,-0.854072123766 -0.508241094649,-1.14602580667 l-0.881400555372,-0.24979962036 -0.405688844621,0.392297394574 m0.375953912735,1.76611319184 l-0.0325640849769,1.52632385492 -0.624294020236,1.13248176873 l-1.44852519035,0.909882560372 -1.92037850618,0.328995585442 l-1.48398429155,-0.372843705118 -0.784136205912,-1.07096046209 m6.50358855724,-3.19231569767 l0.653278157115,1.81213840842 0.847518220544,0.868293792009 l1.51244327426,0.3684316203 1.76132261753,-0.441819280386 l1.08986824751,-1.29118621349 m64.5307798275,-11.5037573013 l0.179353579879,-1.38040706515 1.12463697791,-1.30592614412 l3.00044924021,-2.05866321921 3.15068364143,-1.17656715214 l5.46872437,-0.623698346317 3.82238656282,0.35362046212 l3.03719162941,1.06822513044 2.58846700191,1.71473130584 l2.0027706027,2.17721283436 1.31619036198,2.85263061523 l0.355540364981,3.20461004972 -0.930992588401,5.23450791836 l-2.37174198031,3.41303437948 -3.05736869574,2.49213889241 l-3.24409812689,1.57671749592 -3.42563956976,0.810196101665 l-3.32186669111,0.176726859063 -3.06658744812,-0.555730983615 l-2.7477684617,-1.37127012014 -2.13181525469,-1.99309468269 l-1.53979986906,-2.45090916753 -1.04525886476,-2.98922896385 l-0.400924868882,-2.99676865339 0.182984862477,-2.97265857458 l0.801324620843,-2.54987120628 1.31696537137,-2.13399872184 m-0.0221877195872,0.93500778079 l-1.33256837726,-7.14731156826 -1.04131661355,-6.43400192261 l5.02030432224,4.61648494005 4.64826017618,3.76572191715 m10.1283621788,0.132246594876 l4.07133281231,-5.28958201408 3.34529519081,-3.04681897163 l-0.370349735022,7.85580098629 -0.503868423402,5.31548500061 m-16.5622603893,3.61536115408 l-0.152235459536,0.0478746416047 0.125520629808,-0.0362062128261 l0.778110101819,0.0402188813314 0.00131341410452,-0.196635127068 l-0.378786027431,0.0341107929125 -0.0421083020046,-0.0345360650681 l0.164925921708,0.0597028713673 0.118620172143,-0.0593624822795 l-0.0800976529717,0.0127310678363 -0.116489417851,-0.234196204692 l0.25458574295,0.146984672174 0.0981325376779,0.351943150163 l-0.422847382724,-0.173742808402 -0.0619615847245,-0.610435679555 l0.36517649889,0.147877344862 -0.13112780638,0.456241443753 m9.32651519775,-0.559039451182 l-0.19555227831,-0.18421664834 0.108744967729,0.304059032351 l0.118773374707,-0.446657165885 -0.0375488400459,0.32681658864 l-0.204118900001,-0.363717339933 0.252936501056,0.20371299237 l-0.0319935823791,0.277130547911 -0.159299969673,-0.355940461159 l0.234881639481,0.0935568846762 -0.0868401676416,0.299595352262 l-0.15772242099,-0.357358194888 0.220419950783,0.117398453876 l-0.151547864079,0.351102352142 m-6.48481190205,5.42912423611 l0.844632536173,0.441220924258 0.323495455086,0.411082692444 l0.00573526252992,0.224258620292 -0.676450133324,-0.242967177182 l-0.188851282001,-0.523025617003 0.311958063394,-0.234402641654 l0.0487217493355,0.367642566562 -0.500535145402,0.198355112225 l-0.113395228982,-0.178380459547 0.662286505103,-0.0999541766942 m-0.379595197737,0.454703271389 l0.0680431164801,2.49617144465 -1.02873183787,1.69652953744 l-1.7545029521,0.903371274471 -1.85798957944,-0.29587874189 l-0.3965408355,-0.855853781104 0.177014637738,-1.26628950238 m5.22316873074,-2.52137422562 l0.0692743202671,2.45356842875 1.01430118084,1.6578784585 l1.48526445031,0.486374236643 1.62099033594,-0.463852286339 l0.881470516324,-1.27511337399 m-2.36276492476,-3.35171103477 l8.21703076363,-2.87039041519 5.53504228592,-1.18205755949 m-12.7454221249,5.15727519989 l7.92561352253,-0.187363103032 5.15370607376,0.667524188757 m-12.1853268147,1.04016028345 l5.42586028576,1.2353015691 4.11229103804,1.70103177428 m-17.8582775593,-5.91068089008 l-2.04429551959,-0.629206448793 -5.53057610989,-0.419780723751 l-4.15586471558,0.419319681823 m12.0543456078,2.37035542727 l-2.69690692425,-0.295585598797 -3.38332056999,0.473328568041 l-5.63030421734,2.56176412106 -2.87624180317,2.35770896077 m13.7476611137,-3.28071415424 l-2.76225417852,0.420052558184 -3.02240908146,1.42993316054 l-2.791223526,1.89230963588 -2.55382657051,2.33893170953 m96.651093429,-22.223937259 l-1.66370093822,-0.777640789747 -2.84826099873,-0.114290546626 l-5.61799287796,1.59233540297 -4.01961326599,2.92097568512 l-2.51164793968,3.30831468105 -1.30203023553,3.65476965904 l-0.118277277797,3.86368185282 0.524524115026,1.89642474055 l2.37017855048,3.43120038509 3.12541544437,2.09990501404 l3.52800637484,1.24017223716 4.42277491093,0.000148903527588 l4.06489372253,-1.01987883449 3.54977220297,-1.76755443215 l2.96485751867,-2.3555482924 2.20991358161,-2.69525498152 l1.31190165877,-2.82345503569 0.550994388759,-2.74177998304 l-0.213852357119,-2.5790387392 -0.970841050148,-2.40508019924 l-1.6380815208,-2.06853687763 -2.2834546864,-1.72977611423 l-2.73411631584,-1.17319986224 -4.79439944029,-0.8000754565 l-3.20019513369,0.13482965529 -2.51171290874,0.792767256498 m-8.42388391495,5.65470993519 l-0.114370137453,-4.06749308109 0.136041343212,-8.29772412777 l0.66016420722,-0.14868943952 5.09989619255,5.98948478699 l1.78985834122,1.32755443454 m11.8828117847,-0.0335244880989 l3.49258035421,-5.06115436554 3.5380345583,-3.6991494894 l0.369761176407,0.824801251292 -0.404220335186,6.53031527996 l-0.343516543508,5.15438556671 m-17.363370657,4.35181885958 l-0.402907058597,0.431013964117 -0.157893132418,1.0576299578 l0.659258216619,0.713055431843 0.805979818106,-0.745981186628 l0.134550463408,-1.35168001056 -0.576680898666,-0.344646461308 l-0.510005988181,0.324804037809 m9.75432991982,-1.47341087461 l-0.927272737026,0.745087116957 -0.135527430102,1.23007267714 l0.905015319586,0.378279313445 0.658986270428,-0.825455263257 l-0.0117243558634,-1.23501136899 -0.581971257925,-0.383051410317 l-0.520380884409,0.279871616513 m-5.73847353458,7.11239218712 l-0.34330740571,0.752156302333 0.427897423506,0.918978005648 l1.04911699891,0.333708673716 0.595587678254,-0.928791239858 l-0.701126009226,-1.03463888168 -1.44400462508,-0.465320833027 l-0.353883579373,0.489155985415 m0.79051733017,1.69214427471 l-0.614169239998,3.21144878864 -1.54869273305,2.0284126699 l-1.88414856791,0.785947293043 -2.11556211114,-0.000195833981707 l-1.59475877881,-0.952596887946 -0.406185239553,-0.93127720058 m8.58719825745,-4.48296427727 l0.251493304968,2.60405957699 1.39421284199,2.1558393538 l1.11631259322,0.61564784497 1.77918434143,-0.00465080403956 l1.85092657804,-1.04553684592 1.31682485342,-1.46312594414 \" fill=\"none\" stroke=\"black\" stroke-width=\"1\"/></svg>"
      ],
      "text/plain": [
       "<IPython.core.display.SVG object>"
      ]
     },
     "metadata": {},
     "output_type": "display_data"
    }
   ],
   "source": [
    "# Now try to switch the class\n",
    "model_dir = 'checkpoint_path/cat'\n",
    "[hps_model, eval_hps_model, sample_hps_model] = load_model(model_dir)\n",
    "# construct the sketch-rnn model here:\n",
    "reset_graph()\n",
    "model = Model(hps_model)\n",
    "eval_model = Model(eval_hps_model, reuse=True)\n",
    "sample_model = Model(sample_hps_model, reuse=True)\n",
    "sess = tf.InteractiveSession()\n",
    "sess.run(tf.global_variables_initializer())\n",
    "\n",
    "# loads the weights from checkpoint into our model\n",
    "load_checkpoint(sess, model_dir)\n",
    "\n",
    "# randomly unconditionally generate examples\n",
    "reconstructions = []\n",
    "for i in range(3):\n",
    "  reconstructions.append([decode(temperature=0.2, draw_mode=False), [0, i]])\n",
    "stroke_grid = make_grid_svg(reconstructions)\n",
    "draw_strokes(stroke_grid)\n"
   ]
  },
  {
   "cell_type": "code",
   "execution_count": 160,
   "metadata": {
    "collapsed": false
   },
   "outputs": [
    {
     "name": "stdout",
     "output_type": "stream",
     "text": [
      "33\n"
     ]
    },
    {
     "data": {
      "image/svg+xml": [
       "<svg baseProfile=\"full\" height=\"90.1890954236\" version=\"1.1\" width=\"667.653089315\" xmlns=\"http://www.w3.org/2000/svg\" xmlns:ev=\"http://www.w3.org/2001/xml-events\" xmlns:xlink=\"http://www.w3.org/1999/xlink\"><defs/><rect fill=\"white\" height=\"90.1890954236\" width=\"667.653089315\" x=\"0\" y=\"0\"/><path d=\"M25,25 m0.0,0.0 m44.7318072477,15.8544630604 l-0.5147607252,-0.583212561905 -1.97663769126,-0.102700358257 l-1.88842967153,0.764677971601 -0.652645230293,0.592872723937 l-0.534546896815,1.28957927227 -0.07779922802,1.49112164974 l0.975041463971,1.57730787992 0.694706663489,0.409274250269 l2.27821573615,-1.27114191651 0.511744022369,-2.02340438962 l-0.645571425557,-2.15589180589 m-3.19737881422,3.1807166338 l-4.10608738661,2.31194958091 -3.46455007792,2.9366672039 l-3.03967744112,3.75733226538 -1.79043367505,3.99922341108 l-0.790518149734,3.97791445255 2.60658085346,-1.01898193359 l2.99935549498,-2.99240708351 3.40930312872,-4.68056678772 l3.44097822905,-3.70183974504 2.44162768126,-3.28611701727 m0.411489829421,1.91660150886 l1.84682399035,0.449344031513 12.8084671497,4.14973914623 l4.32663440704,2.46569290757 0.503948554397,0.222826804966 l-0.517960339785,0.332731977105 -4.10019308329,-0.45365896076 l-12.3066496849,-3.6198541522 -3.995269835,-2.5011959672 m-2.38040015101,-0.713634490967 l-6.39481246471,-1.20190568268 -2.42911711335,2.16436013579 l-1.39772817492,1.66222587228 -2.80601561069,2.22851365805 l-0.664532482624,-0.00575359910727 -0.388296619058,-1.66921183467 l1.5083168447,-3.03623467684 -1.38137444854,-1.16897583008 l-1.23159818351,-0.136766629294 -1.73551023006,2.09800601006 l-1.76318541169,0.72202950716 -1.20034180582,-1.45181909204 l-0.460228733718,-3.46225470304 0.295973606408,-1.33448064327 m21.4749836922,-2.9094940424 l-0.0389116373844,-0.421107746661 0.70180773735,0.31333245337 l0.529081299901,-1.26311838627 1.08484856784,-0.293592326343 l0.115261152387,-0.582356452942 -0.60713198036,0.19495755434 l-0.304409563541,1.43916130066 0.0301198335364,0.475542619824 l0.549957938492,0.0444362265989 0.525365509093,-1.09942048788 l0.597820915282,0.971241295338 0.247691739351,-1.40447571874 l-1.23471178114,0.189962033182 -0.763766914606,1.19810923934 l0.640442743897,0.686806812882 0.950814709067,-0.795665532351 l-0.686873495579,-0.904234945774 0.489561073482,1.12533681095 l0.548145063221,0.798613801599 0.944675803185,0.187681186944 l0.439066514373,-1.59414216876 -1.07345096767,-0.580266527832 l-0.337540842593,0.675335973501 0.318985842168,0.960698574781 l0.283560473472,-0.922423154116 -0.750123485923,-0.187589414418 l0.0835027638823,1.31271079183 0.342735089362,-0.694475471973 l-0.185484178364,0.718800500035 0.690327882767,0.215669628233 l0.185304339975,-0.822961106896 -0.433032922447,-0.176978819072 l0.151769863442,0.687688067555 1.01594515145,0.436814017594 l0.182879716158,-0.890549644828 -0.791076868773,-1.01362600923 l-0.776798725128,0.197182558477 0.361698158085,1.57065913081 m-5.19113183022,4.68857854605 l1.87069758773,0.277406219393 0.5233277753,-0.465779975057 l0.793177708983,0.000142510334626 -0.973305627704,0.00139375770232 l-0.0753467855975,0.574129894376 0.460677854717,0.312917456031 l1.1008053273,0.000123748013721 m-1.38748079538,1.17473870516 l0.18994923681,0.264267493039 0.873152837157,-0.16831047833 m-2.80429750681,-2.42424920201 l-0.0637211790308,0.55235195905 -0.320497378707,1.22455605833e-05 l-0.270759426057,-0.221883393824 0.2501453273,-0.241223108023 l-0.315619856119,0.559942536056 -0.398339368403,-0.336712561548 l0.101824803278,0.615173205733 0.608270801604,0.0658336561173 l-0.1533628162,-0.49795947969 0.0694367056713,0.50101865083 l-0.0673094205558,-0.358989052474 -0.061053163372,0.0255650957115 m86.7203142517,-6.11242792544 l-0.5147607252,-0.583212561905 -1.97663769126,-0.102700358257 l-1.88842967153,0.764677971601 -0.652645230293,0.592872723937 l-0.534546896815,1.28957927227 -0.07779922802,1.49112164974 l0.975041463971,1.57730787992 0.694706663489,0.409274250269 l2.27821573615,-1.27114191651 0.511744022369,-2.02340438962 l-0.645571425557,-2.15589180589 m-3.19737881422,3.1807166338 l-4.10608738661,2.31194958091 -3.46455007792,2.9366672039 l-3.03967744112,3.75733226538 -1.79043367505,3.99922341108 l-0.790518149734,3.97791445255 2.60658085346,-1.01898193359 l2.99935549498,-2.99240708351 3.40930312872,-4.68056678772 l3.44097822905,-3.70183974504 2.44162768126,-3.28611701727 m0.411489829421,1.91660150886 l1.84682399035,0.449344031513 12.8084671497,4.14973914623 l4.32663440704,2.46569290757 0.503948554397,0.222826804966 l-0.517960339785,0.332731977105 -4.10019308329,-0.45365896076 l-12.3066496849,-3.6198541522 -3.995269835,-2.5011959672 m-2.38040015101,-0.713634490967 l-6.39481246471,-1.20190568268 0.197275690734,1.94613695145 l0.534582920372,0.944158658385 m4.3217203021,-2.1605758369 l0.851536467671,1.74556732178 1.5074762702,1.64680317044 l1.13399118185,0.940528959036 1.39252796769,0.528913624585 l0.383623540401,-2.64013588428 m-7.84693002701,-10.3393042088 l-0.683459937572,-2.59761333466 2.33606606722,1.20992809534 l1.35368466377,1.98686316609 0.583161599934,0.209576487541 m0.466533564031,-0.201369058341 l1.78245440125,-2.38375842571 2.12555527687,-1.65857732296 l0.395157746971,3.52603942156 -0.669724047184,2.91561216116 l-0.810217112303,0.50207991153 m-21.6438245773,17.3215723038 l-0.442895404994,0.764601156116 -1.63701280951,3.01182866096 l0.0510200764984,1.31216570735 1.03388115764,0.809833779931 l2.03959912062,0.05046505481 2.26617217064,-3.78843694925 l0.59408724308,-3.1095969677 0.252366121858,-0.0131532619707 l0.145280761644,1.83810323477 0.75710952282,2.20128953457 l0.716204568744,0.517889484763 1.24451704323,-0.0538058765233 l0.992969274521,-1.87738209963 0.126227857545,-2.09437087178 l-0.787762776017,-1.70408234 -2.16606527567,-0.872839614749 l-1.76900833845,0.187543444335 -0.0887785665691,1.60941302776 m11.6966557503,-3.14580053091 l0.0663553830236,3.29367369413 1.3928617537,3.10521036386 l2.13101193309,0.90753428638 2.34207600355,-0.507907643914 l0.60885630548,-1.03969149292 -0.11339998804,-2.33889549971 l-2.02202960849,-2.34504297376 -2.1389053762,-1.11644327641 l-1.71663790941,0.218454878777 -1.12109966576,1.06044597924 m-6.72168552876,-6.92744255066 l-0.32707054168,0.38682166487 1.06219366193,0.725940987468 l0.7689139992,-0.667490959167 -0.652899593115,-0.0494954176247 l0.132830478251,0.277663450688 0.562732629478,0.653805583715 m91.4951451262,-6.98058269341 l-0.5147607252,-0.583212561905 -1.97663769126,-0.102700358257 l-1.88842967153,0.764677971601 -0.652645230293,0.592872723937 l-0.534546896815,1.28957927227 -0.07779922802,1.49112164974 l0.975041463971,1.57730787992 0.694706663489,0.409274250269 l2.27821573615,-1.27114191651 0.511744022369,-2.02340438962 l-0.645571425557,-2.15589180589 m-3.19737881422,3.1807166338 l-4.10608738661,2.31194958091 -3.46455007792,2.9366672039 l-3.03967744112,3.75733226538 -1.79043367505,3.99922341108 l-0.790518149734,3.97791445255 2.60658085346,-1.01898193359 l2.99935549498,-2.99240708351 3.40930312872,-4.68056678772 l3.44097822905,-3.70183974504 2.44162768126,-3.28611701727 m0.411489829421,1.91660150886 l1.84682399035,0.449344031513 12.8084671497,4.14973914623 l4.32663440704,2.46569290757 0.503948554397,0.222826804966 l-0.517960339785,0.332731977105 -4.10019308329,-0.45365896076 l-12.3066496849,-3.6198541522 -3.995269835,-2.5011959672 m-2.38040015101,-0.713634490967 l-6.39481246471,-1.20190568268 1.37885063887,2.49240264297 l1.02468855679,1.33296921849 1.95293813944,3.04744929075 l-0.26198418811,-0.216631498188 -1.51286125183,-1.9180175662 l-1.94248095155,-2.36256197095 m3.52684020996,3.65125715733 l0.463983751833,1.87562689185 1.43297880888,1.78346410394 l2.06964284182,0.955858007073 1.12990051508,-3.97364288568 l-0.242654401809,-0.921995490789 m3.2269513607,-1.45872816443 l0.929361432791,3.40426385403 1.36475518346,1.28787994385 l1.42923742533,-5.34517319295e-08 0.0663237227127,-4.01367366314 l-0.614680424333,-1.27731204033 m1.19868017733,-0.637995004654 l1.36575117707,1.28758966923 2.01637431979,1.17732778192 l1.29161581397,0.279524736106 1.75612166524,-0.549679175019 l0.534984022379,-1.69539406896 -3.11446815729,-3.601796031 l-2.57667034864,-0.688394531608 m-14.8353648186,-8.05259525776 l0.654812455177,-2.35090494156 0.798882991076,-1.44449338317 l1.54103398323,2.64847517014 0.693626105785,1.87940880656 m0.41820526123,-0.367977619171 l0.642081350088,-1.03536985815 2.28025972843,-2.45900243521 l0.369026511908,3.69148850441 -0.5036239326,1.97952196002 m-4.63898211718,0.372807942331 l5.86010992265e-05,-0.000500129644934 m87.8052086081,1.32550733955 l-0.5147607252,-0.583212561905 -1.97663769126,-0.102700358257 l-1.88842967153,0.764677971601 -0.652645230293,0.592872723937 l-0.534546896815,1.28957927227 -0.07779922802,1.49112164974 l0.975041463971,1.57730787992 0.694706663489,0.409274250269 l2.27821573615,-1.27114191651 0.511744022369,-2.02340438962 l-0.645571425557,-2.15589180589 m-3.19737881422,3.1807166338 l-4.10608738661,2.31194958091 -3.46455007792,2.9366672039 l-3.03967744112,3.75733226538 -1.79043367505,3.99922341108 l-0.790518149734,3.97791445255 2.60658085346,-1.01898193359 l2.99935549498,-2.99240708351 3.40930312872,-4.68056678772 l3.44097822905,-3.70183974504 2.44162768126,-3.28611701727 m0.411489829421,1.91660150886 l1.84682399035,0.449344031513 12.8084671497,4.14973914623 l4.32663440704,2.46569290757 0.503948554397,0.222826804966 l-0.517960339785,0.332731977105 -4.10019308329,-0.45365896076 l-12.3066496849,-3.6198541522 -3.995269835,-2.5011959672 m-2.38040015101,-0.713634490967 l-6.39481246471,-1.20190568268 -0.345512628555,0.727797225118 l-1.44753724337,7.07529067993 0.331317409873,0.649546533823 l2.22829595208,-1.73684433103 1.60017073154,-3.72021615505 l-0.234002768993,1.17770917714 0.177988167852,1.58771902323 l1.11012980342,4.5222479105 0.605045929551,0.397776924074 l0.551329702139,-0.453552156687 0.931089967489,-2.63603329659 l-0.90444251895,-2.00506448746 -1.72664448619,-1.22870266438 m7.81161725521,-0.414355173707 l-1.00495412946,3.11478942633 -0.0903383549303,3.138705194 l0.284532047808,0.965161770582 3.59242111444,-3.45279455185 l0.11516568251,-2.72284120321 -1.00695192814,-1.64757311344 l-1.54806926847,-0.610228255391 m-12.3281383514,-9.02949571609 l-0.296126157045,0.0770324096084 0.00073684626841,-0.525219626725 l1.34554967284,0.651935636997 0.521437563002,1.18370383978 l-0.951464399695,-4.99813950228e-05 -0.602305531502,-1.17913141847 l-0.0613595871255,-0.626472830772 0.520271807909,-0.025148508139 l1.23701632023,0.656643807888 -0.0807772018015,0.552261695266 l-0.725179687142,-0.146459881216 m5.79615592957,-1.26715600491 l0.179925784469,-0.522857122123 -0.0641941279173,0.572401322424 l-0.607774630189,0.0538751715794 0.247573330998,-0.271716117859 l-0.281517375261,0.43409857899 -0.0147397303954,-0.393409058452 l0.590531080961,-0.305489189923 -0.261546652764,0.59842467308 m-4.7954621911,0.337650552392 l0.00110873595986,-0.000146345455505 0.68943195045,-0.236741807312 l-0.153379775584,0.0405023805797 -0.136640751734,-0.0644269539043 l0.0612126104534,-0.234531741589 m2.44311109185,2.80298680067 l0.0462421681732,0.368084162474 0.554175786674,0.175540968776 l-0.0228043040261,-0.966315492988 -0.562221966684,-0.374917536974 m-5.15462100506,-2.28437930346 l-1.7065885663,-3.29336345196 -1.04295872152,-2.79923796654 l3.6350864172,1.11556187272 3.06854248047,2.45999276638 m3.82454961538,-0.540033318102 l2.27749601007,-3.06599378586 2.19753667712,-1.17518052459 l0.520505346358,2.2661486268 -1.16264522076,5.32076358795 m86.977617064,-2.64896174797 l-0.5147607252,-0.583212561905 -1.97663769126,-0.102700358257 l-1.88842967153,0.764677971601 -0.652645230293,0.592872723937 l-0.534546896815,1.28957927227 -0.07779922802,1.49112164974 l0.975041463971,1.57730787992 0.694706663489,0.409274250269 l2.27821573615,-1.27114191651 0.511744022369,-2.02340438962 l-0.645571425557,-2.15589180589 m-3.19737881422,3.1807166338 l-4.10608738661,2.31194958091 -3.46455007792,2.9366672039 l-3.03967744112,3.75733226538 -1.79043367505,3.99922341108 l-0.790518149734,3.97791445255 2.60658085346,-1.01898193359 l2.99935549498,-2.99240708351 3.40930312872,-4.68056678772 l3.44097822905,-3.70183974504 2.44162768126,-3.28611701727 m0.411489829421,1.91660150886 l1.84682399035,0.449344031513 12.8084671497,4.14973914623 l4.32663440704,2.46569290757 0.503948554397,0.222826804966 l-0.517960339785,0.332731977105 -4.10019308329,-0.45365896076 l-12.3066496849,-3.6198541522 -3.995269835,-2.5011959672 m-2.38040015101,-0.713634490967 l-6.39481246471,-1.20190568268 1.22898198664,1.39755710959 l2.13942363858,3.43452572823 0.0801789574325,3.12658905983 l-1.05275578797,2.10606172681 -1.74469903111,0.906858816743 l-1.74922093749,0.112785231322 -0.946908146143,-0.912893936038 l-0.677447766066,-1.6596570611 0.0346370250918,-2.22150072455 l1.23413868248,-1.80293485522 1.89240440726,-1.12038962543 l0.838008001447,-0.155087942258 0.570714659989,0.386298969388 l0.157545227557,1.74634873867 m6.99025154114,1.50932684541 l0.622828826308,-0.219019223005 1.30990058184,0.141782322899 l3.40056627989,-1.10278166831 1.5479759872,0.511704944074 l1.72971099615,0.520125962794 2.91829377413,1.28959223628 l1.09697803855,0.808072686195 1.0671634227,1.65805339813 l0.596964545548,0.668926388025 0.903822183609,1.81588158011 l0.604861117899,1.49439424276 -0.248325262219,0.796475037932 l-2.36167162657,1.26977264881 -3.2311040163,0.219825487584 l-2.34913796186,-0.697072148323 -2.18167260289,-1.46797090769 l-5.3330218792,-2.75603473186 -2.80993402004,-1.37991204858 l-1.07182398438,-0.6665930897 m-13.2739591599,-5.79403281212 l-0.832211896777,0.272458903491 -2.03740596771,0.862899646163 l-1.83126524091,2.18621239066 -0.588353723288,1.77985399961 l0.848285108805,3.91239970922 0.697924345732,0.790644288063 l2.59797692299,0.926109403372 2.19141170382,5.30601766968e-06 l2.24113538861,-1.11355908215 1.54657945037,-1.84410989285 l0.666412934661,-1.94037273526 -0.355584695935,-2.94784337282 l-1.2184882164,-1.79495602846 -1.6066108644,-1.30648255348 l-1.98789790273,-0.417296774685 -1.73963114619,0.28050031513 m2.51493126154,-3.53776961565 l-0.228758603334,-0.433014854789 0.790075361729,-4.94720071554 l1.81706145406,-3.18240940571 0.528733693063,0.221042130142 l0.25421269238,9.02039110661 0.627553984523,0.162672344595 m-7.15202629566,0.110221505165 l-0.189311783761,-1.30402743816 -0.785529389977,-6.3025277853 l1.72531574965,5.47398686409 0.812522321939,2.99330711365 m-2.92164802551,4.39412027597 l-1.45528048277,0.675338059664 m1.90568909049,-1.50733992457 l-0.139321275055,0.147891780362 m3.79955977201,-0.121332919225 l0.000385784733226,-0.000459590592072 m-2.44619876146,-1.21444620192 l-0.00024020413548,-3.63248432222e-05 m2.05483525991,0.683956369758 l0.000303767137666,6.85407167111e-05 m-0.445163138211,1.08247049153 l0.000397541371058,-0.000210036923818 m-0.2495710738,0.245646163821 l0.228120312095,-0.227993186563 m0.575860030949,0.232133306563 l-0.0911623239517,-0.200837757438 m-0.0579049019143,0.935945436358 l0.000255845006905,-2.07140578823e-05 m-1.27820044756,1.95988640189 l0.000314880635415,0.000395816496166 m1.14817522466,-0.839094817638 l0.000354630901711,-0.00044796441216 m-0.860746651888,-1.67397677898 l-0.55685158819,-0.367733761668 m1.61282196641,-0.488260164857 l0.000168842088897,-0.000236674586631 m-0.752730071545,-0.367429368198 l0.000213047333091,6.62449838273e-05 m0.0257542403415,-0.281174704432 l-0.000156756777869,-0.000105482240542 m-2.27018624544,1.67276203632 l-0.000501901013195,-0.000173951502802 m0.72787001729,-0.238590668887 l-0.103455353528,0.588346458972 m1.43865346909,0.93023955822 l0.000711156681064,-0.000140772945088 m-1.47736549377,-1.09546750784 l2.28380680084,-1.43419519067 m-1.04511544108,1.39236196876 l1.71677902341,-1.38116285205 m-1.62808120251,2.12013930082 l2.07225859165,-0.5458021909 m-5.18315136433,0.735863447189 l-2.56875395775,-0.176781304181 -0.853888243437,-0.0770869618282 m2.82884329557,0.508030690253 l-1.60118937492,0.524496547878 m2.12973073125,-0.0889463163912 l-1.41821548343,0.770545527339 -1.20015278459,0.717776939273 m16.5137350559,4.77211624384 l0.735315531492,-0.54836358875 7.13463246822,-1.85248926282 l3.13239634037,-0.976408496499 3.92994910479,-1.20833583176 l4.40741151571,-1.16604164243 6.04891300201,-1.54123976827 l3.21011275053,-0.458152703941 2.21515163779,0.0799826346338 l0.36282248795,0.452381744981 -0.179131440818,1.38635113835 l-2.29293316603,1.91485881805 -3.84638041258,1.48852348328 l-7.72781670094,1.5577583015 -4.73764032125,0.980486422777 l-5.40564954281,0.533887520432 m77.4393593334,-15.5515830007 l-0.5147607252,-0.583212561905 -1.97663769126,-0.102700358257 l-1.88842967153,0.764677971601 -0.652645230293,0.592872723937 l-0.534546896815,1.28957927227 -0.07779922802,1.49112164974 l0.975041463971,1.57730787992 0.694706663489,0.409274250269 l2.27821573615,-1.27114191651 0.511744022369,-2.02340438962 l-0.645571425557,-2.15589180589 m-3.19737881422,3.1807166338 l-4.10608738661,2.31194958091 -3.46455007792,2.9366672039 l-3.03967744112,3.75733226538 -1.79043367505,3.99922341108 l-0.790518149734,3.97791445255 2.60658085346,-1.01898193359 l2.99935549498,-2.99240708351 3.40930312872,-4.68056678772 l3.44097822905,-3.70183974504 2.44162768126,-3.28611701727 m0.411489829421,1.91660150886 l1.84682399035,0.449344031513 12.8084671497,4.14973914623 l4.32663440704,2.46569290757 0.503948554397,0.222826804966 l-0.517960339785,0.332731977105 -4.10019308329,-0.45365896076 l-12.3066496849,-3.6198541522 -3.995269835,-2.5011959672 m-2.38040015101,-0.713634490967 l-6.39481246471,-1.20190568268 -0.403088852763,0.801783576608 l-3.43302309513,4.34957742691 -1.36035591364,1.38039261103 l-1.90905973315,0.825242623687 -0.56572496891,-0.255723949522 l-0.0988136604428,-0.950262099504 m23.5352039337,-5.84493517876 l-0.510453060269,1.02209359407 -2.68874168396,2.88711994886 l-2.70829468966,2.36109524965 -2.86943405867,1.45982712507 l-0.486382208765,0.389835089445 m10.993411541,-7.13908314705 l1.04982033372,-0.491381883621 2.91719198227,-0.0467852968723 l2.56039202213,1.01687408984 1.7568513751,0.889315903187 l3.34417760372,2.15462565422 2.43225187063,1.04699142277 l2.66788691282,1.31940454245 1.41401410103,0.59420697391 l1.89456939697,0.784445330501 0.740249305964,-0.370675846934 l0.779928267002,-1.24263443053 0.027227262035,-1.3288629055 m-36.293592453,-15.5388486385 l3.29872637987,-0.215037688613 1.60679221153,-0.850926488638 l1.97417795658,-2.02140435576 1.45319372416,-1.94678276777 l1.24441511929,-1.95087701082 0.0758689735085,4.48055297136 l-0.956916064024,4.47737783194 -0.560067072511,1.89984917641 m-9.68327760696,-5.35051107407 l-0.429888814688,-0.570475459099 -2.50192463398,-3.26859652996 l-2.46653363109,-1.34297907352 0.651400610805,5.08781611919 l0.559576787055,3.40069115162 0.629977062345,0.783111304045 m5.18179535866,0.759144946933 l-0.00031079765904,-0.000308601775032 m2.51043438911,-1.14083237946 l-0.000266022052529,-0.000139726453199 m0.123859839514,1.35553434491 l0.000301239233522,-0.000316302575811 m-2.5318801403,3.12680989504 l0.930307134986,0.789484381676 1.59322336316,5.85916768614e-05 l2.1014842391,-0.825491026044 -0.0749058043584,-0.401023477316 m-1.66037276387,-1.71371892095 l0.251138303429,-0.117460414767 0.180790685117,-0.705776661634 l-0.426349192858,0.513176769018 m-2.49391496181,1.70970261097 l0.71575678885,0.841591730714 1.77955463529,0.643272399902 m90.6142139223,-5.39904476552 l-0.5147607252,-0.583212561905 -1.97663769126,-0.102700358257 l-1.88842967153,0.764677971601 -0.652645230293,0.592872723937 l-0.534546896815,1.28957927227 -0.07779922802,1.49112164974 l0.975041463971,1.57730787992 0.694706663489,0.409274250269 l2.27821573615,-1.27114191651 0.511744022369,-2.02340438962 l-0.645571425557,-2.15589180589 m-3.19737881422,3.1807166338 l-4.10608738661,2.31194958091 -3.46455007792,2.9366672039 l-3.03967744112,3.75733226538 -1.79043367505,3.99922341108 l-0.790518149734,3.97791445255 2.60658085346,-1.01898193359 l2.99935549498,-2.99240708351 3.40930312872,-4.68056678772 l3.44097822905,-3.70183974504 2.44162768126,-3.28611701727 m0.411489829421,1.91660150886 l1.84682399035,0.449344031513 12.8084671497,4.14973914623 l4.32663440704,2.46569290757 0.503948554397,0.222826804966 l-0.517960339785,0.332731977105 -4.10019308329,-0.45365896076 l-12.3066496849,-3.6198541522 -3.995269835,-2.5011959672 m-2.38040015101,-0.713634490967 l-6.39481246471,-1.20190568268 0.00404897989938,3.77664536238 l-0.550353601575,2.81883746386 -0.267079789191,1.56443968415 l0.415890812874,1.71796873212 1.08894020319,2.03671500087 l1.20798259974,0.670842081308 3.86484950781,-0.703991651535 l1.41580998898,-1.74146860838 0.933237597346,-2.30132117867 l0.285893343389,-2.04958170652 -1.47443428636,-5.39994359016 l-0.0354402093217,-1.43169015646 m4.45206135511,3.63751858473 l-0.0216960068792,3.88476699591 0.591189861298,7.14925467968 l0.616096705198,0.928378552198 2.06352651119,0.330348908901 l1.4872059226,-1.44783094525 0.620249509811,-2.31611296535 l-0.0947227235883,-4.07163262367 -1.66127517819,-4.76712226868 l-1.77352175117,-1.45383492112 m1.93542584777,1.12752221525 l-0.0191338220611,2.91741669178 0.114301638678,4.15025800467 l0.412317924201,1.21516264975 1.12815909088,1.33569896221 l1.41577750444,0.176816862077 0.855898037553,-1.59037187696 l0.226915180683,-2.69297778606 -0.274705607444,-3.47738653421 l-0.809903517365,-2.08309143782 -2.09066331387,-2.62520164251 l-1.06175132096,-0.567694790661 m-11.5663683414,-7.27464020252 l-0.775085017085,0.833816155791 -1.52652591467,2.77513533831 l-0.0376201421022,1.55655264854 1.08788333833,2.31215402484 l0.961917564273,0.850178822875 1.98353856802,0.25366993621 l1.08228623867,-1.17365047336 0.522281676531,-2.04239904881 l-0.0820740964264,-2.72041589022 -0.408024378121,-0.802893936634 l-0.85225738585,-0.538485608995 m-2.77888387442,1.41468912363 l-0.565030351281,0.219242833555 0.11637987569,0.505540594459 l0.551966242492,-0.00050139031373 -0.143878972158,-0.68716339767 m3.75883638859,-0.0890006218106 l-0.548580773175,0.604752041399 0.50776809454,-0.676984414458 l-0.382383018732,-0.49273647368 -0.141777927056,0.60184173286 l-0.0608176132664,-0.425901599228 m-3.34275573492,-0.123811513186 l-0.444695688784,-1.69868037105 -0.0773265957832,-1.91909432411 l0.27206512168,-1.40414506197 2.1386025846,2.80881255865 l1.25933095813,0.889536291361 m2.30480745435,-0.149767249823 l2.04407095909,-3.36220324039 1.34302124381,-1.20500847697 l0.346766039729,0.640507787466 -0.365195795894,5.07158875465 m-10.2369391918,12.1993017197 l-2.35710218549,0.482610985637 -1.84567645192,1.02235227823 m5.88543117046,-1.48838832974 l-0.795125961304,1.41072556376 -1.09280474484,3.33551704884 m3.81049692631,-2.68576085567 l-2.51701712608,3.53554666042 m4.06688272953,-4.24242049456 l0.744408071041,2.96342879534 m0.422871299088,-2.71305918694 l0.445366688073,0.886578857899 m-0.585118308663,-2.29137912393 l2.12743550539,0.205110181123 2.01572269201,1.22831352055 m-4.34377908707,3.7000849843 l-0.251991059631,0.693426132202 m87.2132514612,-19.4004457843 l-0.5147607252,-0.583212561905 -1.97663769126,-0.102700358257 l-1.88842967153,0.764677971601 -0.652645230293,0.592872723937 l-0.534546896815,1.28957927227 -0.07779922802,1.49112164974 l0.975041463971,1.57730787992 0.694706663489,0.409274250269 l2.27821573615,-1.27114191651 0.511744022369,-2.02340438962 l-0.645571425557,-2.15589180589 m-3.19737881422,3.1807166338 l-4.10608738661,2.31194958091 -3.46455007792,2.9366672039 l-3.03967744112,3.75733226538 -1.79043367505,3.99922341108 l-0.790518149734,3.97791445255 2.60658085346,-1.01898193359 l2.99935549498,-2.99240708351 3.40930312872,-4.68056678772 l3.44097822905,-3.70183974504 2.44162768126,-3.28611701727 m0.411489829421,1.91660150886 l1.84682399035,0.449344031513 12.8084671497,4.14973914623 l4.32663440704,2.46569290757 0.503948554397,0.222826804966 l-0.517960339785,0.332731977105 -4.10019308329,-0.45365896076 l-12.3066496849,-3.6198541522 -3.995269835,-2.5011959672 m-2.38040015101,-0.713634490967 l-6.39481246471,-1.20190568268 -0.920725986362,-0.0389632815495 l-1.51369869709,0.552714243531 -0.927916020155,0.36990698427 l-0.96624083817,0.695797801018 -1.80665209889,2.491402179 l-0.505180880427,2.06978559494 0.511159934103,1.99189990759 l1.87737166882,0.521416813135 2.7423325181,-0.00456783513073 l1.66712149978,-1.19756288826 2.03286141157,-2.7838408947 l0.0529331667349,-2.64679700136 -0.562847033143,-0.78659132123 l-1.9510152936,-0.865349173546 m2.31431335211,-2.27605476975 l0.83306312561,-1.0140607506 2.71755754948,-2.21355646849 l2.66064047813,-1.33911713958 4.06560629606,-0.973144471645 l2.00849160552,0.176735669374 0.130820367485,0.713929906487 l-0.971868038177,1.03634037077 -7.2749632597,3.4217068553 l-3.51314812899,2.82489895821 -1.19775347412,1.66411936283 m-2.28177547455,-1.55026063323 l-0.938183814287,-0.000976832088782 -1.14809930325,0.585445389152 l-1.73218593001,1.88688710332 -0.429331585765,1.1355330795 l0.633687973022,1.05091407895 1.84857457876,0.654312446713 l1.33347660303,-0.0908387918025 1.06914006174,-1.62356689572 l0.226367712021,-2.52243280411 -0.457415468991,-0.889745801687 l-1.64213582873,-0.805109515786 m0.75196005404,2.39286273718 l-0.531376563013,1.0621509701 0.096623301506,0.858133584261 l2.08110764623,0.865044593811 1.17857128382,-0.687205791473 l0.461939945817,-1.42903923988 -0.461993589997,-0.395573377609 l-1.56067073345,-0.23506835103 -1.76334485412,-5.07678748818e-06 l-1.06057666242,0.492387488484 m3.50984215736,1.62216827273 l-0.715612545609,1.13186694682 0.165026951581,0.821101665497 l1.2770742178,0.484311021864 0.78060477972,-0.522751174867 l0.163316000253,-0.966458842158 -0.351568832994,-0.540372766554 m-2.28459268808,-2.15926721692 l-2.25169539452,-0.489695556462 -2.04483121634,0.555156208575 l-0.799372568727,0.667988955975 -1.09621472657,2.64074712992 l-0.00884939800017,1.20583325624 1.01225160062,0.634787604213 l2.06141725183,-0.115426760167 0.838063806295,-0.598647147417 l1.27554222941,-1.74826040864 0.345049761236,-1.86275392771 l-0.728564634919,-0.769366696477 -0.881135463715,-0.128781395033 l-0.746020451188,0.483561716974 -0.1679610461,1.34338095784 m2.04752385616,-0.469689890742 l1.15749843419,-0.109853213653 -1.02173544466,0.4010213539 l-0.830981880426,0.839800462127 0.790455937386,-0.470514185727 l0.390031524003,-0.779896602035 -0.781270563602,0.452258102596 l-0.549387298524,0.698460489511 0.135347405449,0.230264253914 l0.494965277612,-0.759720504284 \" fill=\"none\" stroke=\"black\" stroke-width=\"1\"/></svg>"
      ],
      "text/plain": [
       "<IPython.core.display.SVG object>"
      ]
     },
     "metadata": {},
     "output_type": "display_data"
    }
   ],
   "source": [
    "# encode incomplete strokes in a hidden state\n",
    "_, hidden_states = get_hidden_states(sess=sess, model=sample_model, input_strokes = strokes_0)\n",
    "print(len(hidden_states))\n",
    "\n",
    "input_state = hidden_states[-1]\n",
    "\n",
    "reconstructions = []\n",
    "for i in range(N):\n",
    "    sample_strokes_3, _, _, _ = sample(sess=sess, model=sample_model, temperature=0.5, prev_state = input_state)\n",
    "    strokes_3 = to_normal_strokes(sample_strokes_3)\n",
    "    all_strokes_big = np.concatenate((sample_strokes_part,sample_strokes_3),axis=0)\n",
    "    all_strokes = to_normal_strokes(all_strokes_big)\n",
    "    \n",
    "    reconstructions.append([all_strokes, [0, i]])\n",
    "    \n",
    "stroke_grid = make_grid_svg(reconstructions)\n",
    "draw_strokes(stroke_grid, svg_filename = 'svg/mosquitocat_2.svg')"
   ]
  },
  {
   "cell_type": "code",
   "execution_count": null,
   "metadata": {
    "collapsed": true
   },
   "outputs": [],
   "source": []
  },
  {
   "cell_type": "code",
   "execution_count": null,
   "metadata": {
    "collapsed": true
   },
   "outputs": [],
   "source": []
  }
 ],
 "metadata": {
  "kernelspec": {
   "display_name": "Python 2",
   "language": "python",
   "name": "python2"
  },
  "language_info": {
   "codemirror_mode": {
    "name": "ipython",
    "version": 2
   },
   "file_extension": ".py",
   "mimetype": "text/x-python",
   "name": "python",
   "nbconvert_exporter": "python",
   "pygments_lexer": "ipython2",
   "version": "2.7.14"
  }
 },
 "nbformat": 4,
 "nbformat_minor": 0
}
