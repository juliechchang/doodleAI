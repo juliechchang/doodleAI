{
 "cells": [
  {
   "cell_type": "code",
   "execution_count": 2,
   "metadata": {},
   "outputs": [
    {
     "name": "stdout",
     "output_type": "stream",
     "text": [
      "The autoreload extension is already loaded. To reload it, use:\n",
      "  %reload_ext autoreload\n"
     ]
    }
   ],
   "source": [
    "# import the required libraries\n",
    "import numpy as np\n",
    "import time\n",
    "import random\n",
    "import cPickle\n",
    "import codecs\n",
    "import collections\n",
    "import os\n",
    "import math\n",
    "import json\n",
    "import tensorflow as tf\n",
    "from six.moves import xrange\n",
    "%load_ext autoreload\n",
    "%autoreload 2\n",
    "\n",
    "#os.environ[\"CUDA_VISIBLE_DEVICES\"]=\"1\"\n",
    "\n",
    "# libraries required for visualisation:\n",
    "from IPython.display import SVG, display\n",
    "import svgwrite # conda install -c omnia svgwrite=1.1.6\n",
    "import PIL\n",
    "from PIL import Image\n",
    "import matplotlib.pyplot as plt\n",
    "% matplotlib inline\n",
    "\n",
    "# set numpy output to something sensible\n",
    "np.set_printoptions(precision=8, edgeitems=6, linewidth=200, suppress=True)\n",
    "\n"
   ]
  },
  {
   "cell_type": "code",
   "execution_count": 3,
   "metadata": {},
   "outputs": [],
   "source": [
    "# import our command line tools\n",
    "from sketch_rnn_train_cnn_tf import *\n",
    "from model_cnn_tf import *\n",
    "from utils import *\n",
    "from rnn import *\n",
    "from cnn_tf import *"
   ]
  },
  {
   "cell_type": "code",
   "execution_count": 4,
   "metadata": {},
   "outputs": [],
   "source": [
    "# little function that displays vector images and saves them to .svg\n",
    "def draw_strokes(data, color=\"black\", doGradient=False, endColor=\"black\", factor=0.2, svg_filename = 'svg/sample.svg'):\n",
    "    tf.gfile.MakeDirs(os.path.dirname(svg_filename))\n",
    "    min_x, max_x, min_y, max_y = get_bounds(data, factor)\n",
    "    dims = (50 + max_x - min_x, 50 + max_y - min_y)\n",
    "    dwg = svgwrite.Drawing(svg_filename, size=dims)\n",
    "    dwg.add(dwg.rect(insert=(0, 0), size=dims,fill='white'))\n",
    "    lift_pen = 1\n",
    "    abs_x = 25 - min_x \n",
    "    abs_y = 25 - min_y\n",
    "    p = \"M%s,%s \" % (abs_x, abs_y)\n",
    "    command = \"m\"\n",
    "    for i in xrange(len(data)):\n",
    "        if (lift_pen == 1):\n",
    "            command = \"m\"\n",
    "        elif (command != \"l\"):\n",
    "            command = \"l\"\n",
    "        else:\n",
    "            command = \"\"\n",
    "        x = float(data[i,0])/factor\n",
    "        y = float(data[i,1])/factor\n",
    "        lift_pen = data[i, 2]\n",
    "        p += command+str(x)+\",\"+str(y)+\" \"\n",
    "    \n",
    "    the_color = color\n",
    "    stroke_width = 1\n",
    "    dwg.add(dwg.path(p).stroke(the_color,stroke_width).fill(\"none\"))\n",
    "    dwg.save()\n",
    "    display(SVG(dwg.tostring()))\n",
    "    \n",
    "\n",
    "# generate a 2D grid of many vector drawings\n",
    "def make_grid_svg(s_list, grid_space=10.0, grid_space_x=16.0):\n",
    "  def get_start_and_end(x):\n",
    "    x = np.array(x)\n",
    "    x = x[:, 0:2]\n",
    "    x_start = x[0]\n",
    "    x_end = x.sum(axis=0)\n",
    "    x = x.cumsum(axis=0)\n",
    "    x_max = x.max(axis=0)\n",
    "    x_min = x.min(axis=0)\n",
    "    center_loc = (x_max+x_min)*0.5\n",
    "    return x_start-center_loc, x_end\n",
    "  x_pos = 0.0\n",
    "  y_pos = 0.0\n",
    "  result = [[x_pos, y_pos, 1]]\n",
    "\n",
    "  #for each reconstruction\n",
    "  for sample in s_list:\n",
    "    s = sample[0]\n",
    "    grid_loc = sample[1]\n",
    "    grid_y = grid_loc[0]*grid_space+grid_space*0.5\n",
    "    grid_x = grid_loc[1]*grid_space_x+grid_space_x*0.5\n",
    "    start_loc, delta_pos = get_start_and_end(s)\n",
    "\n",
    "    loc_x = start_loc[0]\n",
    "    loc_y = start_loc[1]\n",
    "    new_x_pos = grid_x+loc_x\n",
    "    new_y_pos = grid_y+loc_y\n",
    "    result.append([new_x_pos-x_pos, new_y_pos-y_pos, 0])\n",
    "\n",
    "    result += s.tolist()\n",
    "    result[-1][2] = 1\n",
    "    x_pos = new_x_pos+delta_pos[0]\n",
    "    y_pos = new_y_pos+delta_pos[1]\n",
    "  return np.array(result)"
   ]
  },
  {
   "cell_type": "code",
   "execution_count": 5,
   "metadata": {},
   "outputs": [],
   "source": [
    "def draw_strokes_gradient(data, n, n_examples, factor = .2):\n",
    "    \n",
    "    x = 0\n",
    "    y = 0\n",
    "    s = 0\n",
    "    imagex = [[x]]\n",
    "    imagey = [[y]]\n",
    "    for i in range(len(data)):\n",
    "        x += data[i][0]*factor\n",
    "        y += data[i][1]*factor\n",
    "        imagex[s].append(x)\n",
    "        imagey[s].append(y)\n",
    "        if data[i][2] == 1:\n",
    "            s += 1\n",
    "            imagex.append([])\n",
    "            imagey.append([])\n",
    "    \n",
    "    n_strokes = len(imagex)\n",
    "    plt.subplot(1,n_examples,n+1)\n",
    "    plt.gca().invert_yaxis()\n",
    "    plt.axis(\"off\")\n",
    "    plt.axis(\"equal\")\n",
    "    colors = [(.1 + j*.9/n_strokes, .15, 1 - j*.9/n_strokes) for j in range(n_strokes)]\n",
    "    for j in range(n_strokes):\n",
    "        plt.plot(imagex[j], imagey[j], color = colors[j], linewidth = 1)"
   ]
  },
  {
   "cell_type": "code",
   "execution_count": 6,
   "metadata": {},
   "outputs": [
    {
     "name": "stdout",
     "output_type": "stream",
     "text": [
      "(30000, 48, 48)\n"
     ]
    },
    {
     "data": {
      "image/png": "[encoded data removed]",
      "text/plain": [
       "<matplotlib.figure.Figure at 0x7f42180d39d0>"
      ]
     },
     "metadata": {},
     "output_type": "display_data"
    }
   ],
   "source": [
    "#LOAD DATA FOR CNN\n",
    "cat = np.load('datasets/cnn/cat_half.npy')\n",
    "train_cat = cat[0]/255.\n",
    "# mosquito = np.load('cnn/mosquito.npy')\n",
    "print(np.shape(train_cat))\n",
    "# reshape data\n",
    "train_cat = np.reshape(train_cat, (train_cat.shape[0], 48, 48, 1)).astype('float32')\n",
    "# mosquito = np.reshape(mosquito, (mosquito.shape[0], 28, 28, 1)).astype('float32')/255.\n",
    "\n",
    "i = np.random.randint(0, train_cat.shape[0])\n",
    "plt.imshow(np.squeeze(train_cat[i,:,:,:]),cmap='gray')\n",
    "plt.show()\n"
   ]
  },
  {
   "cell_type": "code",
   "execution_count": 7,
   "metadata": {},
   "outputs": [],
   "source": [
    "def encode(input_strokes):\n",
    "  strokes = to_big_strokes(input_strokes).tolist()\n",
    "  strokes.insert(0, [0, 0, 1, 0, 0])\n",
    "  seq_len = [len(input_strokes)]\n",
    "  print(seq_len)\n",
    "  draw_strokes(to_normal_strokes(np.array(strokes)))\n",
    "  return sess.run(eval_model.batch_z, feed_dict={eval_model.input_data: [strokes], eval_model.sequence_lengths: seq_len})[0]\n",
    "    \n",
    "\n",
    "def encode_cnn(input_ims):\n",
    "  return sess.run(eval_model.batch_z, feed_dict={eval_model.input_ims: [input_ims]})[0]\n",
    "\n",
    "#latent vector to stroke\n",
    "def decode(z_input=None, draw_mode=True, temperature=0.1, factor=0.2):\n",
    "  z = None\n",
    "  if z_input is not None:\n",
    "    z = [z_input]\n",
    "  sample_strokes, m, _, _ = sample(sess, sample_model, seq_len=eval_model.hps.max_seq_len, temperature=temperature, z=z)\n",
    "  strokes = to_normal_strokes(sample_strokes)\n",
    "  if draw_mode:\n",
    "    draw_strokes(strokes, factor=factor)\n",
    "  return strokes"
   ]
  },
  {
   "cell_type": "code",
   "execution_count": 8,
   "metadata": {},
   "outputs": [
    {
     "name": "stdout",
     "output_type": "stream",
     "text": [
      "INFO:tensorflow:Model using gpu.\n",
      "INFO:tensorflow:Input dropout mode = False.\n",
      "INFO:tensorflow:Output dropout mode = False.\n",
      "INFO:tensorflow:Recurrent dropout mode = True.\n",
      "INFO:tensorflow:Model using gpu.\n",
      "INFO:tensorflow:Input dropout mode = 0.\n",
      "INFO:tensorflow:Output dropout mode = 0.\n",
      "INFO:tensorflow:Recurrent dropout mode = 0.\n",
      "INFO:tensorflow:Model using gpu.\n",
      "INFO:tensorflow:Input dropout mode = 0.\n",
      "INFO:tensorflow:Output dropout mode = 0.\n",
      "INFO:tensorflow:Recurrent dropout mode = 0.\n",
      "INFO:tensorflow:Loading model checkpoint_path/four_class_cnn/vector-70000.\n",
      "INFO:tensorflow:Restoring parameters from checkpoint_path/four_class_cnn/vector-70000\n"
     ]
    }
   ],
   "source": [
    "model_dir = 'checkpoint_path/four_class_cnn'\n",
    "[hps_model, eval_hps_model, sample_hps_model] = load_model(model_dir)\n",
    "# construct the sketch-rnn model here:\n",
    "reset_graph()\n",
    "model = Model(hps_model)\n",
    "eval_model = Model(eval_hps_model, reuse=True)\n",
    "sample_model = Model(sample_hps_model, reuse=True)\n",
    "\n",
    "sess = tf.InteractiveSession()\n",
    "sess.run(tf.global_variables_initializer())\n",
    "# loads the weights from checkpoint into our model\n",
    "load_checkpoint(sess, model_dir)"
   ]
  },
  {
   "cell_type": "code",
   "execution_count": 8,
   "metadata": {},
   "outputs": [
    {
     "name": "stdout",
     "output_type": "stream",
     "text": [
      "INFO:tensorflow:Loading model checkpoint_path/cat_cnn/vector-143000.\n",
      "INFO:tensorflow:Restoring parameters from checkpoint_path/cat_cnn/vector-143000\n"
     ]
    },
    {
     "data": {
      "image/png": "[encoded data removed]",
      "text/plain": [
       "<matplotlib.figure.Figure at 0x7f1e3d170b90>"
      ]
     },
     "metadata": {},
     "output_type": "display_data"
    }
   ],
   "source": [
    "# randomly unconditionally generate N examples\n",
    "# loads the weights from checkpoint into our model\n",
    "load_checkpoint(sess, model_dir)\n",
    "N = 8\n",
    "fig = plt.subplots(nrows=1, ncols=N, figsize=(6,1))\n",
    "reconstructions = []\n",
    "\n",
    "for i in range(N):\n",
    "    sample_strokes, m, hidden_states, final_x = sample(sess, sample_model, temperature=.7)\n",
    "    strokes = to_normal_strokes(sample_strokes)\n",
    "    draw_strokes_gradient(strokes, i, N)\n",
    "#plt.savefig('results/progress/mosquito_recon_5000.pdf', bbox_inches='tight')\n"
   ]
  },
  {
   "cell_type": "code",
   "execution_count": 9,
   "metadata": {},
   "outputs": [
    {
     "name": "stdout",
     "output_type": "stream",
     "text": [
      "INFO:tensorflow:Loaded 30000/2500/2500 from cat_half.npz\n",
      "INFO:tensorflow:Dataset combined: 35000 (30000/2500/2500), avg len 69\n",
      "INFO:tensorflow:model_params.max_seq_len 129.\n",
      "total images <= max_seq_len is 30000\n",
      "total images <= max_seq_len is 2500\n",
      "total images <= max_seq_len is 2500\n",
      "INFO:tensorflow:normalizing_scale_factor 43.2462.\n",
      "INFO:tensorflow:Loaded 30000/2500/2500 from cat_half.npy\n"
     ]
    }
   ],
   "source": [
    "# load datasets\n",
    "data_dir = 'datasets/cnn/'\n",
    "[train_set, valid_set, test_set, hps_model, eval_hps_model, sample_hps_model] = load_env(data_dir, model_dir)\n",
    "[train_ims, valid_ims, test_ims] = load_env_ims(data_dir, model_dir)"
   ]
  },
  {
   "cell_type": "code",
   "execution_count": 10,
   "metadata": {},
   "outputs": [
    {
     "data": {
      "image/svg+xml": [
       "<svg baseProfile=\"full\" height=\"102.83695519\" version=\"1.1\" width=\"118.676482551\" xmlns=\"http://www.w3.org/2000/svg\" xmlns:ev=\"http://www.w3.org/2001/xml-events\" xmlns:xlink=\"http://www.w3.org/1999/xlink\"><defs/><rect fill=\"white\" height=\"102.83695519\" width=\"118.676482551\" x=\"0\" y=\"0\"/><path d=\"M52.2856041789,38.874036707 m-8.55565607548,-8.90250682831 l-4.0465939045,7.74633705616 -7.97757089138,10.0586760044 m20.3485870361,-9.48059141636 l22.0828413963,-0.346850901842 0.346850901842,-0.578084848821 l-0.346850901842,-2.77480721474 0.11561697349,-3.00604134798 l1.04055270553,-3.46850901842 1.27178668976,-2.65919029713 l0.578084848821,-0.462467893958 2.77480721474,2.42795631289 l5.08714675903,5.78084826469 2.54357337952,7.28386938572 m-56.7679309845,6.4745503664 l-0.8093187958,6.93701803684 0.0,4.39344495535 l0.8093187958,4.50906187296 1.84987157583,3.46850901842 l2.89042413235,2.89042413235 1.96548849344,1.27178668976 l5.66523134708,2.08110541105 14.3365049362,3.81536006927 l10.8679950237,1.50302067399 7.28386938572,-0.11561697349 l3.46850901842,-2.31233939528 3.93097698689,-5.43399751186 l2.19672247767,-3.93097698689 0.693701803684,-2.31233939528 l2.54357337952,-15.9551417828 -0.11561697349,-10.9836125374 m-42.547044754,12.9491007328 l3.35289210081,-0.578084848821 9.59620833397,-0.11561697349 m18.4987151623,1.15616969764 l4.39344495535,0.11561697349 0.11561697349,0.462467893958 m-33.7601566315,2.08110541105 l0.231233946979,4.97152984142 m26.2450528145,-4.39344495535 l0.11561697349,3.12165826559 -0.462467893958,1.73425450921 m-16.9956946373,1.50302067399 l6.82140111923,0.0 m-7.97757089138,0.0 l0.346850901842,1.15616969764 2.19672247767,2.54357337952 l3.46850901842,-1.73425450921 2.19672247767,-1.6186375916 l1.04055270553,-1.50302067399 m-6.93701803684,4.85591262579 l-0.346850901842,2.31233939528 -1.04055270553,2.77480721474 m0.11561697349,0.924935787916 l-0.11561697349,0.578084848821 -4.74029570818,2.54357337952 m6.01208269596,-2.19672247767 l0.346850901842,2.65919029713 m-2.77480721474,-6.82140111923 l-3.69974315166,-0.693701803684 -8.67127299309,-0.231233946979 m9.36497449875,3.69974315166 l-3.93097698689,0.0 m16.0707592964,-3.35289210081 l2.31233939528,-0.578084848821 9.24935758114,-0.462467893958 m-8.67127299309,3.81536006927 l0.11561697349,0.578084848821 2.08110541105,2.19672247767 m-3.69974315166,-0.578084848821 l0.346850901842,4.16221082211 m-23.2390117645,-14.7989726067 l-1.50302067399,-0.346850901842 -4.74029570818,-0.11561697349 l-8.09318780899,1.84987157583 0.578084848821,0.462467893958 l0.693701803684,0.0 -0.346850901842,0.8093187958 l-1.6186375916,0.8093187958 -2.77480721474,2.19672247767 l-0.462467893958,0.693701803684 -0.11561697349,1.27178668976 l2.19672247767,0.8093187958 6.12769961357,0.11561697349 l0.11561697349,1.96548849344 0.462467893958,0.8093187958 l0.8093187958,0.346850901842 3.12165826559,0.0 l1.96548849344,0.346850901842 2.19672247767,1.04055270553 l3.58412623405,0.231233946979 m27.4012231827,-12.2553992271 l20.3485870361,0.231233946979 0.11561697349,0.578084848821 l-2.89042413235,2.54357337952 0.924935787916,0.924935787916 l2.19672247767,0.693701803684 -2.89042413235,0.8093187958 l-0.231233946979,0.924935787916 2.54357337952,1.84987157583 l0.11561697349,0.693701803684 -3.46850901842,2.31233939528 l-4.0465939045,1.15616969764 -10.0586760044,0.0 l-5.66523134708,0.462467893958 \" fill=\"none\" stroke=\"black\" stroke-width=\"1\"/></svg>"
      ],
      "text/plain": [
       "<IPython.core.display.SVG object>"
      ]
     },
     "metadata": {},
     "output_type": "display_data"
    },
    {
     "name": "stdout",
     "output_type": "stream",
     "text": [
      "(105, 3)\n"
     ]
    },
    {
     "data": {
      "image/png": "[encoded data removed]",
      "text/plain": [
       "<matplotlib.figure.Figure at 0x7f1ebc13d650>"
      ]
     },
     "metadata": {},
     "output_type": "display_data"
    },
    {
     "name": "stdout",
     "output_type": "stream",
     "text": [
      "(128,)\n"
     ]
    }
   ],
   "source": [
    "# get a sample drawing from the test set, and render it to .svg\n",
    "i = np.random.randint(0,5000)\n",
    "stroke = np.copy(train_set.strokes[i])\n",
    "draw_strokes(stroke)\n",
    "print(np.shape(stroke))\n",
    "\n",
    "im = np.copy(train_ims[i,:,:]).astype('float32')\n",
    "plt.imshow(np.squeeze(im),cmap='gray')\n",
    "plt.show()\n",
    "\n",
    "z = encode_cnn(im)\n",
    "print(np.shape(z))"
   ]
  },
  {
   "cell_type": "code",
   "execution_count": 11,
   "metadata": {},
   "outputs": [
    {
     "data": {
      "image/png": "[encoded data removed]",
      "text/plain": [
       "<matplotlib.figure.Figure at 0x7f1e165c7e10>"
      ]
     },
     "metadata": {},
     "output_type": "display_data"
    }
   ],
   "source": [
    "# decode \n",
    "N = 8\n",
    "fig = plt.subplots(nrows=1, ncols=N, figsize=(6,1))\n",
    "for i in range(N):\n",
    "    strokes = decode(z, draw_mode = False, temperature=0.2)\n",
    "    draw_strokes_gradient(strokes, i, N)\n",
    "    "
   ]
  },
  {
   "cell_type": "code",
   "execution_count": 65,
   "metadata": {},
   "outputs": [
    {
     "data": {
      "image/svg+xml": [
       "<svg baseProfile=\"full\" height=\"66.1816298418\" version=\"1.1\" width=\"65.6520591196\" xmlns=\"http://www.w3.org/2000/svg\" xmlns:ev=\"http://www.w3.org/2001/xml-events\" xmlns:xlink=\"http://www.w3.org/1999/xlink\"><defs/><rect fill=\"white\" height=\"66.1816298418\" width=\"65.6520591196\" x=\"0\" y=\"0\"/><path d=\"M25.3656183742,27.1200982248 m-0.164328571409,-0.44024348259 l-0.20128980279,-0.0579663878307 0.634667798877,-0.123115582392 l0.276658311486,0.173398051411 0.519666448236,0.233850218356 l0.109552154317,-0.0875901430845 0.0187637354247,0.32164786011 l0.211216639727,-0.293239764869 -0.0554814049974,0.249380562454 l0.258139036596,-0.0932215806097 -0.113320872188,0.588894933462 l0.0377269787714,0.148024652153 -0.135518154129,-1.50092333555 l-0.0922584813088,-0.624788962305 0.101069202647,-0.614205263555 l0.538179688156,1.79736211896 0.120501592755,0.96377171576 l-0.595875605941,-0.424323268235 -0.266199093312,0.137275122106 l-0.473067648709,0.066481102258 -0.391449294984,0.404002927244 l0.157849639654,0.07649844978 0.446451641619,-0.0616226904094 l0.0632274197415,0.113434121013 0.361955650151,0.278096627444 l0.551184304059,1.03267192841 -0.125583242625,0.616254806519 l0.0652045803145,-0.0569255184382 0.607428252697,-0.0370402098633 l0.763324573636,-0.264377500862 0.549011006951,0.150359151885 l0.584780573845,0.357717424631 0.253405086696,-0.0729866698384 l-0.375399515033,0.243137031794 -0.237004924566,1.39300137758 l-0.0911440886557,0.0156891520601 0.539320856333,-0.000490869460918 l0.058324127458,0.579476319253 0.275349803269,0.426013767719 l0.414678454399,-0.512484386563 0.136409150437,-0.311584826559 l0.549280457199,-0.396558456123 -0.222370401025,0.173436645418 l-0.31048130244,-0.0426196306944 -0.0801859144121,0.240226089954 l0.158304218203,0.0728167640045 -0.158734023571,0.292460490018 l0.463561490178,-0.388281084597 0.680032745004,0.33179461956 l0.0156842311844,0.538176298141 0.0982574466616,0.222302507609 l0.249881520867,0.421124026179 0.771774277091,-0.520046055317 l0.0234392844141,0.288859400898 -0.512887872756,0.0695907371119 l0.390647575259,0.363647267222 0.196049567312,0.422438159585 l0.0372884119861,0.951832979918 0.0461446680129,-0.237320885062 l0.424706377089,0.0756073370576 0.172513388097,0.168130826205 l0.369999594986,-0.357500985265 -0.404785014689,-0.419708564878 l-0.268419869244,-0.440796725452 -0.373512804508,-0.353906042874 l0.432809814811,0.408821031451 0.0472141802311,-0.0108922133222 l0.282334145159,0.319289676845 -0.1538320072,0.102387946099 l0.306441169232,1.08763419092 -0.050708791241,0.212424434721 l-0.786729827523,-0.171040277928 -0.202022287995,-0.507168322802 l0.350327603519,0.152975255623 -0.0135034893174,-0.130749493837 l0.0865378417075,0.133158443496 -0.059771835804,-0.0264830724336 l-0.27539273724,0.509345419705 -0.131358597428,0.479244031012 l0.195280555636,-0.16416054219 0.000643527309876,-0.0273421313614 l-0.663252323866,0.141956806183 0.619735717773,0.776519775391 l0.39858520031,-0.133225191385 -0.121445832774,0.392966642976 l-0.0600351486355,-0.237473193556 0.301295612007,-1.35276004672 l-0.0893160048872,-0.111311851069 -0.470024347305,-0.0181547249667 l-0.195038560778,-0.162133872509 -0.0643066130579,0.215968359262 l-0.0501899933442,-0.106574026868 0.342986248434,-0.399737805128 l0.469306185842,-0.464849621058 0.610787831247,0.570163838565 l-0.287624318153,0.356526039541 0.135315498337,0.00590469280723 l-0.235063266009,0.0612554000691 0.51405262202,0.309128090739 l-0.215348694474,0.279477778822 0.243833567947,-0.0745136523619 l0.162861421704,-0.355734713376 -0.0275887874886,0.485985912383 l0.398944094777,0.442541614175 0.352676920593,0.12281704694 l0.940306708217,0.442721061409 -0.412876233459,0.517737716436 l-0.0225039408542,0.259643979371 0.390573330224,0.307759791613 l0.400232151151,0.544223748147 0.613467879593,-0.125239882618 l0.142281008884,0.317908264697 0.773034244776,0.201903004199 l0.1077548787,0.299135502428 0.497598908842,-0.0577160948887 l0.191816035658,-0.534630678594 0.468751527369,1.23898588121 l-0.0974171422422,0.810151845217 0.124145150185,0.151018286124 l0.0472293188795,0.0410031992942 0.173234455287,-0.199543442577 l0.42234223336,-0.00387891952414 -0.633316338062,-0.194758065045 l0.108924256638,0.0792082212865 0.296799167991,0.407005511224 l-0.4816256091,-0.113080954179 0.560070164502,0.053361300379 l0.459973849356,0.241409968585 0.463914386928,-0.0436584744602 \" fill=\"none\" stroke=\"black\" stroke-width=\"1\"/></svg>"
      ],
      "text/plain": [
       "<IPython.core.display.SVG object>"
      ]
     },
     "metadata": {},
     "output_type": "display_data"
    },
    {
     "data": {
      "image/svg+xml": [
       "<svg baseProfile=\"full\" height=\"52.6895482186\" version=\"1.1\" width=\"51.0647777468\" xmlns=\"http://www.w3.org/2000/svg\" xmlns:ev=\"http://www.w3.org/2001/xml-events\" xmlns:xlink=\"http://www.w3.org/1999/xlink\"><defs/><rect fill=\"white\" height=\"52.6895482186\" width=\"51.0647777468\" x=\"0\" y=\"0\"/><path d=\"M25.0154790469,26.0122273676 m0.548722781241,-0.75544513762 l-0.12914640829,-0.25678222999 0.29185898602,0.398793146014 l0.337863340974,0.15462831594 -0.458726733923,0.208521038294 l-0.363142676651,0.605548024178 -0.242908336222,1.3220576942 \" fill=\"none\" stroke=\"black\" stroke-width=\"1\"/></svg>"
      ],
      "text/plain": [
       "<IPython.core.display.SVG object>"
      ]
     },
     "metadata": {},
     "output_type": "display_data"
    },
    {
     "data": {
      "image/svg+xml": [
       "<svg baseProfile=\"full\" height=\"89.526236885\" version=\"1.1\" width=\"811.089261258\" xmlns=\"http://www.w3.org/2000/svg\" xmlns:ev=\"http://www.w3.org/2001/xml-events\" xmlns:xlink=\"http://www.w3.org/1999/xlink\"><defs/><rect fill=\"white\" height=\"89.526236885\" width=\"811.089261258\" x=\"0\" y=\"0\"/><path d=\"M25,25 m0.0,0.0 m27.6050815365,10.80325483 l-0.00464579265099,-0.435111969709 0.0737563427538,-0.134125640616 l0.337645970285,-0.140533549711 -0.0596684403718,-0.0683048041537 l0.434465743601,-0.0304136238992 0.136434892192,0.117099257186 l-0.363374575973,-0.508325323462 0.74370905757,0.734213516116 l-0.0640768371522,0.146883605048 -0.166729837656,0.0881918985397 l-0.0759677076712,0.418141260743 0.607629567385,1.20187401772 l-0.0175203115214,0.466363057494 0.0864962954074,-0.257005561143 l0.150012988597,0.789632275701 0.592758841813,1.79343059659 l0.663809031248,0.014918432571 0.318257696927,0.755379423499 l0.147976791486,0.0407789787278 0.144305434078,0.221119616181 l-0.193678513169,-0.120189134032 0.0791118294001,0.359722524881 l-0.0491837365553,-0.0828049425036 0.704136639833,-0.189721155912 l-0.190902817994,0.930634438992 0.321801006794,0.942620187998 l0.306051075459,0.0193256314378 0.605780929327,0.295789744705 l0.297791697085,0.661776438355 -0.238100085407,0.143900774419 l0.545381084085,-0.44923864305 -0.330093167722,-0.0138807005715 l-0.070899114944,-0.032639359124 0.361601300538,0.117348153144 l0.654679685831,0.508966706693 0.0689989002421,0.244161225855 l0.194891802967,-0.191513188183 0.854725688696,0.142498528585 l-0.00724207609892,0.304279066622 0.699983388186,-0.180692672729 l0.800601691008,0.850155875087 0.996170416474,0.276543591172 l0.338872037828,-0.181519668549 0.326679833233,-0.338442958891 l-0.759719982743,0.738808885217 -0.355096012354,-0.210637170821 l0.481920614839,0.0178870046511 0.494022071362,-0.280805174261 l0.445477254689,0.202680658549 -0.531567670405,0.33312279731 l0.445200838149,0.366216115654 -0.33309455961,0.847110375762 l0.186211187392,0.176073871553 -0.0268661254086,0.102631812915 l0.468411371112,-0.117480196059 0.158561505377,-0.389206893742 l0.367599315941,0.0329356151633 0.0898065418005,-0.178262703121 l0.284391287714,-0.229186713696 0.298054516315,0.0644051237032 l0.214990824461,-0.472304746509 0.444771870971,0.371901020408 l0.473037585616,-0.126760890707 0.41445363313,0.103407707065 l-0.134393125772,0.897062420845 0.734551474452,-0.138861937448 l1.25671729445,-0.2208513394 0.254554804415,-0.0993113219738 l0.140577945858,0.699567943811 -0.24995168671,0.61506409198 l0.646140426397,-0.374042242765 0.253121927381,1.49926692247 l0.495670437813,-0.0354389473796 0.587707795203,1.54582366347 l-0.188810545951,0.836052447557 0.215767826885,1.20587311685 l0.0856066960841,0.465027056634 0.156595315784,-0.284572541714 l0.0285092904232,0.343631356955 0.304913278669,0.0743848318234 l0.169955007732,-0.102377431467 -0.57062074542,0.688623040915 l0.35553175956,0.842003822327 -0.0237429887056,0.838338211179 l0.0591036537662,-0.358973406255 0.314279273152,1.37244939804 l0.166886262596,1.58260002732 0.456119813025,0.672645047307 l0.0457007391378,0.895854458213 0.373873151839,-0.0356504530646 l0.38275051862,0.352405719459 0.382101796567,-0.298955496401 l-0.0688704056665,0.15833934769 0.163674876094,-0.315294638276 l0.437767729163,0.139944925904 -0.106433806941,-0.198862683028 l-0.376255139709,-0.0261470908299 -0.384237505496,0.289931744337 l0.307741239667,1.07361756265 0.126666100696,-0.14043067582 l-0.120704909787,0.303613785654 0.18819289282,0.0367292226292 l0.218379087746,0.441007427871 -0.522577948868,1.0125079751 l0.10285644792,-0.0881783198565 -0.477433241904,-0.0136883452069 l-0.754440277815,0.458999499679 0.338393822312,0.845986828208 l-0.0334438681602,-0.592105835676 -0.742499083281,-0.137080894783 l0.602876320481,0.710982009768 0.0325104640797,-0.130216991529 l-0.368626564741,-0.846918225288 0.0497700087726,-0.00658058212139 l0.600921735168,-0.358481556177 -0.349662415683,-0.0559820700437 l1.43750220537,0.529915317893 0.56925304234,0.0911498907954 l-0.0547155132517,0.0233649509028 0.179241951555,0.232397075742 l0.38614988327,0.478510037065 0.258504115045,0.227738805115 l0.358643420041,-0.355376750231 0.228471476585,0.170117821544 l0.670960694551,-0.0514269899577 0.275274571031,0.421578846872 l0.459121279418,-0.0535758165643 0.0992266368121,0.0891137495637 l0.330773703754,0.296321809292 m59.914347584,-25.5464025756 l-0.29780883342,-0.275358781219 0.45746397227,0.424115769565 l0.0924853142351,-0.0386563548818 0.755179822445,0.221640355885 l0.133159551769,-0.118271186948 0.345489680767,-0.484798140824 l0.252901297063,0.177508741617 0.155581468716,-0.132434004918 l-0.0665298523381,0.1839229092 0.231677219272,0.313419252634 l0.0504344748333,-0.246980823576 0.540044084191,1.19936011732 l-0.0117251602933,0.506649017334 0.487423427403,0.152175240219 l-0.0816110428423,0.389442369342 0.312923192978,0.952364057302 l0.115188620985,-0.531279332936 -0.60292288661,0.135697145015 l-0.0136720959563,0.715642645955 0.35810559988,-0.0111276656389 l0.0286428513937,-0.343398712575 -0.322608910501,-0.632036104798 l0.278387535363,0.444280728698 -0.56480769068,-0.185609087348 l-0.335381254554,0.403360649943 -0.781661868095,-0.374623350799 l0.332109555602,-0.203015096486 0.362807773054,0.15846811235 l-0.195817183703,0.528890490532 0.911391675472,-0.021538680885 l0.209309719503,1.52044564486 -0.242158137262,1.12409457564 l-0.245717987418,0.450567565858 -0.0477308453992,0.0437699258327 l0.0813621841371,0.251582562923 0.168543066829,0.442689880729 l0.238614249974,0.0378606771119 0.155729549006,-0.208230987191 l0.475233159959,-0.479869581759 0.548220202327,-0.792158767581 l0.269814021885,0.243725832552 -0.286430083215,-0.427006445825 l0.122729875147,-0.104247163981 0.151375429705,0.59256054461 l-0.13243323192,0.444083064795 0.365047380328,0.423163734376 l0.388597324491,0.743040665984 0.403993092477,0.177620686591 l-0.123391458765,-0.4881433025 0.0847281422466,0.0175921875052 l0.25699628517,0.340684354305 0.00329835747834,0.83022557199 l0.362119562924,-0.142604792491 0.0958219636232,-0.272273179144 l0.524891614914,0.275604892522 -0.13222804293,0.0159072584938 l0.073025515303,0.0987455528229 0.749503672123,0.204553641379 l-0.119221648201,-0.0305332173593 0.099197011441,-0.428973957896 l0.221126805991,-0.0283575267531 -1.00024983287,0.236817020923 l-0.218243356794,0.430993027985 -0.789551958442,-0.114690680057 l0.177564285696,0.215641055256 -1.12048469484,-0.267598759383 l-0.661547034979,-0.846479535103 0.48189137131,0.443325340748 l-0.00913403462619,-0.123641751707 0.195578727871,0.0936292670667 l-0.446569658816,-0.54108325392 -0.0119749864098,0.298263765872 l0.639753192663,-1.36161834002 -0.433458052576,0.872536301613 l-0.442188680172,1.45486801863 0.149363884702,1.22453913093 l0.519070960581,0.962113589048 -0.450625196099,-0.857259333134 l0.142730223015,0.0472898595035 0.17997328192,-0.165550485253 l-0.549425706267,-0.0410233298317 0.697019770741,-0.0617135781795 l0.494384877384,0.891346335411 0.299030654132,0.169718079269 l0.0441159214824,0.367537997663 0.537999793887,0.0727236876264 l-0.548494048417,0.801452249289 0.00637936289422,-0.91001547873 l0.0134041905403,0.350802689791 0.178299620748,0.101164383814 l0.279960911721,0.269871875644 -0.0490351160988,-0.19397072494 l0.60341399163,0.594655498862 0.736130550504,-0.338976383209 l0.316202193499,-0.070211365819 0.0296637974679,0.659483000636 l-0.605560354888,1.32344663143 -0.19219301641,1.07917547226 l0.350755006075,0.886818096042 0.368683226407,1.36071309447 l0.9396802634,-0.536098927259 -0.0546823814511,0.618598610163 l0.600327514112,-0.249473769218 0.700357332826,0.376681350172 l0.199042111635,0.0444573536515 0.504094362259,-0.69910787046 l0.539532192051,0.0613071303815 0.299075879157,-0.22880513221 l0.00388757529436,0.143236489967 -0.0600090948865,1.30032286048 l0.599861964583,0.516869463027 0.0250560091808,0.505138114095 l-0.64106464386,0.215573608875 0.409360527992,1.06555595994 l0.0568701513112,-0.225430689752 0.211780946702,0.117406649515 l0.0500440830365,0.0106525071897 0.397333726287,-0.0680620037019 l0.628552809358,0.24546155706 -0.042807739228,-0.044021718204 l-0.423496626318,0.317457094789 0.252081621438,0.106294518337 l0.224467143416,-0.183040313423 0.379642955959,0.268129911274 l0.145359607413,0.349074751139 0.477084107697,0.237772446126 l0.0748851476237,-0.142144374549 0.734162628651,-0.514051802456 l0.303019322455,0.0329024577513 m66.1523424344,-15.4302441917 l-0.0991066731513,-0.101131405681 -0.0688304100186,-0.147795751691 l0.150722339749,0.588766261935 -0.0230059446767,0.128244822845 l-0.159598533064,0.304968170822 0.147162415087,0.362905822694 l0.0276442733593,0.00504712981638 -0.266382712871,0.774808675051 l0.886219069362,-0.495600029826 0.223545581102,-0.193284470588 l-0.0746165262535,0.0484570441768 0.638977214694,-0.218920651823 l-0.0369928823784,0.0392221286893 0.399333909154,-0.200463049114 l0.00234415289015,0.0778845697641 0.212202854455,0.110412538052 l0.154493013397,0.653107538819 0.242119394243,0.726468935609 l0.0644801417366,0.998983830214 0.456786043942,0.292640700936 l-0.17070190981,0.218234602362 -0.304243434221,-0.159401092678 l0.111787356436,0.834690481424 0.512195415795,-0.172977857292 l-0.466996729374,0.15087085776 0.169799514115,0.140094896778 l-0.305717177689,0.889086127281 0.0160717626568,0.197554025799 l-0.271187759936,-0.0659057404846 0.0779026001692,0.0194270547945 l-0.123685337603,0.193110648543 0.942650437355,0.0118113949429 l-0.0833703950047,-0.00460584211396 0.7634973526,0.0937288440764 l-0.474623069167,0.162192508578 0.663437098265,-0.0692610768601 l0.081978039816,-0.781523808837 0.0921385362744,-0.366668514907 l0.0299361068755,-0.769264549017 1.26003012061,-0.43370757252 l0.451194569468,0.180569943041 0.111522870138,0.34448120743 l0.151768103242,0.151427229866 0.457577034831,0.725799351931 l0.209281798452,0.149091938511 0.672701075673,0.186956487596 l0.351001545787,0.378536693752 0.410033538938,0.00208074561669 l0.0774796586484,0.0108803214971 0.326644778252,0.276859980077 l0.0959741976112,0.174747891724 -0.105811366811,0.355733856559 l0.306244567037,0.414002016187 0.316434837878,-0.113046402112 l0.596630312502,0.803869739175 0.358482636511,0.0101816875394 l-1.1323518306,-0.202416889369 -0.109179029241,-0.309909693897 l-0.588912591338,-0.376183018088 -0.6567350775,-0.720460861921 l-0.685074850917,-0.328735560179 0.135606015101,-0.698465630412 l0.230105351657,-0.296557154506 -0.0822078157216,0.144548760727 l0.344538874924,0.618563070893 0.368214771152,0.210371706635 l-0.118644060567,-0.231017861515 -0.283963084221,0.535975471139 l0.255424417555,0.403467826545 0.693868249655,-0.115838469937 l0.0930749811232,0.180542450398 -0.169860925525,0.342564322054 l0.092708747834,0.193995162845 0.458647347987,0.159500967711 l-0.273463372141,-0.228943321854 0.387896634638,-0.874039977789 l-0.319877043366,-0.126468865201 -0.0189480022527,0.250272937119 l-0.0359043595381,-0.442102178931 -0.280099995434,0.451877228916 l-0.0349027849734,0.102391857654 -0.688409656286,-1.21333092451 l0.0755154853687,0.56631244719 0.21555788815,0.441745482385 l0.436247140169,-0.316183455288 -0.248548928648,0.196029637009 l0.433356612921,0.43231703341 0.406332798302,-0.158789493144 l0.0630724988878,-0.137430801988 0.211074724793,-0.0386548927054 l0.421685650945,0.00606492394581 0.0129099213518,-0.227737911046 l-0.0267832912505,-0.0557000283152 0.488160289824,-0.350025892258 l-0.260262135416,0.427322946489 0.194791704416,1.11229009926 l0.00432318018284,0.0523863453418 0.152512360364,0.692654699087 l0.155621599406,0.747396871448 0.158508270979,-0.255412943661 l0.243943557143,0.320388190448 0.229414533824,0.780841931701 l0.0452100438997,-0.451387092471 0.0317311775871,-0.194928646088 l-0.296182651073,0.0120787532069 0.274529121816,-0.410027652979 l0.407438725233,0.690241530538 -0.52807033062,0.308389030397 l-1.1696203053,-0.281445737928 0.219004470855,-0.0616104761139 l0.151559188962,0.754232481122 0.22664193064,-0.026676049456 l0.447054877877,-0.0471750134602 0.253526307642,0.369459614158 l-0.133765870705,-0.0821185391396 0.00974896305706,-0.0541123235598 l0.481447167695,0.499243326485 0.704532265663,-0.29321692884 l-0.393821895123,0.373382642865 0.150093045086,-0.198487024754 l0.125218508765,-0.0209444086067 0.154299605638,-0.319873318076 l0.420841351151,0.293430015445 0.0755436904728,-0.450219921768 l-0.0976488552988,-0.509339869022 -0.401736535132,-0.323876589537 l-0.0895450077951,-0.157982930541 0.592872090638,0.105073582381 l0.197913944721,0.52621666342 m62.6163156342,-14.7919857108 l0.235239192843,-0.0581774208695 0.216258727014,-0.258951988071 l0.193874035031,6.46351372779e-05 -0.518585070968,1.03589944541 l0.304147154093,0.21394694224 0.579651258886,1.08291454613 l0.198771804571,-0.0464961305261 0.681204721332,0.673728212714 l-0.0632530264556,0.146549390629 -0.0844559818506,0.270582176745 l-1.30374059081,-0.798478126526 -0.232030507177,0.435194149613 l0.0382931437343,1.06109976768 -0.880232304335,1.44218340516 l1.21477492154,0.0434713298455 0.373392365873,0.536653883755 l1.29000261426,1.22270420194 1.15781530738,0.0575000187382 l0.0680284388363,0.369751565158 -0.185068827122,-0.0912296492606 l0.15737336129,0.53060438484 0.498836971819,-0.0920223724097 l-0.33210337162,0.304695572704 0.277933739126,0.510627143085 l0.0287109659985,-0.0383196678013 0.195771697909,-0.148428194225 l0.765276998281,0.237526278943 0.397278405726,-0.623549632728 l0.143989454955,0.0910668354481 0.336863100529,-0.0799537077546 l0.263008680195,-0.200948864222 0.584489032626,-0.187358539551 l0.344816707075,-0.0891497544944 -0.543035231531,0.182468239218 l0.815630853176,0.26039486751 0.254851300269,0.28054267168 l0.355136357248,-0.00876202888321 -0.0958820153028,0.0770211825147 l-0.102305170149,0.0320247048512 -0.0777836889029,0.0866776984185 l0.27699066326,0.422711707652 0.374086424708,-0.68479552865 l0.239912290126,0.989969670773 0.438769645989,0.36901589483 l-1.15193106234,0.296792909503 0.263992883265,-0.834217295051 l0.431335121393,0.164543185383 0.336276553571,-0.346048511565 l0.134296538308,0.162955764681 0.513370223343,-0.272288806736 l0.609514340758,-0.275626871735 0.547979585826,1.20147377253 l0.433954969049,0.519946813583 0.0120527355466,0.19435800612 l-0.0783333741128,-0.143117373809 0.0207088305615,0.288211852312 l0.346079021692,0.627170652151 -0.394704528153,-0.0759143568575 l0.00738095957786,-0.00290821219096 1.04329697788,-0.0739628775045 l0.312423631549,0.319722928107 -0.0151894427836,0.553987063468 l-0.312401521951,0.0217157183215 -0.0670378142968,0.0478562386706 l-0.0581500260159,-0.0481254560873 0.281253065914,0.275649987161 l-0.145044038072,-0.916078537703 0.00577940489165,-0.0464023230597 l0.553625635803,0.526459440589 0.508652068675,-0.137952342629 l-0.753652006388,-0.240832753479 -0.146600184962,-0.744259208441 l-0.545342303813,0.0915472675115 1.16327367723,0.38173340261 l-0.0227076211013,1.64673298597 0.533605478704,0.756454393268 l-0.0926468614489,0.156329516321 0.403410829604,0.518086068332 l0.236667338759,-0.404538586736 -0.444352515042,-0.563255138695 l-0.414313711226,0.0433405442163 0.111749386415,0.147649450228 l-0.384524688125,-0.474394001067 -0.0386634748429,-0.528424121439 l0.025776126422,-0.579860284925 -1.03473544121,-0.776370242238 l0.370890721679,0.306161753833 0.0833814032376,0.238607004285 l1.21347650886,0.763759613037 0.320531763136,0.565650016069 l0.625668764114,0.217007882893 0.123507296667,-0.148910926655 l1.05240866542,0.036552993115 0.79946488142,0.028245577123 l-0.0987922120839,1.48839309812 0.26550238952,0.0772500224411 l0.646647959948,0.861086696386 0.415794141591,0.171197727323 l0.413232631981,1.652636379 -0.154381971806,1.23392432928 l0.179428737611,-0.1442550309 0.409855172038,0.206800028682 l0.492330379784,0.649073645473 0.286378189921,0.0550396228209 l0.672350972891,-0.360042266548 0.194280818105,-0.378570109606 l0.319766625762,0.480558350682 0.34793343395,-0.0118832429871 l0.194435454905,-0.942719057202 0.120048802346,-0.427572466433 l-0.476581938565,-0.591736026108 0.465950220823,-0.653801932931 l0.118379592896,0.673775598407 0.406316183507,-0.832395553589 l0.533617325127,1.13350532949 0.193827766925,0.00230908481171 l-0.508876889944,0.932788550854 -0.185384750366,0.722705721855 l0.474642105401,0.0190874480177 -0.317399092019,-0.322060920298 l-0.0429523363709,0.295542310923 0.36419197917,0.871372818947 l0.236719045788,0.806128904223 0.158352404833,0.451911054552 l0.217810701579,0.0397292897105 0.234584286809,-1.36149957776 l-0.191027466208,-0.417615845799 -1.15115240216,-0.184969455004 l-0.125167975202,-0.136314099655 m58.9006278716,-16.4888738268 l-0.10505611077,-0.324910804629 0.199951641262,0.291339084506 l0.0424971990287,-0.0995789375156 0.14097802341,0.166772771627 l0.0573177915066,-0.199620835483 0.469246283174,-0.313750505447 l0.44983830303,0.268293228 -0.465504713356,-0.294526144862 l-0.298280753195,0.00226861506235 -0.00129191612359,0.28688929975 l0.388401374221,0.156778693199 0.0774237606674,0.975613221526 l0.363021157682,-0.0315778027289 0.552453324199,0.587548911572 l-0.0103043904528,0.168824959546 -0.360778719187,-0.103459367529 l0.0101632846054,0.473434738815 0.768768340349,0.440255068243 l0.332946106791,0.356594063342 0.0098478270229,1.08806103468 l-0.055238911882,-1.12962372601 0.147802261636,-0.240294113755 l-0.0129436177667,0.00305396853946 0.151955923066,0.243438836187 l0.0942703057081,0.0708165299147 -0.0842613354325,1.10514350235 l-0.113462293521,-0.020297660958 0.177154578269,-0.109290042892 l0.0693142414093,0.247412342578 -0.117045305669,0.268617458642 l-0.195730254054,0.212781205773 0.185738578439,-0.0815437827259 l1.33883669972,-0.427274741232 0.0764199346304,0.0446713436395 l-0.427207872272,-0.332410894334 0.492556020617,0.149634545669 l0.0110163178761,0.143376821652 1.2999214232,0.609207637608 l0.331427417696,-0.249084681273 0.543297640979,0.424183234572 l-0.209227986634,0.0405429210514 0.384937636554,-0.160182863474 l-0.0903050880879,-0.236807130277 -0.161545984447,0.0121032923926 l0.136432731524,0.343787819147 0.317265987396,0.942128449678 l0.332313999534,0.0724312849343 -0.0656970310956,0.410313718021 l0.51938701421,0.237467549741 0.160812661052,0.314919054508 l0.321702472866,-0.0474551972002 0.575734116137,0.504019707441 l0.49161169678,1.03221684694 -0.224186182022,1.20560258627 l0.097417794168,-0.635919943452 -0.0504440162331,-0.0949440803379 l0.388417169452,0.230954680592 0.571468994021,-0.895357429981 l-0.161939673126,-0.354196615517 -0.25724766776,1.40533313155 l0.141419935971,-0.506470128894 0.550234057009,-0.0489304540679 l-0.0790208391845,0.516009405255 0.815690383315,0.369418561459 l0.0682829646394,-0.0667695701122 -0.277504995465,0.590188652277 l0.385518856347,0.679306536913 0.0371346157044,1.02336108685 l0.558817051351,-0.210211016238 0.237179584801,0.0465801358223 l0.212308671325,0.0159453821834 0.0111815694254,-0.0115670193918 l0.141687132418,-0.210172943771 -0.156589262187,0.0180726707913 l-0.753784924746,-0.310658123344 0.210233721882,-0.847047716379 l-0.602474361658,0.903506278992 0.0482268538326,-0.577642694116 l0.131151620299,0.109054269269 0.182349588722,0.588154532015 l0.181936658919,-0.138438623399 -0.0540472380817,-0.248072147369 l-0.18731540069,0.16280721873 1.17381542921,-0.437905974686 l0.334651470184,0.394473336637 -0.592005327344,-0.0722629344091 l-0.177293587476,0.522635690868 -0.00272860081168,0.381493940949 l0.358588397503,0.0185853999574 -0.0901513360441,0.121762789786 l0.284133534878,0.69999948144 0.782313644886,0.836813524365 l0.529642030597,0.501391328871 -0.0797878671438,-0.0479251239449 l0.226020105183,0.0716821057722 0.390486717224,-0.155704887584 l-0.0097626488423,0.0708052609116 -0.329041928053,0.278324317187 l0.130253024399,-0.861420482397 -0.141813298687,0.164322014898 l-0.121882138774,0.135074015707 0.185681506991,0.0636534113437 l0.582625418901,-0.120253833011 0.345207341015,0.178489796817 l-0.329985879362,-0.0141131028067 0.0648577464744,-0.192104782909 l-0.492509230971,0.0755348615348 -0.534454248846,0.995324924588 l0.385934337974,0.1550963521 -0.187286995351,-0.375988446176 l0.411633439362,-0.241528078914 0.584121905267,-0.281499102712 l0.570787452161,0.137721346691 0.738360732794,0.0130312598776 l-0.314050763845,-0.0283728935756 1.03253543377,0.447136797011 l0.315545536578,0.170248374343 0.464306361973,-0.290038194507 l0.104353809729,0.42761284858 0.0642059184611,-0.420011654496 l0.818649083376,-0.210214182734 0.467106737196,0.261319372803 l-0.277178511024,0.36229364574 0.485401712358,0.249941051006 l0.0655852118507,0.300575178117 0.313929319382,0.260491278023 l0.843447893858,0.100329499692 0.342954881489,-0.286003798246 l0.00469232123578,0.188128519803 m60.8418242125,-20.8446628548 l0.249124448746,-0.257110912353 0.618824362755,1.02158099413 l-0.169267971069,0.498472899199 0.0809399131685,0.232534259558 l0.406810827553,-0.307753067464 1.39616951346,0.696247890592 l0.471014268696,-0.0289543508552 -0.0354751734994,0.158362574875 l0.441739484668,-0.433790609241 0.517436377704,0.942728370428 l-0.118718519807,-0.161317959428 -0.438434816897,0.529405400157 l0.181497838348,-0.00818468106445 0.477853789926,0.128527926281 l-0.297146998346,-0.5433177948 0.115229422227,0.138749480247 l0.00427923630923,-0.186905562878 -0.411749556661,-0.32443407923 l0.145490076393,0.873094499111 -0.244946237653,0.35196442157 l0.438398569822,0.44227771461 -0.498146042228,-0.919626951218 l0.858227014542,-0.369499288499 -0.420561768115,0.192117858678 l0.339873693883,0.558636300266 0.24639274925,-0.19813798368 l0.129435583949,-0.41197784245 0.0426901457831,-0.0443698884919 l-0.0244641350582,0.143362665549 -0.616447739303,0.527274161577 l-1.4296297729,0.672653838992 0.164932236075,0.106860436499 l-0.693891569972,-1.0403983295 0.0519706029445,0.204932037741 l-0.127001218498,-0.13095041737 -0.0739441160113,0.260967742652 l-0.13625126332,0.211007464677 -0.200526881963,0.52307035774 l0.0101632915903,0.0104367546737 -0.491593033075,-0.0179562508129 l-0.290843993425,0.236081834882 -0.116504998878,0.0631140964106 l0.191200841218,-0.15350645408 1.19548670948,-0.288643166423 l0.655384510756,-0.580961704254 -0.406150445342,0.0195460719988 l0.406650528312,-0.260602012277 0.425636619329,1.07048459351 l0.40709413588,0.0912606250495 0.571508035064,-0.388717502356 l0.426858924329,-0.107192257419 0.868323668838,-0.31068302691 l0.115804830566,0.752939730883 -0.162239801139,0.565174035728 l-0.29277227819,-0.711320862174 0.098112989217,-0.307334642857 l0.0149016699288,0.337943919003 -0.0479703396559,-0.187864042819 l-0.0137927057222,0.313629321754 -0.264269262552,-0.069531975314 l0.198762025684,-0.067169200629 0.382869765162,0.305562764406 l-0.0614385399967,-1.13440185785 0.325261875987,-0.0506158638746 l-0.206366609782,-0.119102941826 0.0413583870977,2.02892392874 l0.184999033809,0.311889052391 0.0447946414351,-0.145807182416 l0.555953830481,-0.0841239653528 0.414574332535,0.0426184479147 l-0.0571400579065,0.959940105677 -0.419509895146,0.92739969492 l-0.142212696373,0.701322555542 -0.0823613069952,0.0302146119066 l0.109981736168,0.237506441772 -0.0158563500736,0.291744414717 l0.748766511679,0.570804588497 0.142686227337,0.834762752056 l0.634407103062,0.157817360014 0.793873816729,0.471932180226 l-0.395894013345,0.785822570324 0.232524611056,1.01181164384 l-0.0171223049983,0.0467711687088 0.32496932894,0.219815205783 l-0.0288146105595,0.779646262527 0.331895388663,-0.702473148704 l-0.257078204304,0.551047921181 -0.521592646837,0.274595525116 l0.404782257974,0.585850924253 -0.752813741565,0.407543256879 l0.24201175198,0.337419584394 0.22292772308,0.367982648313 l0.543403737247,1.17429614067 0.333048403263,-0.171528290957 l-0.0519068073481,0.120534431189 0.259396359324,0.948781371117 l0.153158018366,-0.227947812527 0.880972743034,-0.038857141044 l-0.218254700303,0.428577028215 0.096947029233,0.083258068189 l-0.571757815778,-0.144277196378 0.176677685231,-0.194304902107 l-0.112016918138,0.0205534300767 -0.646564438939,0.741707906127 l0.351823754609,0.55786177516 0.12183344923,0.576666370034 l0.0442207511514,0.446592085063 0.00477312045405,0.382903665304 l0.425688996911,-0.065094102174 0.398569330573,0.00960468081757 l0.30074659735,-0.386676862836 0.321882627904,0.172016341239 l0.661606416106,0.73448471725 1.61702945828,0.703041926026 l0.0353815895505,0.326961427927 0.345529913902,0.157445389777 l0.0542997010052,0.278791021556 0.623339377344,-0.153974378482 l0.217960309237,0.595531947911 0.0843710824847,0.447796583176 l-0.240582544357,0.0981485471129 0.422898158431,0.306050293148 l0.624590441585,0.97371339798 0.0491021480411,1.33318439126 l0.874810740352,-0.121574634686 -0.0421408191323,0.61694521457 l0.45183815062,0.00934863346629 0.793572589755,0.321826562285 l0.0254873069935,-0.138418981805 m64.6038564444,-22.1695603841 l0.126146590337,-0.246182624251 -1.44471183419,-0.365194007754 l-0.0513062765822,0.321755968034 -0.0203368603252,0.11340350844 l-0.209205970168,0.0097548920894 -0.678171589971,0.175428390503 l-0.454136356711,0.544762089849 0.373660549521,-0.0868614576757 l0.166135020554,0.267876200378 0.0449627172202,1.04008056223 l0.203523505479,0.00281298474874 -0.480211153626,0.0633975537494 l-0.318179689348,0.276070274413 -0.183065067977,0.108522102237 l0.243537705392,0.344908237457 0.203009732068,0.0377214490436 l0.258216578513,0.0626634387299 0.08659331128,0.408270992339 l0.260164085776,0.0146188144572 0.558496825397,0.050486298278 l-0.358555950224,0.348210707307 0.589307509363,0.304632261395 l0.588014274836,-0.555777847767 0.304019525647,0.560356862843 l0.397333092988,0.544685013592 0.150753073394,0.0918552838266 l-0.417417772114,-0.277229361236 -0.404701121151,-0.634599328041 l0.621873214841,0.0701384246349 0.0275426008739,0.129901645705 l0.985007584095,-0.17502842471 0.284225791693,-0.0203692121431 l0.0338297826238,0.103993304074 0.186460409313,0.264370180666 l0.246421750635,-0.141615569592 0.380204245448,0.849851742387 l-0.532434955239,0.198562871665 0.165751203895,-0.240781735629 l0.0749295949936,0.0505117513239 0.229381714016,0.320499949157 l0.0529114110395,0.403164811432 -0.0940732564777,0.653145909309 l0.382190234959,0.362886823714 0.578334778547,0.115340333432 l0.314930640161,0.696776658297 0.408586114645,0.414226278663 l0.36957282573,-0.365830175579 -0.746659711003,0.690260604024 l0.0641894852743,0.133672142401 0.179545227438,-0.887883529067 l0.69941163063,0.446601510048 0.806008279324,1.17210298777 l0.488434061408,0.551704838872 -0.369122177362,-0.0380237400532 l0.0651642587036,-0.085751209408 0.184705778956,-0.0712524959818 l-0.377871766686,-0.693363621831 -0.405242070556,-0.347443707287 l0.0878041051328,-0.526632480323 0.590118207037,-1.42251044512 l0.222242623568,-0.511234477162 0.294628906995,0.43184991926 l0.0678304489702,0.531023703516 -0.245508756489,0.241359230131 l0.173847842962,0.065746945329 0.299318172038,-0.117699615657 l0.448138639331,0.960996448994 0.355673655868,0.158629715443 l0.0218103430234,1.07684284449 -0.0686027714983,0.00495464308187 l-0.0273257261142,0.96659347415 -0.272938851267,0.921403691173 l0.281865000725,0.253415666521 0.520436875522,-0.130230356008 l0.361532308161,0.240401532501 0.307449121028,-0.20065844059 l0.338391140103,0.373457223177 -0.149379037321,0.293320156634 l0.0607608398423,0.0131842645351 0.372147038579,0.356114543974 l1.05019979179,-0.0630218908191 0.52647870034,0.0707280403003 l0.78987903893,0.164160355926 0.325411334634,-0.203951336443 l0.413878187537,-0.186010170728 0.0912932772189,0.609857998788 l-0.290234871209,-0.0796153675765 0.247125346214,-0.082292649895 l-0.336051508784,-0.307353287935 -0.292387641966,0.131122944877 l0.130124958232,0.393485166132 -0.116337779909,0.499175898731 l0.212222542614,0.611843951046 0.0851897522807,0.574023760855 l0.340490080416,0.0626484723762 0.982452556491,0.802366286516 l-0.0103619333822,-0.0536494422704 0.272046979517,0.133716678247 l0.490049533546,0.370291955769 -1.0481376946,1.27360999584 l0.616550445557,0.0589955318719 0.167675837874,0.0720270443708 l0.283570867032,0.476045198739 0.0147322192788,-0.297827795148 l0.183988362551,-0.0642030825838 -0.0441804202273,0.0657563610002 l0.150799183175,0.115278493613 0.874671041965,-0.446401797235 l-0.116567509249,0.355918258429 0.0319306063466,-1.66194617748 l-0.0144009117503,-0.429660454392 -1.02936051786,0.0852143578231 l-0.0856989249587,0.100861536339 0.0462278863415,0.921913012862 l0.215205606073,0.502434819937 0.160582177341,0.685889348388 l-0.153104541823,0.857227221131 0.0587423192337,0.50713993609 l-0.0567793147638,0.175318922848 0.220441557467,-0.69457501173 l0.121332891285,-0.0754991266876 0.0486644404009,0.175265334547 l0.337638780475,-0.101259127259 0.363110974431,-0.358562096953 l0.631642639637,-0.569812096655 0.199167244136,-0.513686724007 l0.218463819474,0.332198701799 -0.410430952907,-0.535652302206 l0.317645780742,-0.499797388911 m60.7781625775,-14.0459518235 l-0.51064632833,-0.33752553165 0.197839960456,0.362041443586 l-0.202035792172,-0.770019292831 0.119112581015,-0.00862160290126 l0.204279627651,0.326520875096 0.471586622298,0.181206632406 l0.415575951338,-0.0240695360117 -0.198766682297,0.00385796971386 l0.683289915323,0.279627777636 0.195848476142,-0.951811075211 l0.358623974025,0.350354984403 0.0487533537671,-0.297885872424 l0.549782551825,0.656175836921 0.0697821006179,0.548650659621 l0.802949890494,0.133802341297 0.408122614026,-0.0899814628065 l-0.141147561371,0.52633639425 0.20877758041,0.519594140351 l-0.378017090261,1.25104531646 0.760435536504,-0.171571038663 l-0.133930183947,0.20553285256 -0.142225166783,0.108076604083 l0.381813645363,0.262132324278 0.836817771196,-0.685488879681 l0.457940921187,-0.0904491636902 0.456261225045,-0.115511892363 l0.216907095164,0.162218939513 0.226892307401,0.879136621952 l-0.483466796577,0.223206169903 0.181690305471,-0.37767149508 l-0.0538780214265,0.074895801954 0.432107076049,-0.296757854521 l-0.0492678396404,0.274218637496 -0.190103892237,1.35923787951 l-0.289301946759,1.16359680891 0.156347416341,0.761125981808 l0.330994464457,0.0423228088766 0.401479899883,0.164702609181 l0.294305887073,-0.626470968127 0.327053740621,0.294900592417 l0.537309497595,-0.262281503528 0.363474525511,0.0301616173238 l0.243859291077,0.352510251105 0.614055655897,-0.353158414364 l-0.252378303558,0.230908542871 0.179611183703,0.451980307698 l-0.128765469417,-0.345666222274 0.0860512815416,-0.287701878697 l-0.509061776102,0.239103659987 0.0296009308659,-0.0451448978856 l-0.263709034771,-0.396701470017 -0.202068947256,0.252914875746 l-0.0794849451631,0.0904441066086 -0.18040722236,0.496763810515 l0.139037901536,0.0322157307528 -0.109973875806,-0.0352888088673 l0.213864296675,0.0389669230208 -0.0481113092974,-0.010628598975 l0.280622523278,0.313463509083 -0.187087096274,-0.042989240028 l0.293014142662,-0.617315843701 0.604151301086,-0.399015881121 l0.562895648181,0.158007014543 -0.243922080845,-0.644265115261 l0.158991105855,-0.708037465811 0.41245251894,0.144462669268 l0.322449170053,0.452398993075 -0.0118061096873,0.752952471375 l0.363745167851,0.38257535547 -0.143482461572,-0.307815652341 l0.295528359711,0.821784287691 0.450001209974,-0.0342264818028 l-0.0816741492599,-0.0378159154207 -0.489615499973,0.34159000963 l-1.107359007,0.308379642665 0.185489803553,-0.264133326709 l-0.185551308095,0.0534087745473 0.360468514264,-0.171361677349 l0.84259018302,-0.130903897807 0.64220443368,0.661628842354 l0.725240707397,0.579899065197 0.275019481778,-0.581396259367 l-0.699036046863,0.937157943845 0.00462526921183,1.6555929184 l-0.416997000575,0.551265254617 0.669127255678,-0.597545914352 l0.192238651216,-0.195624567568 0.103428727016,-0.392037965357 l-0.139346420765,0.749312788248 0.535095930099,-0.00470850762213 l0.299832783639,-0.0963233597577 0.27818499133,0.00579472864047 l0.290427003056,0.370939970016 0.192827749997,-0.1750010252 l0.491160340607,0.245598852634 0.615466311574,0.142589826137 l0.107007138431,0.0103456049692 -0.211992729455,-0.125973848626 l0.305154863745,0.1231315732 -0.0954824220389,0.857141166925 l0.362211167812,0.378877669573 0.706201344728,-0.036378572695 l-0.195677671582,0.591840259731 0.370258204639,-0.819641053677 l0.747668072581,-0.0543592125177 -0.0306858750992,0.213907305151 l-0.0874853599817,-0.013109757565 -0.0783342774957,0.0962557457387 l0.0823993328959,0.310787092894 -0.159760005772,-0.330322273076 l0.453475043178,0.829779654741 0.286809429526,0.0313055911101 l0.00963500409853,-0.0897912215441 -0.99922798574,-0.358440391719 l-0.0388558348641,0.0108332757372 0.0512360641733,-0.257276631892 l0.172554794699,0.376720577478 0.225739125162,0.487543791533 l0.296657998115,1.03040359914 0.0796233210713,-0.509859919548 l0.127394152805,0.281365700066 0.188526790589,-0.612419098616 l0.426352284849,-0.336397327483 -0.921735242009,0.25386640802 l-0.0146912236232,0.460732132196 0.343338698149,-0.0225992291234 l0.678935721517,0.210981946439 0.53131043911,1.02128863335 l0.243453085423,0.0622429465875 m70.6796435956,-7.89410448502 l-0.0819419510663,-0.193113666028 0.388258881867,0.473319366574 m79.4459287729,-1.20851729065 l0.434173159301,-0.761682316661 -0.213204361498,-0.0901246257126 l0.258716437966,0.201888419688 0.0951310247183,0.336843840778 l0.956328734756,0.751101225615 -0.872112512589,0.493095815182 l-0.0300969416276,0.727262496948 \" fill=\"none\" stroke=\"black\" stroke-width=\"1\"/></svg>"
      ],
      "text/plain": [
       "<IPython.core.display.SVG object>"
      ]
     },
     "metadata": {},
     "output_type": "display_data"
    }
   ],
   "source": [
    "# interpolation\n",
    "z0 = np.random.randn(eval_model.hps.z_size)\n",
    "_ = decode(z0)\n",
    "\n",
    "z1 = np.random.randn(eval_model.hps.z_size)\n",
    "_ = decode(z1)\n",
    "\n",
    "z_list = [] # interpolate spherically between z0 and z1\n",
    "N = 10\n",
    "for t in np.linspace(0, 1, N):\n",
    "  z_list.append(slerp(z0, z1, t))\n",
    "\n",
    "# for every latent vector in z_list, sample a vector image\n",
    "reconstructions = []\n",
    "for i in range(N):\n",
    "  reconstructions.append([decode(z_list[i], draw_mode=False), [0, i]])\n",
    "\n",
    "stroke_grid = make_grid_svg(reconstructions)\n",
    "draw_strokes(stroke_grid)"
   ]
  },
  {
   "cell_type": "code",
   "execution_count": null,
   "metadata": {},
   "outputs": [],
   "source": [
    "# proj code: attempt to draw half then switch z vector"
   ]
  }
 ],
 "metadata": {
  "kernelspec": {
   "display_name": "Python 2",
   "language": "python",
   "name": "python2"
  },
  "language_info": {
   "codemirror_mode": {
    "name": "ipython",
    "version": 2
   },
   "file_extension": ".py",
   "mimetype": "text/x-python",
   "name": "python",
   "nbconvert_exporter": "python",
   "pygments_lexer": "ipython2",
   "version": "2.7.14"
  }
 },
 "nbformat": 4,
 "nbformat_minor": 1
}
